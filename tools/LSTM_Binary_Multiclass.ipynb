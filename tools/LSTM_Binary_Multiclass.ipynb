{
  "cells": [
    {
      "cell_type": "markdown",
      "metadata": {
        "id": "ZWshByAZpXUb"
      },
      "source": [
        "##**LSTM based Binary Classification of Anomilies in IOT data**\n",
        "\n"
      ]
    },
    {
      "cell_type": "code",
      "execution_count": null,
      "metadata": {
        "id": "_XuPQfoMoGN6"
      },
      "outputs": [],
      "source": [
        "import numpy as np\n",
        "import tensorflow as tf\n",
        "import pandas as pd\n",
        "from tensorflow import keras\n",
        "from matplotlib import pyplot as plt\n",
        "import matplotlib.pyplot as plt\n",
        "\n",
        "\n",
        "from sklearn import preprocessing\n",
        "from sklearn.model_selection import train_test_split\n",
        "\n",
        "from keras.models import Sequential\n",
        "from keras.layers import Dense, Dropout, Activation, Embedding\n",
        "from keras.layers import LSTM"
      ]
    },
    {
      "cell_type": "code",
      "execution_count": null,
      "metadata": {
        "colab": {
          "base_uri": "https://localhost:8080/"
        },
        "id": "MKIRLfNC1YB7",
        "outputId": "8921b94b-f287-4006-cef9-dbff2fa1eda3"
      },
      "outputs": [
        {
          "output_type": "stream",
          "name": "stdout",
          "text": [
            "Mounted at /content/gdrive\n"
          ]
        }
      ],
      "source": [
        "from google.colab import drive\n",
        "drive.mount('/content/gdrive')"
      ]
    },
    {
      "cell_type": "markdown",
      "metadata": {
        "id": "7yVOPPwSzaZO"
      },
      "source": [
        "# prepare IOTID20 dataset\n"
      ]
    },
    {
      "cell_type": "code",
      "execution_count": null,
      "metadata": {
        "id": "kJ-2Y1Yi1ZVD"
      },
      "outputs": [],
      "source": [
        "data = pd.read_csv('/content/gdrive/MyDrive/IoT/Binary_OverSample_Smote.csv')"
      ]
    },
    {
      "cell_type": "code",
      "execution_count": null,
      "metadata": {
        "colab": {
          "base_uri": "https://localhost:8080/"
        },
        "id": "aS54pzHF1bt2",
        "outputId": "3305b27d-f8c8-4842-ee86-010f2fc731c7"
      },
      "outputs": [
        {
          "output_type": "execute_result",
          "data": {
            "text/plain": [
              "0"
            ]
          },
          "metadata": {},
          "execution_count": 4
        }
      ],
      "source": [
        "data.isnull().sum().sum()"
      ]
    },
    {
      "cell_type": "code",
      "execution_count": null,
      "metadata": {
        "id": "sWit-vBo1dqm"
      },
      "outputs": [],
      "source": [
        "data=data.drop(columns=['Fwd_Pkt_Len_Std',\n",
        " 'Bwd_IAT_Std',\n",
        " 'Fwd_PSH_Flags',\n",
        " 'Bwd_PSH_Flags',\n",
        " 'Fwd_URG_Flags',\n",
        " 'Bwd_URG_Flags',\n",
        " 'FIN_Flag_Cnt',\n",
        " 'SYN_Flag_Cnt',\n",
        " 'RST_Flag_Cnt',\n",
        " 'PSH_Flag_Cnt',\n",
        " 'URG_Flag_Cnt',\n",
        " 'CWE_Flag_Count',\n",
        " 'ECE_Flag_Cnt',\n",
        " 'Fwd_Byts/b_Avg',\n",
        " 'Fwd_Pkts/b_Avg',\n",
        " 'Fwd_Blk_Rate_Avg',\n",
        " 'Bwd_Byts/b_Avg',\n",
        " 'Bwd_Pkts/b_Avg',\n",
        " 'Bwd_Blk_Rate_Avg',\n",
        " 'Init_Fwd_Win_Byts',\n",
        " 'Fwd_Seg_Size_Min',\n",
        " 'Active_Mean',\n",
        " 'Active_Std',\n",
        " 'Active_Max',\n",
        " 'Active_Min',\n",
        "])"
      ]
    },
    {
      "cell_type": "markdown",
      "metadata": {
        "id": "5LSiGDKLSlee"
      },
      "source": [
        "# Normalization and Standardization"
      ]
    },
    {
      "cell_type": "code",
      "execution_count": null,
      "metadata": {
        "id": "y9WldyZr1hjJ"
      },
      "outputs": [],
      "source": [
        "normalized_df = (data-data.min())/(data.max()-data.min())"
      ]
    },
    {
      "cell_type": "code",
      "execution_count": null,
      "metadata": {
        "id": "IaTw9Tln1rde"
      },
      "outputs": [],
      "source": [
        "normalized_df = normalized_df.dropna()"
      ]
    },
    {
      "cell_type": "code",
      "execution_count": null,
      "metadata": {
        "id": "ewJkbl8C1s2j"
      },
      "outputs": [],
      "source": [
        "features = normalized_df.drop(columns=['Label']).to_numpy()\n",
        "labels = normalized_df[['Label']].to_numpy()"
      ]
    },
    {
      "cell_type": "code",
      "execution_count": null,
      "metadata": {
        "colab": {
          "base_uri": "https://localhost:8080/"
        },
        "id": "2vA5ui2z1ujd",
        "outputId": "b06cabfe-00bd-4034-8bd8-ed4cc801f8fe"
      },
      "outputs": [
        {
          "output_type": "execute_result",
          "data": {
            "text/plain": [
              "((1170684, 51), (1170684, 1))"
            ]
          },
          "metadata": {},
          "execution_count": 9
        }
      ],
      "source": [
        "features.shape, labels.shape"
      ]
    },
    {
      "cell_type": "code",
      "execution_count": null,
      "metadata": {
        "id": "WYpf1TzA1vyh"
      },
      "outputs": [],
      "source": [
        "x_train, x_test, y_train, y_test = train_test_split(features, labels, test_size=0.2, random_state=1)"
      ]
    },
    {
      "cell_type": "code",
      "execution_count": null,
      "metadata": {
        "colab": {
          "base_uri": "https://localhost:8080/"
        },
        "id": "K2OFpHVa679A",
        "outputId": "cc38655a-161b-444b-a587-329d815b0144"
      },
      "outputs": [
        {
          "output_type": "execute_result",
          "data": {
            "text/plain": [
              "((936547, 51), (234137, 51), (936547, 1), (234137, 1))"
            ]
          },
          "metadata": {},
          "execution_count": 11
        }
      ],
      "source": [
        "x_train.shape , x_test.shape , y_train.shape , y_test.shape"
      ]
    },
    {
      "cell_type": "code",
      "execution_count": null,
      "metadata": {
        "colab": {
          "base_uri": "https://localhost:8080/"
        },
        "id": "0dGwgN5z7djM",
        "outputId": "91cb8876-7a9c-42dd-ad9c-83fd78675990"
      },
      "outputs": [
        {
          "output_type": "execute_result",
          "data": {
            "text/plain": [
              "((234137, 1, 51), (936547, 1, 51))"
            ]
          },
          "metadata": {},
          "execution_count": 12
        }
      ],
      "source": [
        "x_train1 = x_train.reshape((936547, 1 , 51))\n",
        "x_test1 = x_test.reshape((234137,1,51))\n",
        "y_train1 =  y_train.reshape(936547,1,1)\n",
        "y_test1 =  y_test.reshape(234137,1, 1)\n",
        "x_test1.shape , x_train1.shape"
      ]
    },
    {
      "cell_type": "markdown",
      "metadata": {
        "id": "Yo7JVVvQTTP4"
      },
      "source": [
        "# Binary classifier model using LSTM\n"
      ]
    },
    {
      "cell_type": "code",
      "execution_count": null,
      "metadata": {
        "id": "25ZCbBD8pc1y"
      },
      "outputs": [],
      "source": [
        "modelbinary = Sequential()\n",
        "modelbinary.add(LSTM(128,input_shape=(1,51), return_sequences=True))  # try using a LSTM instead, for fun\n",
        "modelbinary.add(LSTM(64, return_sequences=True))  # try using a LSTM instead, for fun\n",
        "modelbinary.add(LSTM(28, return_sequences=False))  # try using a LSTM instead, for fun\n",
        "modelbinary.add(Dense(1))\n",
        "modelbinary.add(Activation('sigmoid'))"
      ]
    },
    {
      "cell_type": "code",
      "execution_count": null,
      "metadata": {
        "id": "Ip2clROL11ly"
      },
      "outputs": [],
      "source": [
        "modelbinary.compile(optimizer='nadam',\n",
        "              loss='binary_crossentropy',\n",
        "              metrics=['accuracy','Precision', 'Recall'])"
      ]
    },
    {
      "cell_type": "code",
      "execution_count": null,
      "metadata": {
        "colab": {
          "base_uri": "https://localhost:8080/"
        },
        "id": "51r78FST13fH",
        "outputId": "12b25817-b1c4-4bfc-e6b7-88cec5cb31f6"
      },
      "outputs": [
        {
          "output_type": "stream",
          "name": "stdout",
          "text": [
            "Epoch 1/20\n",
            "29268/29268 [==============================] - 282s 9ms/step - loss: 0.1724 - accuracy: 0.9313 - precision: 0.9298 - recall: 0.9331\n",
            "Epoch 2/20\n",
            "29268/29268 [==============================] - 270s 9ms/step - loss: 0.1189 - accuracy: 0.9556 - precision: 0.9573 - recall: 0.9539\n",
            "Epoch 3/20\n",
            "29268/29268 [==============================] - 269s 9ms/step - loss: 0.1083 - accuracy: 0.9593 - precision: 0.9625 - recall: 0.9559\n",
            "Epoch 4/20\n",
            "29268/29268 [==============================] - 269s 9ms/step - loss: 0.1012 - accuracy: 0.9616 - precision: 0.9662 - recall: 0.9567\n",
            "Epoch 5/20\n",
            "29268/29268 [==============================] - 269s 9ms/step - loss: 0.0960 - accuracy: 0.9637 - precision: 0.9688 - recall: 0.9582\n",
            "Epoch 6/20\n",
            "29268/29268 [==============================] - 267s 9ms/step - loss: 0.0929 - accuracy: 0.9651 - precision: 0.9704 - recall: 0.9594\n",
            "Epoch 7/20\n",
            "29268/29268 [==============================] - 267s 9ms/step - loss: 0.0905 - accuracy: 0.9658 - precision: 0.9713 - recall: 0.9601\n",
            "Epoch 8/20\n",
            "29268/29268 [==============================] - 266s 9ms/step - loss: 0.0888 - accuracy: 0.9665 - precision: 0.9721 - recall: 0.9606\n",
            "Epoch 9/20\n",
            "29268/29268 [==============================] - 266s 9ms/step - loss: 0.0873 - accuracy: 0.9670 - precision: 0.9728 - recall: 0.9610\n",
            "Epoch 10/20\n",
            "29268/29268 [==============================] - 266s 9ms/step - loss: 0.0867 - accuracy: 0.9672 - precision: 0.9729 - recall: 0.9612\n",
            "Epoch 11/20\n",
            "29268/29268 [==============================] - 265s 9ms/step - loss: 0.0853 - accuracy: 0.9678 - precision: 0.9736 - recall: 0.9617\n",
            "Epoch 12/20\n",
            "29268/29268 [==============================] - 266s 9ms/step - loss: 0.0845 - accuracy: 0.9680 - precision: 0.9738 - recall: 0.9620\n",
            "Epoch 13/20\n",
            "29268/29268 [==============================] - 263s 9ms/step - loss: 0.0838 - accuracy: 0.9683 - precision: 0.9742 - recall: 0.9621\n",
            "Epoch 14/20\n",
            "29268/29268 [==============================] - 265s 9ms/step - loss: 0.0829 - accuracy: 0.9685 - precision: 0.9743 - recall: 0.9624\n",
            "Epoch 15/20\n",
            "29268/29268 [==============================] - 266s 9ms/step - loss: 0.0824 - accuracy: 0.9687 - precision: 0.9746 - recall: 0.9624\n",
            "Epoch 16/20\n",
            "29268/29268 [==============================] - 266s 9ms/step - loss: 0.0819 - accuracy: 0.9689 - precision: 0.9748 - recall: 0.9627\n",
            "Epoch 17/20\n",
            "29268/29268 [==============================] - 266s 9ms/step - loss: 0.0815 - accuracy: 0.9690 - precision: 0.9749 - recall: 0.9628\n",
            "Epoch 18/20\n",
            "29268/29268 [==============================] - 265s 9ms/step - loss: 0.0810 - accuracy: 0.9691 - precision: 0.9752 - recall: 0.9628\n",
            "Epoch 19/20\n",
            "29268/29268 [==============================] - 266s 9ms/step - loss: 0.0804 - accuracy: 0.9694 - precision: 0.9755 - recall: 0.9630\n",
            "Epoch 20/20\n",
            "29268/29268 [==============================] - 267s 9ms/step - loss: 0.0801 - accuracy: 0.9694 - precision: 0.9755 - recall: 0.9631\n"
          ]
        }
      ],
      "source": [
        "history = modelbinary.fit(x_train1, y_train, epochs = 20)"
      ]
    },
    {
      "cell_type": "code",
      "execution_count": null,
      "metadata": {
        "id": "7cRv5hj514kj",
        "colab": {
          "base_uri": "https://localhost:8080/",
          "height": 217
        },
        "outputId": "ee980de2-a1ee-4c7d-c007-350f46ac6bd9"
      },
      "outputs": [
        {
          "output_type": "stream",
          "name": "stdout",
          "text": [
            "7317/7317 [==============================] - 36s 5ms/step - loss: 0.0775 - accuracy: 0.9708 - precision: 0.9774 - recall: 0.9638\n"
          ]
        },
        {
          "output_type": "error",
          "ename": "ValueError",
          "evalue": "ignored",
          "traceback": [
            "\u001b[0;31m---------------------------------------------------------------------------\u001b[0m",
            "\u001b[0;31mValueError\u001b[0m                                Traceback (most recent call last)",
            "\u001b[0;32m<ipython-input-16-360739597487>\u001b[0m in \u001b[0;36m<module>\u001b[0;34m\u001b[0m\n\u001b[0;32m----> 1\u001b[0;31m \u001b[0mloss\u001b[0m\u001b[0;34m,\u001b[0m\u001b[0maccuracy\u001b[0m \u001b[0;34m=\u001b[0m \u001b[0mmodelbinary\u001b[0m\u001b[0;34m.\u001b[0m\u001b[0mevaluate\u001b[0m\u001b[0;34m(\u001b[0m\u001b[0mx_test1\u001b[0m\u001b[0;34m,\u001b[0m\u001b[0my_test1\u001b[0m\u001b[0;34m)\u001b[0m\u001b[0;34m\u001b[0m\u001b[0;34m\u001b[0m\u001b[0m\n\u001b[0m\u001b[1;32m      2\u001b[0m \u001b[0mprint\u001b[0m\u001b[0;34m(\u001b[0m\u001b[0;34m\"Loss: \"\u001b[0m\u001b[0;34m,\u001b[0m \u001b[0mloss\u001b[0m\u001b[0;34m)\u001b[0m\u001b[0;34m\u001b[0m\u001b[0;34m\u001b[0m\u001b[0m\n\u001b[1;32m      3\u001b[0m \u001b[0mprint\u001b[0m\u001b[0;34m(\u001b[0m\u001b[0;34m'Accuracy: '\u001b[0m\u001b[0;34m,\u001b[0m\u001b[0maccuracy\u001b[0m\u001b[0;34m*\u001b[0m\u001b[0;36m100\u001b[0m\u001b[0;34m,\u001b[0m \u001b[0;34m'%'\u001b[0m\u001b[0;34m)\u001b[0m\u001b[0;34m\u001b[0m\u001b[0;34m\u001b[0m\u001b[0m\n",
            "\u001b[0;31mValueError\u001b[0m: too many values to unpack (expected 2)"
          ]
        }
      ],
      "source": [
        "loss,accuracy = modelbinary.evaluate(x_test1,y_test1)\n",
        "print(\"Loss: \", loss)\n",
        "print('Accuracy: ',accuracy*100, '%')"
      ]
    },
    {
      "cell_type": "code",
      "execution_count": null,
      "metadata": {
        "colab": {
          "base_uri": "https://localhost:8080/",
          "height": 573
        },
        "id": "ngCcOJesyq4p",
        "outputId": "9ebe1275-b14a-45c7-d1a8-f77881a34744"
      },
      "outputs": [
        {
          "output_type": "display_data",
          "data": {
            "text/plain": [
              "<Figure size 432x288 with 1 Axes>"
            ],
            "image/png": "[encoded data removed]"
          },
          "metadata": {
            "needs_background": "light"
          }
        },
        {
          "output_type": "display_data",
          "data": {
            "text/plain": [
              "<Figure size 432x288 with 1 Axes>"
            ],
            "image/png": "[encoded data removed]"
          },
          "metadata": {
            "needs_background": "light"
          }
        }
      ],
      "source": [
        "acc = history.history['accuracy']\n",
        "loss = history.history['loss']\n",
        "epochs = range(len(acc))\n",
        "plt.plot(epochs, acc, 'r', label='train_acc')\n",
        "plt.title('Training accuracy')\n",
        "plt.ylabel('accuracy')\n",
        "plt.xlabel('epoch')\n",
        "plt.legend()\n",
        "plt.figure()\n",
        "plt.plot(epochs, loss, 'r', label='training_loss')\n",
        "plt.title('Training loss')\n",
        "plt.ylabel('loss')\n",
        "plt.xlabel('epoch')\n",
        "plt.legend()\n",
        "plt.show()"
      ]
    },
    {
      "cell_type": "code",
      "execution_count": null,
      "metadata": {
        "colab": {
          "base_uri": "https://localhost:8080/",
          "height": 752
        },
        "id": "yJ8kUrajCyOm",
        "outputId": "785d5b38-e4c8-4291-e9df-05474c7d40f0"
      },
      "outputs": [
        {
          "output_type": "execute_result",
          "data": {
            "text/plain": [
              "<matplotlib.legend.Legend at 0x7ff6f0606a00>"
            ]
          },
          "metadata": {},
          "execution_count": 18
        },
        {
          "output_type": "display_data",
          "data": {
            "text/plain": [
              "<Figure size 576x396 with 1 Axes>"
            ],
            "image/png": "[encoded data removed]"
          },
          "metadata": {}
        },
        {
          "output_type": "display_data",
          "data": {
            "text/plain": [
              "<Figure size 576x396 with 1 Axes>"
            ],
            "image/png": "[encoded data removed]"
          },
          "metadata": {}
        }
      ],
      "source": [
        "\n",
        "plt.style.use('seaborn')\n",
        "\n",
        "\n",
        "plt.figure()\n",
        "plt.plot(history.history['accuracy'])\n",
        "#plt.plot(history.history['val_accuracy'])\n",
        "plt.title('model accuracy')\n",
        "plt.ylabel('accuracy')\n",
        "plt.xlabel('epoch')\n",
        "plt.legend(['train', 'test'], loc='upper left')\n",
        "#plt.show()\n",
        "#plt.savefig(fname='model_accuracy_'+db+'.png')\n",
        "\n",
        "# summarize history for loss\n",
        "plt.figure()\n",
        "plt.plot(history.history['loss'])\n",
        "plt.plot(history.history['loss'])\n",
        "plt.title('model loss')\n",
        "plt.ylabel('loss')\n",
        "plt.xlabel('epoch')\n",
        "plt.legend(['train', 'test'], loc='upper left')\n",
        "#plt.show()\n",
        "#plt.savefig(fname='model_loss_'+db+'.png')"
      ]
    },
    {
      "cell_type": "markdown",
      "metadata": {
        "id": "2d79RNV6-EdW"
      },
      "source": [
        "##**LSTM based MultiClass Classification of Anomilies in IOT data**"
      ]
    },
    {
      "cell_type": "code",
      "execution_count": null,
      "metadata": {
        "id": "drOY4fNq18X4"
      },
      "outputs": [],
      "source": [
        "data = pd.read_csv('/content/gdrive/MyDrive/IoT/Cat_OverSample_Smote.csv')"
      ]
    },
    {
      "cell_type": "code",
      "execution_count": null,
      "metadata": {
        "id": "GI32n3gANjaq"
      },
      "outputs": [],
      "source": [
        "data=data.drop(columns=['Fwd_Pkt_Len_Std',\n",
        " 'Bwd_IAT_Std',\n",
        " 'Fwd_PSH_Flags',\n",
        " 'Bwd_PSH_Flags',\n",
        " 'Fwd_URG_Flags',\n",
        " 'Bwd_URG_Flags',\n",
        " 'FIN_Flag_Cnt',\n",
        " 'SYN_Flag_Cnt',\n",
        " 'RST_Flag_Cnt',\n",
        " 'PSH_Flag_Cnt',\n",
        " 'URG_Flag_Cnt',\n",
        " 'CWE_Flag_Count',\n",
        " 'ECE_Flag_Cnt',\n",
        " 'Fwd_Byts/b_Avg',\n",
        " 'Fwd_Pkts/b_Avg',\n",
        " 'Fwd_Blk_Rate_Avg',\n",
        " 'Bwd_Byts/b_Avg',\n",
        " 'Bwd_Pkts/b_Avg',\n",
        " 'Bwd_Blk_Rate_Avg',\n",
        " 'Init_Fwd_Win_Byts',\n",
        " 'Fwd_Seg_Size_Min',\n",
        " 'Active_Mean',\n",
        " 'Active_Std',\n",
        " 'Active_Max',\n",
        " 'Active_Min',\n",
        " ])"
      ]
    },
    {
      "cell_type": "code",
      "execution_count": null,
      "metadata": {
        "id": "T8HBHq4W-i0s"
      },
      "outputs": [],
      "source": [
        "normalized_df2 = (data-data.min())/(data.max()-data.min())"
      ]
    },
    {
      "cell_type": "code",
      "execution_count": null,
      "metadata": {
        "id": "iofivmSE-lb_"
      },
      "outputs": [],
      "source": [
        "normalized_df2 = normalized_df2.dropna()"
      ]
    },
    {
      "cell_type": "code",
      "execution_count": null,
      "metadata": {
        "id": "mTmd0h7e-mpE"
      },
      "outputs": [],
      "source": [
        "features = normalized_df2.drop(columns=['Cat']).to_numpy()\n",
        "labels = normalized_df2[['Cat']].to_numpy()"
      ]
    },
    {
      "cell_type": "code",
      "execution_count": null,
      "metadata": {
        "id": "nTzU1hwD-n3O"
      },
      "outputs": [],
      "source": [
        "x_train, x_test, y_train, y_test = train_test_split(features, labels, test_size=0.2, random_state=1)"
      ]
    },
    {
      "cell_type": "code",
      "execution_count": null,
      "metadata": {
        "colab": {
          "base_uri": "https://localhost:8080/"
        },
        "id": "WGOcLnML-qg8",
        "outputId": "2a679d77-ae12-432b-e6c8-d4be04c04d8f"
      },
      "outputs": [
        {
          "output_type": "execute_result",
          "data": {
            "text/plain": [
              "((1661236, 52), (415309, 52), (1661236, 1), (415309, 1))"
            ]
          },
          "metadata": {},
          "execution_count": 25
        }
      ],
      "source": [
        "x_train.shape , x_test.shape , y_train.shape , y_test.shape"
      ]
    },
    {
      "cell_type": "code",
      "execution_count": null,
      "metadata": {
        "id": "3M-TtTjrKZ5D"
      },
      "outputs": [],
      "source": [
        "from keras.utils import np_utils\n",
        "Y_train = np_utils.to_categorical(y_train, 5)\n",
        "Y_test = np_utils.to_categorical(y_test, 5)"
      ]
    },
    {
      "cell_type": "code",
      "execution_count": null,
      "metadata": {
        "id": "IckNW-b6Kwz5"
      },
      "outputs": [],
      "source": [
        "X_train = x_train.reshape(x_train.shape[0],52,1)   #Reshape for GRU - should work!!\n",
        "X_test = x_test.reshape(x_test.shape[0],52,1)"
      ]
    },
    {
      "cell_type": "code",
      "execution_count": null,
      "metadata": {
        "colab": {
          "base_uri": "https://localhost:8080/"
        },
        "id": "VLk6B4vAz0iO",
        "outputId": "de325035-7231-4888-9be5-b10801767266"
      },
      "outputs": [
        {
          "output_type": "stream",
          "name": "stderr",
          "text": [
            "WARNING:tensorflow:Layer lstm_3 will not use cuDNN kernels since it doesn't meet the criteria. It will use a generic GPU kernel as fallback when running on GPU.\n"
          ]
        }
      ],
      "source": [
        "model = Sequential() #=============================== climate-based model\n",
        "model.add(LSTM(units = 128, return_sequences = True, input_shape = (52, 1), activation='relu'))\n",
        "model.add(Dropout(0.5))\n",
        "model.add(LSTM(units = 64, return_sequences = True))\n",
        "model.add(Dropout(0.5))\n",
        "model.add(keras.layers.Flatten())\n",
        "model.add(Dense(5))\n",
        "model.add(Activation('softmax'))"
      ]
    },
    {
      "cell_type": "code",
      "execution_count": null,
      "metadata": {
        "colab": {
          "base_uri": "https://localhost:8080/"
        },
        "id": "W_OZ53ca-3p2",
        "outputId": "9a254709-f575-4a85-fd62-f7d830f44d53"
      },
      "outputs": [
        {
          "output_type": "stream",
          "name": "stdout",
          "text": [
            "Model: \"sequential_1\"\n",
            "_________________________________________________________________\n",
            " Layer (type)                Output Shape              Param #   \n",
            "=================================================================\n",
            " lstm_3 (LSTM)               (None, 52, 128)           66560     \n",
            "                                                                 \n",
            " dropout (Dropout)           (None, 52, 128)           0         \n",
            "                                                                 \n",
            " lstm_4 (LSTM)               (None, 52, 64)            49408     \n",
            "                                                                 \n",
            " dropout_1 (Dropout)         (None, 52, 64)            0         \n",
            "                                                                 \n",
            " flatten (Flatten)           (None, 3328)              0         \n",
            "                                                                 \n",
            " dense_1 (Dense)             (None, 5)                 16645     \n",
            "                                                                 \n",
            " activation_1 (Activation)   (None, 5)                 0         \n",
            "                                                                 \n",
            "=================================================================\n",
            "Total params: 132,613\n",
            "Trainable params: 132,613\n",
            "Non-trainable params: 0\n",
            "_________________________________________________________________\n"
          ]
        }
      ],
      "source": [
        "model.summary()"
      ]
    },
    {
      "cell_type": "code",
      "execution_count": null,
      "metadata": {
        "id": "U8SgVTYI_CGA"
      },
      "outputs": [],
      "source": [
        "model.compile(optimizer='nadam',\n",
        "              loss='categorical_crossentropy',\n",
        "              metrics=['accuracy'])"
      ]
    },
    {
      "cell_type": "code",
      "execution_count": null,
      "metadata": {
        "colab": {
          "base_uri": "https://localhost:8080/"
        },
        "id": "CP6i2-zq_HNS",
        "outputId": "1f191390-2587-4abf-9619-cb47fe9d8e07"
      },
      "outputs": [
        {
          "output_type": "stream",
          "name": "stdout",
          "text": [
            "Epoch 1/20\n",
            "6490/6490 [==============================] - 608s 93ms/step - loss: 0.3920 - accuracy: 0.8050\n",
            "Epoch 2/20\n",
            "6490/6490 [==============================] - 621s 96ms/step - loss: 0.3553 - accuracy: 0.7981\n",
            "Epoch 3/20\n",
            "6490/6490 [==============================] - 617s 95ms/step - loss: 0.3896 - accuracy: 0.7877\n",
            "Epoch 4/20\n",
            "6490/6490 [==============================] - 618s 95ms/step - loss: nan - accuracy: 0.7971\n",
            "Epoch 5/20\n",
            "6490/6490 [==============================] - 615s 95ms/step - loss: nan - accuracy: 0.8002\n",
            "Epoch 6/20\n",
            "6490/6490 [==============================] - 615s 95ms/step - loss: nan - accuracy: 0.8002\n",
            "Epoch 7/20\n",
            "6490/6490 [==============================] - 613s 94ms/step - loss: nan - accuracy: 0.8002\n",
            "Epoch 8/20\n",
            "6490/6490 [==============================] - 610s 94ms/step - loss: nan - accuracy: 0.8002\n",
            "Epoch 9/20\n",
            "6490/6490 [==============================] - 611s 94ms/step - loss: nan - accuracy: 0.8002\n",
            "Epoch 10/20\n",
            "6490/6490 [==============================] - 614s 95ms/step - loss: nan - accuracy: 0.8002\n",
            "Epoch 11/20\n",
            "6490/6490 [==============================] - 627s 97ms/step - loss: nan - accuracy: 0.8002\n",
            "Epoch 12/20\n",
            "6490/6490 [==============================] - 623s 96ms/step - loss: nan - accuracy: 0.8002\n",
            "Epoch 13/20\n",
            "5648/6490 [=========================>....] - ETA: 1:21 - loss: nan - accuracy: 0.8001"
          ]
        }
      ],
      "source": [
        "history = model.fit(X_train,Y_train, batch_size=256, epochs = 20)"
      ]
    },
    {
      "cell_type": "code",
      "execution_count": null,
      "metadata": {
        "colab": {
          "base_uri": "https://localhost:8080/"
        },
        "id": "8Hn-1Jdi_MkK",
        "outputId": "aaf45597-ffa8-40b5-d7e9-9156fa5ec370"
      },
      "outputs": [
        {
          "name": "stdout",
          "output_type": "stream",
          "text": [
            "1551/1551 [==============================] - 5s 3ms/step - loss: 6.6694 - accuracy: 0.9354\n",
            "Loss:  6.669362545013428\n",
            "Accuracy:  93.5384452342987 %\n"
          ]
        }
      ],
      "source": [
        "loss,accuracy = model.evaluate(X_test,Y_test)\n",
        "print(\"Loss: \", loss)\n",
        "print('Accuracy: ',accuracy*100, '%')"
      ]
    },
    {
      "cell_type": "code",
      "execution_count": null,
      "metadata": {
        "colab": {
          "base_uri": "https://localhost:8080/"
        },
        "id": "fZwPg4aB_Lmb",
        "outputId": "156d0990-acc8-4f96-875c-d3b0c4bb7d0f"
      },
      "outputs": [
        {
          "data": {
            "image/png": "[encoded data removed]",
            "text/plain": [
              "<Figure size 576x396 with 1 Axes>"
            ]
          },
          "metadata": {},
          "output_type": "display_data"
        },
        {
          "data": {
            "image/png": "[encoded data removed]",
            "text/plain": [
              "<Figure size 576x396 with 1 Axes>"
            ]
          },
          "metadata": {},
          "output_type": "display_data"
        }
      ],
      "source": [
        "acc = history.history['accuracy']\n",
        "loss = history.history['loss']\n",
        "epochs = range(len(acc))\n",
        "plt.plot(epochs, acc, 'r', label='train_acc')\n",
        "plt.title('Training accuracy')\n",
        "plt.ylabel('accuracy')\n",
        "plt.xlabel('epoch')\n",
        "plt.legend()\n",
        "plt.figure()\n",
        "plt.plot(epochs, loss, 'r', label='training_loss')\n",
        "plt.title('Training loss')\n",
        "plt.ylabel('loss')\n",
        "plt.xlabel('epoch')\n",
        "plt.legend()\n",
        "plt.show()"
      ]
    },
    {
      "cell_type": "code",
      "execution_count": null,
      "metadata": {
        "colab": {
          "base_uri": "https://localhost:8080/",
          "height": 752
        },
        "id": "VRDv3NWJS1QH",
        "outputId": "47dbb101-c20b-42bf-9ba4-6b8e36be8105"
      },
      "outputs": [
        {
          "data": {
            "text/plain": [
              "<matplotlib.legend.Legend at 0x7fabb8315940>"
            ]
          },
          "execution_count": 36,
          "metadata": {
            "tags": []
          },
          "output_type": "execute_result"
        },
        {
          "data": {
            "image/png": "[encoded data removed]",
            "text/plain": [
              "<Figure size 576x396 with 1 Axes>"
            ]
          },
          "metadata": {
            "tags": []
          },
          "output_type": "display_data"
        },
        {
          "data": {
            "image/png": "[encoded data removed]",
            "text/plain": [
              "<Figure size 576x396 with 1 Axes>"
            ]
          },
          "metadata": {
            "tags": []
          },
          "output_type": "display_data"
        }
      ],
      "source": [
        "\n",
        "plt.style.use('seaborn')\n",
        "\n",
        "\n",
        "plt.figure()\n",
        "plt.plot(history.history['accuracy'])\n",
        "#plt.plot(history.history['val_accuracy'])\n",
        "plt.title('model accuracy')\n",
        "plt.ylabel('accuracy')\n",
        "plt.xlabel('epoch')\n",
        "plt.legend(['train', 'test'], loc='upper left')\n",
        "#plt.show()\n",
        "#plt.savefig(fname='model_accuracy_'+db+'.png')\n",
        "\n",
        "# summarize history for loss\n",
        "plt.figure()\n",
        "plt.plot(history.history['loss'])\n",
        "plt.plot(history.history['loss'])\n",
        "plt.title('model loss')\n",
        "plt.ylabel('loss')\n",
        "plt.xlabel('epoch')\n",
        "plt.legend(['train', 'test'], loc='upper left')\n",
        "#plt.show()\n",
        "#plt.savefig(fname='model_loss_'+db+'.png')"
      ]
    },
    {
      "cell_type": "code",
      "execution_count": null,
      "metadata": {
        "id": "EmuTGUmwCWZi"
      },
      "outputs": [],
      "source": []
    },
    {
      "cell_type": "markdown",
      "metadata": {
        "id": "slg7XIBgCdtX"
      },
      "source": [
        "## **Result:**\n",
        "Using LSTMs the model for binary classification achieved an accuracy of: <br>\n",
        "training :98%<br>\n",
        "testing: 98%<br>\n",
        "\n",
        "For multiclass classification:<br>\n",
        "training: 95%<br>\n",
        "testing: 96%<br>"
      ]
    }
  ],
  "metadata": {
    "accelerator": "GPU",
    "colab": {
      "collapsed_sections": [
        "slg7XIBgCdtX"
      ],
      "provenance": []
    },
    "gpuClass": "standard",
    "kernelspec": {
      "display_name": "Python 3",
      "name": "python3"
    }
  },
  "nbformat": 4,
  "nbformat_minor": 0
}
