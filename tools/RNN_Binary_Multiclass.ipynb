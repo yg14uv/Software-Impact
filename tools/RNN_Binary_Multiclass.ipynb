{
  "nbformat": 4,
  "nbformat_minor": 0,
  "metadata": {
    "colab": {
      "provenance": []
    },
    "kernelspec": {
      "name": "python3",
      "display_name": "Python 3"
    },
    "accelerator": "GPU"
  },
  "cells": [
    {
      "cell_type": "markdown",
      "metadata": {
        "id": "ZWshByAZpXUb"
      },
      "source": [
        "##**RNN based Binary Classification of Anomilies in IOT data**\n",
        "\n"
      ]
    },
    {
      "cell_type": "code",
      "metadata": {
        "id": "_XuPQfoMoGN6"
      },
      "source": [
        "# Importing desired libraries\n",
        "import numpy as np\n",
        "import tensorflow as tf\n",
        "import pandas as pd\n",
        "from tensorflow import keras\n",
        "from matplotlib import pyplot as plt\n",
        "import matplotlib.pyplot as plt"
      ],
      "execution_count": null,
      "outputs": []
    },
    {
      "cell_type": "code",
      "metadata": {
        "id": "MKIRLfNC1YB7",
        "outputId": "95b92b0a-4a9f-461e-c753-03c333d11d00",
        "colab": {
          "base_uri": "https://localhost:8080/"
        }
      },
      "source": [
        "# mounting drive\n",
        "from google.colab import drive\n",
        "drive.mount('/content/gdrive')"
      ],
      "execution_count": null,
      "outputs": [
        {
          "output_type": "stream",
          "name": "stdout",
          "text": [
            "Mounted at /content/gdrive\n"
          ]
        }
      ]
    },
    {
      "cell_type": "code",
      "metadata": {
        "id": "kJ-2Y1Yi1ZVD"
      },
      "source": [
        "#loading dataset\n",
        "data = pd.read_csv('/content/gdrive/My Drive/IoTID20.csv')"
      ],
      "execution_count": null,
      "outputs": []
    },
    {
      "cell_type": "code",
      "metadata": {
        "id": "aCEzkbp91al4",
        "outputId": "330ac9f6-9f9d-48eb-de8c-d889f12872c8",
        "colab": {
          "base_uri": "https://localhost:8080/",
          "height": 473
        }
      },
      "source": [
        "# displaying some initial data\n",
        "data.head(5)"
      ],
      "execution_count": null,
      "outputs": [
        {
          "output_type": "execute_result",
          "data": {
            "text/plain": [
              "                                     Flow_ID           Src_IP  Src_Port  \\\n",
              "0   192.168.0.13-192.168.0.16-10000-10101-17     192.168.0.13     10000   \n",
              "1    192.168.0.13-222.160.179.132-554-2179-6  222.160.179.132      2179   \n",
              "2     192.168.0.13-192.168.0.16-9020-52727-6     192.168.0.16     52727   \n",
              "3     192.168.0.13-192.168.0.16-9020-52964-6     192.168.0.16     52964   \n",
              "4  192.168.0.1-239.255.255.250-36763-1900-17      192.168.0.1     36763   \n",
              "\n",
              "            Dst_IP  Dst_Port  Protocol               Timestamp  Flow_Duration  \\\n",
              "0     192.168.0.16     10101        17  25/07/2019 03:25:53 AM             75   \n",
              "1     192.168.0.13       554         6  26/05/2019 10:11:06 PM           5310   \n",
              "2     192.168.0.13      9020         6  11/07/2019 01:24:48 AM            141   \n",
              "3     192.168.0.13      9020         6  04/09/2019 03:58:17 AM            151   \n",
              "4  239.255.255.250      1900        17  10/09/2019 01:41:18 AM            153   \n",
              "\n",
              "   Tot_Fwd_Pkts  Tot_Bwd_Pkts  ...  Active_Std  Active_Max  Active_Min  \\\n",
              "0             1             1  ...         0.0         0.0         0.0   \n",
              "1             1             2  ...         0.0         0.0         0.0   \n",
              "2             0             3  ...         0.0         0.0         0.0   \n",
              "3             0             2  ...         0.0         0.0         0.0   \n",
              "4             2             1  ...         0.0         0.0         0.0   \n",
              "\n",
              "   Idle_Mean     Idle_Std  Idle_Max  Idle_Min    Label    Cat  \\\n",
              "0       75.0     0.000000      75.0      75.0  Anomaly  Mirai   \n",
              "1     2655.0  2261.327486    4254.0    1056.0  Anomaly    DoS   \n",
              "2       70.5     0.707107      71.0      70.0  Anomaly   Scan   \n",
              "3      151.0     0.000000     151.0     151.0  Anomaly  Mirai   \n",
              "4       76.5     0.707107      77.0      76.0  Anomaly  Mirai   \n",
              "\n",
              "                 Sub_Cat  \n",
              "0      Mirai-Ackflooding  \n",
              "1        DoS-Synflooding  \n",
              "2           Scan Port OS  \n",
              "3  Mirai-Hostbruteforceg  \n",
              "4  Mirai-Hostbruteforceg  \n",
              "\n",
              "[5 rows x 86 columns]"
            ],
            "text/html": [
              "\n",
              "  <div id=\"df-496d354d-647e-4024-b212-61545ca5f177\">\n",
              "    <div class=\"colab-df-container\">\n",
              "      <div>\n",
              "<style scoped>\n",
              "    .dataframe tbody tr th:only-of-type {\n",
              "        vertical-align: middle;\n",
              "    }\n",
              "\n",
              "    .dataframe tbody tr th {\n",
              "        vertical-align: top;\n",
              "    }\n",
              "\n",
              "    .dataframe thead th {\n",
              "        text-align: right;\n",
              "    }\n",
              "</style>\n",
              "<table border=\"1\" class=\"dataframe\">\n",
              "  <thead>\n",
              "    <tr style=\"text-align: right;\">\n",
              "      <th></th>\n",
              "      <th>Flow_ID</th>\n",
              "      <th>Src_IP</th>\n",
              "      <th>Src_Port</th>\n",
              "      <th>Dst_IP</th>\n",
              "      <th>Dst_Port</th>\n",
              "      <th>Protocol</th>\n",
              "      <th>Timestamp</th>\n",
              "      <th>Flow_Duration</th>\n",
              "      <th>Tot_Fwd_Pkts</th>\n",
              "      <th>Tot_Bwd_Pkts</th>\n",
              "      <th>...</th>\n",
              "      <th>Active_Std</th>\n",
              "      <th>Active_Max</th>\n",
              "      <th>Active_Min</th>\n",
              "      <th>Idle_Mean</th>\n",
              "      <th>Idle_Std</th>\n",
              "      <th>Idle_Max</th>\n",
              "      <th>Idle_Min</th>\n",
              "      <th>Label</th>\n",
              "      <th>Cat</th>\n",
              "      <th>Sub_Cat</th>\n",
              "    </tr>\n",
              "  </thead>\n",
              "  <tbody>\n",
              "    <tr>\n",
              "      <th>0</th>\n",
              "      <td>192.168.0.13-192.168.0.16-10000-10101-17</td>\n",
              "      <td>192.168.0.13</td>\n",
              "      <td>10000</td>\n",
              "      <td>192.168.0.16</td>\n",
              "      <td>10101</td>\n",
              "      <td>17</td>\n",
              "      <td>25/07/2019 03:25:53 AM</td>\n",
              "      <td>75</td>\n",
              "      <td>1</td>\n",
              "      <td>1</td>\n",
              "      <td>...</td>\n",
              "      <td>0.0</td>\n",
              "      <td>0.0</td>\n",
              "      <td>0.0</td>\n",
              "      <td>75.0</td>\n",
              "      <td>0.000000</td>\n",
              "      <td>75.0</td>\n",
              "      <td>75.0</td>\n",
              "      <td>Anomaly</td>\n",
              "      <td>Mirai</td>\n",
              "      <td>Mirai-Ackflooding</td>\n",
              "    </tr>\n",
              "    <tr>\n",
              "      <th>1</th>\n",
              "      <td>192.168.0.13-222.160.179.132-554-2179-6</td>\n",
              "      <td>222.160.179.132</td>\n",
              "      <td>2179</td>\n",
              "      <td>192.168.0.13</td>\n",
              "      <td>554</td>\n",
              "      <td>6</td>\n",
              "      <td>26/05/2019 10:11:06 PM</td>\n",
              "      <td>5310</td>\n",
              "      <td>1</td>\n",
              "      <td>2</td>\n",
              "      <td>...</td>\n",
              "      <td>0.0</td>\n",
              "      <td>0.0</td>\n",
              "      <td>0.0</td>\n",
              "      <td>2655.0</td>\n",
              "      <td>2261.327486</td>\n",
              "      <td>4254.0</td>\n",
              "      <td>1056.0</td>\n",
              "      <td>Anomaly</td>\n",
              "      <td>DoS</td>\n",
              "      <td>DoS-Synflooding</td>\n",
              "    </tr>\n",
              "    <tr>\n",
              "      <th>2</th>\n",
              "      <td>192.168.0.13-192.168.0.16-9020-52727-6</td>\n",
              "      <td>192.168.0.16</td>\n",
              "      <td>52727</td>\n",
              "      <td>192.168.0.13</td>\n",
              "      <td>9020</td>\n",
              "      <td>6</td>\n",
              "      <td>11/07/2019 01:24:48 AM</td>\n",
              "      <td>141</td>\n",
              "      <td>0</td>\n",
              "      <td>3</td>\n",
              "      <td>...</td>\n",
              "      <td>0.0</td>\n",
              "      <td>0.0</td>\n",
              "      <td>0.0</td>\n",
              "      <td>70.5</td>\n",
              "      <td>0.707107</td>\n",
              "      <td>71.0</td>\n",
              "      <td>70.0</td>\n",
              "      <td>Anomaly</td>\n",
              "      <td>Scan</td>\n",
              "      <td>Scan Port OS</td>\n",
              "    </tr>\n",
              "    <tr>\n",
              "      <th>3</th>\n",
              "      <td>192.168.0.13-192.168.0.16-9020-52964-6</td>\n",
              "      <td>192.168.0.16</td>\n",
              "      <td>52964</td>\n",
              "      <td>192.168.0.13</td>\n",
              "      <td>9020</td>\n",
              "      <td>6</td>\n",
              "      <td>04/09/2019 03:58:17 AM</td>\n",
              "      <td>151</td>\n",
              "      <td>0</td>\n",
              "      <td>2</td>\n",
              "      <td>...</td>\n",
              "      <td>0.0</td>\n",
              "      <td>0.0</td>\n",
              "      <td>0.0</td>\n",
              "      <td>151.0</td>\n",
              "      <td>0.000000</td>\n",
              "      <td>151.0</td>\n",
              "      <td>151.0</td>\n",
              "      <td>Anomaly</td>\n",
              "      <td>Mirai</td>\n",
              "      <td>Mirai-Hostbruteforceg</td>\n",
              "    </tr>\n",
              "    <tr>\n",
              "      <th>4</th>\n",
              "      <td>192.168.0.1-239.255.255.250-36763-1900-17</td>\n",
              "      <td>192.168.0.1</td>\n",
              "      <td>36763</td>\n",
              "      <td>239.255.255.250</td>\n",
              "      <td>1900</td>\n",
              "      <td>17</td>\n",
              "      <td>10/09/2019 01:41:18 AM</td>\n",
              "      <td>153</td>\n",
              "      <td>2</td>\n",
              "      <td>1</td>\n",
              "      <td>...</td>\n",
              "      <td>0.0</td>\n",
              "      <td>0.0</td>\n",
              "      <td>0.0</td>\n",
              "      <td>76.5</td>\n",
              "      <td>0.707107</td>\n",
              "      <td>77.0</td>\n",
              "      <td>76.0</td>\n",
              "      <td>Anomaly</td>\n",
              "      <td>Mirai</td>\n",
              "      <td>Mirai-Hostbruteforceg</td>\n",
              "    </tr>\n",
              "  </tbody>\n",
              "</table>\n",
              "<p>5 rows × 86 columns</p>\n",
              "</div>\n",
              "      <button class=\"colab-df-convert\" onclick=\"convertToInteractive('df-496d354d-647e-4024-b212-61545ca5f177')\"\n",
              "              title=\"Convert this dataframe to an interactive table.\"\n",
              "              style=\"display:none;\">\n",
              "        \n",
              "  <svg xmlns=\"http://www.w3.org/2000/svg\" height=\"24px\"viewBox=\"0 0 24 24\"\n",
              "       width=\"24px\">\n",
              "    <path d=\"M0 0h24v24H0V0z\" fill=\"none\"/>\n",
              "    <path d=\"M18.56 5.44l.94 2.06.94-2.06 2.06-.94-2.06-.94-.94-2.06-.94 2.06-2.06.94zm-11 1L8.5 8.5l.94-2.06 2.06-.94-2.06-.94L8.5 2.5l-.94 2.06-2.06.94zm10 10l.94 2.06.94-2.06 2.06-.94-2.06-.94-.94-2.06-.94 2.06-2.06.94z\"/><path d=\"M17.41 7.96l-1.37-1.37c-.4-.4-.92-.59-1.43-.59-.52 0-1.04.2-1.43.59L10.3 9.45l-7.72 7.72c-.78.78-.78 2.05 0 2.83L4 21.41c.39.39.9.59 1.41.59.51 0 1.02-.2 1.41-.59l7.78-7.78 2.81-2.81c.8-.78.8-2.07 0-2.86zM5.41 20L4 18.59l7.72-7.72 1.47 1.35L5.41 20z\"/>\n",
              "  </svg>\n",
              "      </button>\n",
              "      \n",
              "  <style>\n",
              "    .colab-df-container {\n",
              "      display:flex;\n",
              "      flex-wrap:wrap;\n",
              "      gap: 12px;\n",
              "    }\n",
              "\n",
              "    .colab-df-convert {\n",
              "      background-color: #E8F0FE;\n",
              "      border: none;\n",
              "      border-radius: 50%;\n",
              "      cursor: pointer;\n",
              "      display: none;\n",
              "      fill: #1967D2;\n",
              "      height: 32px;\n",
              "      padding: 0 0 0 0;\n",
              "      width: 32px;\n",
              "    }\n",
              "\n",
              "    .colab-df-convert:hover {\n",
              "      background-color: #E2EBFA;\n",
              "      box-shadow: 0px 1px 2px rgba(60, 64, 67, 0.3), 0px 1px 3px 1px rgba(60, 64, 67, 0.15);\n",
              "      fill: #174EA6;\n",
              "    }\n",
              "\n",
              "    [theme=dark] .colab-df-convert {\n",
              "      background-color: #3B4455;\n",
              "      fill: #D2E3FC;\n",
              "    }\n",
              "\n",
              "    [theme=dark] .colab-df-convert:hover {\n",
              "      background-color: #434B5C;\n",
              "      box-shadow: 0px 1px 3px 1px rgba(0, 0, 0, 0.15);\n",
              "      filter: drop-shadow(0px 1px 2px rgba(0, 0, 0, 0.3));\n",
              "      fill: #FFFFFF;\n",
              "    }\n",
              "  </style>\n",
              "\n",
              "      <script>\n",
              "        const buttonEl =\n",
              "          document.querySelector('#df-496d354d-647e-4024-b212-61545ca5f177 button.colab-df-convert');\n",
              "        buttonEl.style.display =\n",
              "          google.colab.kernel.accessAllowed ? 'block' : 'none';\n",
              "\n",
              "        async function convertToInteractive(key) {\n",
              "          const element = document.querySelector('#df-496d354d-647e-4024-b212-61545ca5f177');\n",
              "          const dataTable =\n",
              "            await google.colab.kernel.invokeFunction('convertToInteractive',\n",
              "                                                     [key], {});\n",
              "          if (!dataTable) return;\n",
              "\n",
              "          const docLinkHtml = 'Like what you see? Visit the ' +\n",
              "            '<a target=\"_blank\" href=https://colab.research.google.com/notebooks/data_table.ipynb>data table notebook</a>'\n",
              "            + ' to learn more about interactive tables.';\n",
              "          element.innerHTML = '';\n",
              "          dataTable['output_type'] = 'display_data';\n",
              "          await google.colab.output.renderOutput(dataTable, element);\n",
              "          const docLink = document.createElement('div');\n",
              "          docLink.innerHTML = docLinkHtml;\n",
              "          element.appendChild(docLink);\n",
              "        }\n",
              "      </script>\n",
              "    </div>\n",
              "  </div>\n",
              "  "
            ]
          },
          "metadata": {},
          "execution_count": 5
        }
      ]
    },
    {
      "cell_type": "code",
      "metadata": {
        "id": "aS54pzHF1bt2",
        "outputId": "1beb066c-da1e-419d-bd2b-6489f7e37954",
        "colab": {
          "base_uri": "https://localhost:8080/"
        }
      },
      "source": [
        "#calculating sum\n",
        "data.isnull().sum().sum()"
      ],
      "execution_count": null,
      "outputs": [
        {
          "output_type": "execute_result",
          "data": {
            "text/plain": [
              "0"
            ]
          },
          "metadata": {},
          "execution_count": 6
        }
      ]
    },
    {
      "cell_type": "code",
      "metadata": {
        "id": "sWit-vBo1dqm"
      },
      "source": [
        "# dropping unnecessary columns\n",
        "data = data.drop(columns = ['Flow_ID', 'Src_IP', 'Src_Port', 'Dst_IP', 'Dst_Port', 'Protocol','Timestamp', 'Cat', 'Sub_Cat','Fwd_PSH_Flags','Fwd_URG_Flags','Fwd_Byts/b_Avg','Fwd_Pkts/b_Avg','Fwd_Blk_Rate_Avg','Bwd_Byts/b_Avg','Bwd_Pkts/b_Avg','Bwd_Blk_Rate_Avg','Init_Fwd_Win_Byts','Fwd_Seg_Size_Min'])"
      ],
      "execution_count": null,
      "outputs": []
    },
    {
      "cell_type": "code",
      "metadata": {
        "id": "9EV5YWX71fhL"
      },
      "source": [
        "# replacing with numeric values\n",
        "data.Label.replace(['Anomaly', 'Normal'], [1, 0], inplace = True)"
      ],
      "execution_count": null,
      "outputs": []
    },
    {
      "cell_type": "code",
      "metadata": {
        "id": "y9WldyZr1hjJ"
      },
      "source": [
        "# normalizing data\n",
        "normalized_df = (data-data.min())/(data.max()-data.min())"
      ],
      "execution_count": null,
      "outputs": []
    },
    {
      "cell_type": "code",
      "metadata": {
        "id": "IaTw9Tln1rde"
      },
      "source": [
        "normalized_df = normalized_df.dropna()"
      ],
      "execution_count": null,
      "outputs": []
    },
    {
      "cell_type": "code",
      "metadata": {
        "id": "ewJkbl8C1s2j"
      },
      "source": [
        "features = normalized_df.drop(columns=['Label']).to_numpy()\n",
        "labels = normalized_df[['Label']].to_numpy()"
      ],
      "execution_count": null,
      "outputs": []
    },
    {
      "cell_type": "code",
      "metadata": {
        "id": "2vA5ui2z1ujd",
        "outputId": "01baa658-1c95-4bdb-b9b2-078a5563c55d",
        "colab": {
          "base_uri": "https://localhost:8080/"
        }
      },
      "source": [
        "# checking shape of features\n",
        "features.shape, labels.shape"
      ],
      "execution_count": null,
      "outputs": [
        {
          "output_type": "execute_result",
          "data": {
            "text/plain": [
              "((625415, 66), (625415, 1))"
            ]
          },
          "metadata": {},
          "execution_count": 12
        }
      ]
    },
    {
      "cell_type": "code",
      "metadata": {
        "id": "WYpf1TzA1vyh"
      },
      "source": [
        "# splitting training and test sets\n",
        "x_train = features[:575783]\n",
        "y_train = labels[:575783]\n",
        "\n",
        "x_test = features[575783:]\n",
        "y_test = labels[575783:]"
      ],
      "execution_count": null,
      "outputs": []
    },
    {
      "cell_type": "code",
      "metadata": {
        "id": "K2OFpHVa679A",
        "outputId": "e4d4ebd5-b3d3-4a30-848d-fa40e90d71cc",
        "colab": {
          "base_uri": "https://localhost:8080/"
        }
      },
      "source": [
        "# checking shape of features\n",
        "x_train.shape , x_test.shape , y_train.shape , y_test.shape"
      ],
      "execution_count": null,
      "outputs": [
        {
          "output_type": "execute_result",
          "data": {
            "text/plain": [
              "((575783, 66), (49632, 66), (575783, 1), (49632, 1))"
            ]
          },
          "metadata": {},
          "execution_count": 14
        }
      ]
    },
    {
      "cell_type": "code",
      "metadata": {
        "id": "0dGwgN5z7djM",
        "outputId": "778c16fc-60bc-4190-a2b9-324d5f202f80",
        "colab": {
          "base_uri": "https://localhost:8080/"
        }
      },
      "source": [
        "# reshaping data\n",
        "x_train1 = x_train.reshape((575783, 1 , 66))\n",
        "x_test1 = x_test.reshape((49632,1,66))\n",
        "x_test1.shape , x_train1.shape"
      ],
      "execution_count": null,
      "outputs": [
        {
          "output_type": "execute_result",
          "data": {
            "text/plain": [
              "((49632, 1, 66), (575783, 1, 66))"
            ]
          },
          "metadata": {},
          "execution_count": 15
        }
      ]
    },
    {
      "cell_type": "code",
      "metadata": {
        "id": "1mNKiL8t1xbJ"
      },
      "source": [
        "# creating neural network model\n",
        "modelbinary = keras.Sequential([\n",
        "              keras.layers.SimpleRNN(128, input_shape=(1,66), return_sequences=True),\n",
        "              keras.layers.SimpleRNN(30,return_sequences=True),\n",
        "              keras.layers.Dense(1,activation='sigmoid')\n",
        "])"
      ],
      "execution_count": null,
      "outputs": []
    },
    {
      "cell_type": "code",
      "metadata": {
        "id": "Ip2clROL11ly"
      },
      "source": [
        "# compiling model\n",
        "modelbinary.compile(optimizer='adam',\n",
        "              loss='binary_crossentropy',\n",
        "              metrics=['accuracy'])"
      ],
      "execution_count": null,
      "outputs": []
    },
    {
      "cell_type": "code",
      "metadata": {
        "id": "51r78FST13fH",
        "outputId": "9a1431fb-a312-4c36-9272-36f6b95764df",
        "colab": {
          "base_uri": "https://localhost:8080/"
        }
      },
      "source": [
        "# training model\n",
        "history = modelbinary.fit(x_train1, y_train, epochs = 5)"
      ],
      "execution_count": null,
      "outputs": [
        {
          "output_type": "stream",
          "name": "stdout",
          "text": [
            "Epoch 1/5\n",
            "17994/17994 [==============================] - 100s 5ms/step - loss: 0.1080 - accuracy: 0.9648\n",
            "Epoch 2/5\n",
            "17994/17994 [==============================] - 96s 5ms/step - loss: 0.0663 - accuracy: 0.9788\n",
            "Epoch 3/5\n",
            "17994/17994 [==============================] - 95s 5ms/step - loss: 0.0525 - accuracy: 0.9830\n",
            "Epoch 4/5\n",
            "17994/17994 [==============================] - 96s 5ms/step - loss: 0.0496 - accuracy: 0.9841\n",
            "Epoch 5/5\n",
            "17994/17994 [==============================] - 95s 5ms/step - loss: 0.0481 - accuracy: 0.9847\n"
          ]
        }
      ]
    },
    {
      "cell_type": "code",
      "metadata": {
        "id": "7cRv5hj514kj",
        "outputId": "f1a878ac-6419-469b-ec9d-4ffbf506a190",
        "colab": {
          "base_uri": "https://localhost:8080/"
        }
      },
      "source": [
        "# evaluating model\n",
        "loss,accuracy = modelbinary.evaluate(x_test1,y_test)\n",
        "print(\"Loss: \", loss)\n",
        "print('Accuracy: ',accuracy*100, '%')"
      ],
      "execution_count": null,
      "outputs": [
        {
          "output_type": "stream",
          "name": "stdout",
          "text": [
            "1551/1551 [==============================] - 3s 2ms/step - loss: 0.0473 - accuracy: 0.9839\n",
            "Loss:  0.04734240099787712\n",
            "Accuracy:  98.39417934417725 %\n"
          ]
        }
      ]
    },
    {
      "cell_type": "code",
      "metadata": {
        "id": "yJ8kUrajCyOm",
        "outputId": "1a0bbde4-b7be-4f17-942d-c95786006acc",
        "colab": {
          "base_uri": "https://localhost:8080/",
          "height": 752
        }
      },
      "source": [
        "# plotting results\n",
        "plt.style.use('seaborn')\n",
        "\n",
        "\n",
        "plt.figure()\n",
        "plt.plot(history.history['accuracy'])\n",
        "#plt.plot(history.history['val_accuracy'])\n",
        "plt.title('model accuracy')\n",
        "plt.ylabel('accuracy')\n",
        "plt.xlabel('epoch')\n",
        "plt.legend(['train', 'test'], loc='upper left')\n",
        "#plt.show()\n",
        "#plt.savefig(fname='model_accuracy_'+db+'.png')\n",
        "\n",
        "# summarize history for loss\n",
        "plt.figure()\n",
        "plt.plot(history.history['loss'])\n",
        "plt.plot(history.history['loss'])\n",
        "plt.title('model loss')\n",
        "plt.ylabel('loss')\n",
        "plt.xlabel('epoch')\n",
        "plt.legend(['train', 'test'], loc='upper left')\n",
        "#plt.show()\n",
        "#plt.savefig(fname='model_loss_'+db+'.png')"
      ],
      "execution_count": null,
      "outputs": [
        {
          "output_type": "execute_result",
          "data": {
            "text/plain": [
              "<matplotlib.legend.Legend at 0x7fd758ac9fd0>"
            ]
          },
          "metadata": {},
          "execution_count": 20
        },
        {
          "output_type": "display_data",
          "data": {
            "text/plain": [
              "<Figure size 576x396 with 1 Axes>"
            ],
            "image/png": "[encoded data removed]"
          },
          "metadata": {}
        },
        {
          "output_type": "display_data",
          "data": {
            "text/plain": [
              "<Figure size 576x396 with 1 Axes>"
            ],
            "image/png": "[encoded data removed]"
          },
          "metadata": {}
        }
      ]
    },
    {
      "cell_type": "markdown",
      "metadata": {
        "id": "2d79RNV6-EdW"
      },
      "source": [
        "##**RNN based MultiClass Classification of Anomilies in IOT data**"
      ]
    },
    {
      "cell_type": "code",
      "metadata": {
        "id": "drOY4fNq18X4"
      },
      "source": [
        "# preprocessing data\n",
        "data2 = pd.read_csv('/content/gdrive/My Drive/IoTID20.csv')\n",
        "data2 = data2.drop(columns = ['Flow_ID', 'Src_IP', 'Src_Port', 'Dst_IP', 'Dst_Port', 'Protocol','Timestamp','Fwd_PSH_Flags','Fwd_URG_Flags','Fwd_Byts/b_Avg','Fwd_Pkts/b_Avg','Fwd_Blk_Rate_Avg','Bwd_Byts/b_Avg','Bwd_Pkts/b_Avg','Bwd_Blk_Rate_Avg','Init_Fwd_Win_Byts','Fwd_Seg_Size_Min'])\n",
        "data2.Label.replace(['Anomaly', 'Normal'], [1, 0], inplace = True)\n",
        "data2.Cat.replace(['Mirai', 'DoS','Scan','Normal','MITM ARP Spoofing'], [1,2,3,4,5], inplace = True)\n",
        "data2.Sub_Cat.replace(['Mirai-Ackflooding', 'DoS-Synflooding','Scan Port OS','Mirai-Hostbruteforceg','Mirai-UDP Flooding', 'Mirai-HTTP Flooding','Normal', 'Scan Hostport', 'MITM ARP Spoofing'], [1,2,3,4,5,6,7,8,9], inplace = True)\n"
      ],
      "execution_count": null,
      "outputs": []
    },
    {
      "cell_type": "code",
      "metadata": {
        "id": "T8HBHq4W-i0s"
      },
      "source": [
        "# data normalization\n",
        "normalized_df2 = (data2-data2.min())/(data2.max()-data2.min())"
      ],
      "execution_count": null,
      "outputs": []
    },
    {
      "cell_type": "code",
      "metadata": {
        "id": "iofivmSE-lb_"
      },
      "source": [
        "normalized_df2 = normalized_df2.dropna()"
      ],
      "execution_count": null,
      "outputs": []
    },
    {
      "cell_type": "code",
      "metadata": {
        "id": "mTmd0h7e-mpE"
      },
      "source": [
        "features2 = normalized_df2.drop(columns=['Label','Cat','Sub_Cat']).to_numpy()\n",
        "labels2 = normalized_df2[['Label','Cat','Sub_Cat']].to_numpy()"
      ],
      "execution_count": null,
      "outputs": []
    },
    {
      "cell_type": "code",
      "metadata": {
        "id": "nTzU1hwD-n3O"
      },
      "source": [
        "# splitting training and testing data\n",
        "x_train2 = features2[:575783]\n",
        "y_train2 = labels2[:575783]\n",
        "\n",
        "x_test2 = features2[575783:]\n",
        "y_test2 = labels2[575783:]"
      ],
      "execution_count": null,
      "outputs": []
    },
    {
      "cell_type": "code",
      "metadata": {
        "id": "WGOcLnML-qg8",
        "outputId": "b2d3c7e6-38d6-4e4f-97a8-d76fe1a91151",
        "colab": {
          "base_uri": "https://localhost:8080/"
        }
      },
      "source": [
        "x_train2.shape , x_test2.shape , y_train2.shape , y_test2.shape"
      ],
      "execution_count": null,
      "outputs": [
        {
          "output_type": "execute_result",
          "data": {
            "text/plain": [
              "((575783, 66), (49632, 66), (575783, 3), (49632, 3))"
            ]
          },
          "metadata": {},
          "execution_count": 26
        }
      ]
    },
    {
      "cell_type": "code",
      "metadata": {
        "id": "CguDviu2-y5-",
        "outputId": "aaf3044d-6f62-4834-9252-95c403ec5b24",
        "colab": {
          "base_uri": "https://localhost:8080/"
        }
      },
      "source": [
        "x_train21 = x_train2.reshape((575783, 1 , 66))\n",
        "x_test21 = x_test2.reshape((49632,1,66))\n",
        "y_train21 =  y_train2.reshape(575783,1,3)\n",
        "y_test21 =  y_test2.reshape(49632,1,3)\n",
        "x_test21.shape , x_train21.shape"
      ],
      "execution_count": null,
      "outputs": [
        {
          "output_type": "execute_result",
          "data": {
            "text/plain": [
              "((49632, 1, 66), (575783, 1, 66))"
            ]
          },
          "metadata": {},
          "execution_count": 27
        }
      ]
    },
    {
      "cell_type": "code",
      "metadata": {
        "id": "YalLCjY2-78Z"
      },
      "source": [
        "# creating RNN model\n",
        "model2 = keras.Sequential([\n",
        "              keras.layers.SimpleRNN(128, input_shape=(1,66), return_sequences=True),\n",
        "              keras.layers.SimpleRNN(30,return_sequences=True),\n",
        "              keras.layers.Dense(3,activation='softmax')\n",
        "])"
      ],
      "execution_count": null,
      "outputs": []
    },
    {
      "cell_type": "code",
      "metadata": {
        "id": "W_OZ53ca-3p2",
        "outputId": "0112b3f3-11f4-4b5f-c487-c8fbe655631c",
        "colab": {
          "base_uri": "https://localhost:8080/"
        }
      },
      "source": [
        "# displaying model structure\n",
        "model2.summary()"
      ],
      "execution_count": null,
      "outputs": [
        {
          "output_type": "stream",
          "name": "stdout",
          "text": [
            "Model: \"sequential_1\"\n",
            "_________________________________________________________________\n",
            " Layer (type)                Output Shape              Param #   \n",
            "=================================================================\n",
            " simple_rnn_2 (SimpleRNN)    (None, 1, 128)            24960     \n",
            "                                                                 \n",
            " simple_rnn_3 (SimpleRNN)    (None, 1, 30)             4770      \n",
            "                                                                 \n",
            " dense_1 (Dense)             (None, 1, 3)              93        \n",
            "                                                                 \n",
            "=================================================================\n",
            "Total params: 29,823\n",
            "Trainable params: 29,823\n",
            "Non-trainable params: 0\n",
            "_________________________________________________________________\n"
          ]
        }
      ]
    },
    {
      "cell_type": "code",
      "metadata": {
        "id": "U8SgVTYI_CGA"
      },
      "source": [
        "#compiling model\n",
        "model2.compile(optimizer='adam',\n",
        "              loss='categorical_crossentropy',\n",
        "              metrics=['accuracy'])"
      ],
      "execution_count": null,
      "outputs": []
    },
    {
      "cell_type": "code",
      "metadata": {
        "id": "CP6i2-zq_HNS",
        "outputId": "e048c24f-806f-4126-f1fe-aa116ed25cf0",
        "colab": {
          "base_uri": "https://localhost:8080/"
        }
      },
      "source": [
        "# training model\n",
        "history = model2.fit(x_train21,y_train21, epochs = 5)"
      ],
      "execution_count": null,
      "outputs": [
        {
          "output_type": "stream",
          "name": "stdout",
          "text": [
            "Epoch 1/5\n",
            "17994/17994 [==============================] - 93s 5ms/step - loss: 2.6915 - accuracy: 0.9358\n",
            "Epoch 2/5\n",
            "17994/17994 [==============================] - 93s 5ms/step - loss: 3.8941 - accuracy: 0.9360\n",
            "Epoch 3/5\n",
            "17994/17994 [==============================] - 92s 5ms/step - loss: 5.1528 - accuracy: 0.9360\n",
            "Epoch 4/5\n",
            "17994/17994 [==============================] - 92s 5ms/step - loss: 6.4381 - accuracy: 0.9360\n",
            "Epoch 5/5\n",
            "17994/17994 [==============================] - 95s 5ms/step - loss: 7.7871 - accuracy: 0.9360\n"
          ]
        }
      ]
    },
    {
      "cell_type": "code",
      "metadata": {
        "id": "8Hn-1Jdi_MkK",
        "outputId": "b298149d-28d9-4e1c-d943-9d32996eae41",
        "colab": {
          "base_uri": "https://localhost:8080/"
        }
      },
      "source": [
        "# evaluating model\n",
        "loss,accuracy = model2.evaluate(x_test21,y_test21)\n",
        "print(\"Loss: \", loss)\n",
        "print('Accuracy: ',accuracy*100, '%')"
      ],
      "execution_count": null,
      "outputs": [
        {
          "output_type": "stream",
          "name": "stdout",
          "text": [
            "1551/1551 [==============================] - 4s 2ms/step - loss: 8.4961 - accuracy: 0.9354\n",
            "Loss:  8.496100425720215\n",
            "Accuracy:  93.5384452342987 %\n"
          ]
        }
      ]
    },
    {
      "cell_type": "code",
      "metadata": {
        "id": "VRDv3NWJS1QH",
        "outputId": "d3e66c3c-7b5c-464b-9bd1-d6cb1ee15a40",
        "colab": {
          "base_uri": "https://localhost:8080/",
          "height": 752
        }
      },
      "source": [
        "# plotting results\n",
        "plt.style.use('seaborn')\n",
        "\n",
        "\n",
        "plt.figure()\n",
        "plt.plot(history.history['accuracy'])\n",
        "#plt.plot(history.history['val_accuracy'])\n",
        "plt.title('model accuracy')\n",
        "plt.ylabel('accuracy')\n",
        "plt.xlabel('epoch')\n",
        "plt.legend(['train', 'test'], loc='upper left')\n",
        "#plt.show()\n",
        "#plt.savefig(fname='model_accuracy_'+db+'.png')\n",
        "\n",
        "# summarize history for loss\n",
        "plt.figure()\n",
        "plt.plot(history.history['loss'])\n",
        "plt.plot(history.history['loss'])\n",
        "plt.title('model loss')\n",
        "plt.ylabel('loss')\n",
        "plt.xlabel('epoch')\n",
        "plt.legend(['train', 'test'], loc='upper left')\n",
        "#plt.show()\n",
        "#plt.savefig(fname='model_loss_'+db+'.png')"
      ],
      "execution_count": null,
      "outputs": [
        {
          "output_type": "execute_result",
          "data": {
            "text/plain": [
              "<matplotlib.legend.Legend at 0x7fd7ea9f6a10>"
            ]
          },
          "metadata": {},
          "execution_count": 33
        },
        {
          "output_type": "display_data",
          "data": {
            "text/plain": [
              "<Figure size 576x396 with 1 Axes>"
            ],
            "image/png": "[encoded data removed]"
          },
          "metadata": {}
        },
        {
          "output_type": "display_data",
          "data": {
            "text/plain": [
              "<Figure size 576x396 with 1 Axes>"
            ],
            "image/png": "[encoded data removed]"
          },
          "metadata": {}
        }
      ]
    },
    {
      "cell_type": "markdown",
      "metadata": {
        "id": "slg7XIBgCdtX"
      },
      "source": [
        "## **Result:**\n",
        "Using Simple RNN model for binary classification achieved an accuracy of: <br>\n",
        "training :98.48%<br>\n",
        "testing: 98.22%<br>\n",
        "\n",
        "For multiclass classification:<br>\n",
        "training: 93.60%<br>\n",
        "testing: 93.53%<br>"
      ]
    }
  ]
}
