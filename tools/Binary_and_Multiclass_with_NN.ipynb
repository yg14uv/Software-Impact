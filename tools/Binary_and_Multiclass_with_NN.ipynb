{
  "nbformat": 4,
  "nbformat_minor": 0,
  "metadata": {
    "colab": {
      "provenance": []
    },
    "kernelspec": {
      "name": "python3",
      "display_name": "Python 3"
    },
    "accelerator": "GPU"
  },
  "cells": [
    {
      "cell_type": "markdown",
      "metadata": {
        "id": "R9kCtuSZv0WG"
      },
      "source": [
        "# Import Libraries"
      ]
    },
    {
      "cell_type": "code",
      "metadata": {
        "id": "1Df42J62AemN"
      },
      "source": [
        "#import useful Libraries\n",
        "import numpy as np\n",
        "import pandas as pd\n",
        "from sklearn.model_selection import train_test_split\n",
        "from sklearn.preprocessing import LabelEncoder,MinMaxScaler,normalize\n",
        "from sklearn.metrics import confusion_matrix,classification_report,recall_score,f1_score,precision_score,precision_recall_curve,roc_curve\n",
        "from keras.models import Sequential,Model\n",
        "from keras.layers import Dense,BatchNormalization,Activation,Input,LeakyReLU\n",
        "#from keras.optimizers import Adam\n",
        "from tensorflow.keras.optimizers import Adam\n",
        "from keras.callbacks import ReduceLROnPlateau\n",
        "#from keras.utils import to_categorical\n",
        "from tensorflow.keras.utils import to_categorical\n",
        "import matplotlib.pyplot as plt\n",
        "import seaborn as sns\n",
        "import pickle\n",
        "import warnings\n",
        "# warnings.filterwarnings(\"ignore\")"
      ],
      "execution_count": null,
      "outputs": []
    },
    {
      "cell_type": "code",
      "metadata": {
        "colab": {
          "base_uri": "https://localhost:8080/"
        },
        "id": "vKurSgOz4wYE",
        "outputId": "a2ab79e8-1edb-4b43-8a60-d5f2f79d81ad"
      },
      "source": [
        "from google.colab import drive\n",
        "drive.mount('/content/drive')"
      ],
      "execution_count": null,
      "outputs": [
        {
          "output_type": "stream",
          "name": "stdout",
          "text": [
            "Mounted at /content/drive\n"
          ]
        }
      ]
    },
    {
      "cell_type": "code",
      "metadata": {
        "id": "k3i10IiUArCz",
        "colab": {
          "base_uri": "https://localhost:8080/"
        },
        "outputId": "e6b25c91-44a6-43d1-f638-b6a0a41c6b4c"
      },
      "source": [
        "df = pd.read_csv('/content/drive/My Drive/IoTID20.csv')\n",
        "labels = df.iloc[:,-3]\n",
        "df = df.select_dtypes(exclude=['object'])\n",
        "\n",
        "df.info()"
      ],
      "execution_count": null,
      "outputs": [
        {
          "output_type": "stream",
          "name": "stdout",
          "text": [
            "<class 'pandas.core.frame.DataFrame'>\n",
            "RangeIndex: 625783 entries, 0 to 625782\n",
            "Data columns (total 79 columns):\n",
            " #   Column             Non-Null Count   Dtype  \n",
            "---  ------             --------------   -----  \n",
            " 0   Src_Port           625783 non-null  int64  \n",
            " 1   Dst_Port           625783 non-null  int64  \n",
            " 2   Protocol           625783 non-null  int64  \n",
            " 3   Flow_Duration      625783 non-null  int64  \n",
            " 4   Tot_Fwd_Pkts       625783 non-null  int64  \n",
            " 5   Tot_Bwd_Pkts       625783 non-null  int64  \n",
            " 6   TotLen_Fwd_Pkts    625783 non-null  float64\n",
            " 7   TotLen_Bwd_Pkts    625783 non-null  float64\n",
            " 8   Fwd_Pkt_Len_Max    625783 non-null  float64\n",
            " 9   Fwd_Pkt_Len_Min    625783 non-null  float64\n",
            " 10  Fwd_Pkt_Len_Mean   625783 non-null  float64\n",
            " 11  Fwd_Pkt_Len_Std    625783 non-null  float64\n",
            " 12  Bwd_Pkt_Len_Max    625783 non-null  float64\n",
            " 13  Bwd_Pkt_Len_Min    625783 non-null  float64\n",
            " 14  Bwd_Pkt_Len_Mean   625783 non-null  float64\n",
            " 15  Bwd_Pkt_Len_Std    625783 non-null  float64\n",
            " 16  Flow_Byts/s        625783 non-null  float64\n",
            " 17  Flow_Pkts/s        625783 non-null  float64\n",
            " 18  Flow_IAT_Mean      625783 non-null  float64\n",
            " 19  Flow_IAT_Std       625783 non-null  float64\n",
            " 20  Flow_IAT_Max       625783 non-null  float64\n",
            " 21  Flow_IAT_Min       625783 non-null  float64\n",
            " 22  Fwd_IAT_Tot        625783 non-null  float64\n",
            " 23  Fwd_IAT_Mean       625783 non-null  float64\n",
            " 24  Bwd_IAT_Mean       625783 non-null  float64\n",
            " 25  Fwd_IAT_Max        625783 non-null  float64\n",
            " 26  Fwd_IAT_Min        625783 non-null  float64\n",
            " 27  Bwd_IAT_Tot        625783 non-null  float64\n",
            " 28  Bwd_IAT_Mean.1     625783 non-null  float64\n",
            " 29  Bwd_IAT_Std        625783 non-null  float64\n",
            " 30  Bwd_IAT_Max        625783 non-null  float64\n",
            " 31  Bwd_IAT_Min        625783 non-null  float64\n",
            " 32  Fwd_PSH_Flags      625783 non-null  int64  \n",
            " 33  Bwd_PSH_Flags      625783 non-null  int64  \n",
            " 34  Fwd_URG_Flags      625783 non-null  int64  \n",
            " 35  Bwd_URG_Flags      625783 non-null  int64  \n",
            " 36  Fwd_Header_Len     625783 non-null  int64  \n",
            " 37  Bwd_Header_Len     625783 non-null  int64  \n",
            " 38  Fwd_Pkts/s         625783 non-null  float64\n",
            " 39  Bwd_Pkts/s         625783 non-null  float64\n",
            " 40  Pkt_Len_Min        625783 non-null  float64\n",
            " 41  Pkt_Len_Max        625783 non-null  float64\n",
            " 42  Pkt_Len_Mean       625783 non-null  float64\n",
            " 43  Pkt_Len_Std        625783 non-null  float64\n",
            " 44  Pkt_Len_Var        625783 non-null  float64\n",
            " 45  FIN_Flag_Cnt       625783 non-null  int64  \n",
            " 46  SYN_Flag_Cnt       625783 non-null  int64  \n",
            " 47  RST_Flag_Cnt       625783 non-null  int64  \n",
            " 48  PSH_Flag_Cnt       625783 non-null  int64  \n",
            " 49  ACK_Flag_Cnt       625783 non-null  int64  \n",
            " 50  URG_Flag_Cnt       625783 non-null  int64  \n",
            " 51  CWE_Flag_Count     625783 non-null  int64  \n",
            " 52  ECE_Flag_Cnt       625783 non-null  int64  \n",
            " 53  Down/Up_Ratio      625783 non-null  float64\n",
            " 54  Pkt_Size_Avg       625783 non-null  float64\n",
            " 55  Fwd_Seg_Size_Avg   625783 non-null  float64\n",
            " 56  Bwd_Seg_Size_Avg   625783 non-null  float64\n",
            " 57  Fwd_Byts/b_Avg     625783 non-null  int64  \n",
            " 58  Fwd_Pkts/b_Avg     625783 non-null  int64  \n",
            " 59  Fwd_Blk_Rate_Avg   625783 non-null  int64  \n",
            " 60  Bwd_Byts/b_Avg     625783 non-null  int64  \n",
            " 61  Bwd_Pkts/b_Avg     625783 non-null  int64  \n",
            " 62  Bwd_Blk_Rate_Avg   625783 non-null  int64  \n",
            " 63  Subflow_Fwd_Pkts   625783 non-null  int64  \n",
            " 64  Subflow_Fwd_Byts   625783 non-null  int64  \n",
            " 65  Subflow_Bwd_Pkts   625783 non-null  int64  \n",
            " 66  Subflow_Bwd_Byts   625783 non-null  int64  \n",
            " 67  Init_Fwd_Win_Byts  625783 non-null  int64  \n",
            " 68  Init_Bwd_Win_Byts  625783 non-null  int64  \n",
            " 69  Fwd_Act_Data_Pkts  625783 non-null  int64  \n",
            " 70  Fwd_Seg_Size_Min   625783 non-null  int64  \n",
            " 71  Active_Mean        625783 non-null  float64\n",
            " 72  Active_Std         625783 non-null  float64\n",
            " 73  Active_Max         625783 non-null  float64\n",
            " 74  Active_Min         625783 non-null  float64\n",
            " 75  Idle_Mean          625783 non-null  float64\n",
            " 76  Idle_Std           625783 non-null  float64\n",
            " 77  Idle_Max           625783 non-null  float64\n",
            " 78  Idle_Min           625783 non-null  float64\n",
            "dtypes: float64(45), int64(34)\n",
            "memory usage: 377.2 MB\n"
          ]
        }
      ]
    },
    {
      "cell_type": "code",
      "metadata": {
        "id": "VfHse8fgkuEP",
        "colab": {
          "base_uri": "https://localhost:8080/"
        },
        "outputId": "c372a313-2c6e-4bb4-ed5c-2734ab36bec5"
      },
      "source": [
        "le = LabelEncoder()\n",
        "en_labels = le.fit_transform(labels)\n",
        "le.classes_"
      ],
      "execution_count": null,
      "outputs": [
        {
          "output_type": "execute_result",
          "data": {
            "text/plain": [
              "array(['Anomaly', 'Normal'], dtype=object)"
            ]
          },
          "metadata": {},
          "execution_count": 10
        }
      ]
    },
    {
      "cell_type": "code",
      "metadata": {
        "id": "OC_YVmNvlCgk",
        "colab": {
          "base_uri": "https://localhost:8080/",
          "height": 300
        },
        "outputId": "d49c5e38-8ee3-4c88-c02e-3de7701b77c8"
      },
      "source": [
        "#Concatinating the labels with the dataset\n",
        "df['Labels'] = en_labels\n",
        "df.head()"
      ],
      "execution_count": null,
      "outputs": [
        {
          "output_type": "execute_result",
          "data": {
            "text/plain": [
              "   Src_Port  Dst_Port  Protocol  Flow_Duration  Tot_Fwd_Pkts  Tot_Bwd_Pkts  \\\n",
              "0     10000     10101        17             75             1             1   \n",
              "1      2179       554         6           5310             1             2   \n",
              "2     52727      9020         6            141             0             3   \n",
              "3     52964      9020         6            151             0             2   \n",
              "4     36763      1900        17            153             2             1   \n",
              "\n",
              "   TotLen_Fwd_Pkts  TotLen_Bwd_Pkts  Fwd_Pkt_Len_Max  Fwd_Pkt_Len_Min  ...  \\\n",
              "0            982.0           1430.0            982.0            982.0  ...   \n",
              "1              0.0              0.0              0.0              0.0  ...   \n",
              "2              0.0           2806.0              0.0              0.0  ...   \n",
              "3              0.0           2776.0              0.0              0.0  ...   \n",
              "4            886.0            420.0            452.0            434.0  ...   \n",
              "\n",
              "   Fwd_Seg_Size_Min  Active_Mean  Active_Std  Active_Max  Active_Min  \\\n",
              "0                 0          0.0         0.0         0.0         0.0   \n",
              "1                 0          0.0         0.0         0.0         0.0   \n",
              "2                 0          0.0         0.0         0.0         0.0   \n",
              "3                 0          0.0         0.0         0.0         0.0   \n",
              "4                 0          0.0         0.0         0.0         0.0   \n",
              "\n",
              "   Idle_Mean     Idle_Std  Idle_Max  Idle_Min  Labels  \n",
              "0       75.0     0.000000      75.0      75.0       0  \n",
              "1     2655.0  2261.327486    4254.0    1056.0       0  \n",
              "2       70.5     0.707107      71.0      70.0       0  \n",
              "3      151.0     0.000000     151.0     151.0       0  \n",
              "4       76.5     0.707107      77.0      76.0       0  \n",
              "\n",
              "[5 rows x 80 columns]"
            ],
            "text/html": [
              "\n",
              "  <div id=\"df-31b893ee-e03c-4e00-9634-e85f7a8ddee7\">\n",
              "    <div class=\"colab-df-container\">\n",
              "      <div>\n",
              "<style scoped>\n",
              "    .dataframe tbody tr th:only-of-type {\n",
              "        vertical-align: middle;\n",
              "    }\n",
              "\n",
              "    .dataframe tbody tr th {\n",
              "        vertical-align: top;\n",
              "    }\n",
              "\n",
              "    .dataframe thead th {\n",
              "        text-align: right;\n",
              "    }\n",
              "</style>\n",
              "<table border=\"1\" class=\"dataframe\">\n",
              "  <thead>\n",
              "    <tr style=\"text-align: right;\">\n",
              "      <th></th>\n",
              "      <th>Src_Port</th>\n",
              "      <th>Dst_Port</th>\n",
              "      <th>Protocol</th>\n",
              "      <th>Flow_Duration</th>\n",
              "      <th>Tot_Fwd_Pkts</th>\n",
              "      <th>Tot_Bwd_Pkts</th>\n",
              "      <th>TotLen_Fwd_Pkts</th>\n",
              "      <th>TotLen_Bwd_Pkts</th>\n",
              "      <th>Fwd_Pkt_Len_Max</th>\n",
              "      <th>Fwd_Pkt_Len_Min</th>\n",
              "      <th>...</th>\n",
              "      <th>Fwd_Seg_Size_Min</th>\n",
              "      <th>Active_Mean</th>\n",
              "      <th>Active_Std</th>\n",
              "      <th>Active_Max</th>\n",
              "      <th>Active_Min</th>\n",
              "      <th>Idle_Mean</th>\n",
              "      <th>Idle_Std</th>\n",
              "      <th>Idle_Max</th>\n",
              "      <th>Idle_Min</th>\n",
              "      <th>Labels</th>\n",
              "    </tr>\n",
              "  </thead>\n",
              "  <tbody>\n",
              "    <tr>\n",
              "      <th>0</th>\n",
              "      <td>10000</td>\n",
              "      <td>10101</td>\n",
              "      <td>17</td>\n",
              "      <td>75</td>\n",
              "      <td>1</td>\n",
              "      <td>1</td>\n",
              "      <td>982.0</td>\n",
              "      <td>1430.0</td>\n",
              "      <td>982.0</td>\n",
              "      <td>982.0</td>\n",
              "      <td>...</td>\n",
              "      <td>0</td>\n",
              "      <td>0.0</td>\n",
              "      <td>0.0</td>\n",
              "      <td>0.0</td>\n",
              "      <td>0.0</td>\n",
              "      <td>75.0</td>\n",
              "      <td>0.000000</td>\n",
              "      <td>75.0</td>\n",
              "      <td>75.0</td>\n",
              "      <td>0</td>\n",
              "    </tr>\n",
              "    <tr>\n",
              "      <th>1</th>\n",
              "      <td>2179</td>\n",
              "      <td>554</td>\n",
              "      <td>6</td>\n",
              "      <td>5310</td>\n",
              "      <td>1</td>\n",
              "      <td>2</td>\n",
              "      <td>0.0</td>\n",
              "      <td>0.0</td>\n",
              "      <td>0.0</td>\n",
              "      <td>0.0</td>\n",
              "      <td>...</td>\n",
              "      <td>0</td>\n",
              "      <td>0.0</td>\n",
              "      <td>0.0</td>\n",
              "      <td>0.0</td>\n",
              "      <td>0.0</td>\n",
              "      <td>2655.0</td>\n",
              "      <td>2261.327486</td>\n",
              "      <td>4254.0</td>\n",
              "      <td>1056.0</td>\n",
              "      <td>0</td>\n",
              "    </tr>\n",
              "    <tr>\n",
              "      <th>2</th>\n",
              "      <td>52727</td>\n",
              "      <td>9020</td>\n",
              "      <td>6</td>\n",
              "      <td>141</td>\n",
              "      <td>0</td>\n",
              "      <td>3</td>\n",
              "      <td>0.0</td>\n",
              "      <td>2806.0</td>\n",
              "      <td>0.0</td>\n",
              "      <td>0.0</td>\n",
              "      <td>...</td>\n",
              "      <td>0</td>\n",
              "      <td>0.0</td>\n",
              "      <td>0.0</td>\n",
              "      <td>0.0</td>\n",
              "      <td>0.0</td>\n",
              "      <td>70.5</td>\n",
              "      <td>0.707107</td>\n",
              "      <td>71.0</td>\n",
              "      <td>70.0</td>\n",
              "      <td>0</td>\n",
              "    </tr>\n",
              "    <tr>\n",
              "      <th>3</th>\n",
              "      <td>52964</td>\n",
              "      <td>9020</td>\n",
              "      <td>6</td>\n",
              "      <td>151</td>\n",
              "      <td>0</td>\n",
              "      <td>2</td>\n",
              "      <td>0.0</td>\n",
              "      <td>2776.0</td>\n",
              "      <td>0.0</td>\n",
              "      <td>0.0</td>\n",
              "      <td>...</td>\n",
              "      <td>0</td>\n",
              "      <td>0.0</td>\n",
              "      <td>0.0</td>\n",
              "      <td>0.0</td>\n",
              "      <td>0.0</td>\n",
              "      <td>151.0</td>\n",
              "      <td>0.000000</td>\n",
              "      <td>151.0</td>\n",
              "      <td>151.0</td>\n",
              "      <td>0</td>\n",
              "    </tr>\n",
              "    <tr>\n",
              "      <th>4</th>\n",
              "      <td>36763</td>\n",
              "      <td>1900</td>\n",
              "      <td>17</td>\n",
              "      <td>153</td>\n",
              "      <td>2</td>\n",
              "      <td>1</td>\n",
              "      <td>886.0</td>\n",
              "      <td>420.0</td>\n",
              "      <td>452.0</td>\n",
              "      <td>434.0</td>\n",
              "      <td>...</td>\n",
              "      <td>0</td>\n",
              "      <td>0.0</td>\n",
              "      <td>0.0</td>\n",
              "      <td>0.0</td>\n",
              "      <td>0.0</td>\n",
              "      <td>76.5</td>\n",
              "      <td>0.707107</td>\n",
              "      <td>77.0</td>\n",
              "      <td>76.0</td>\n",
              "      <td>0</td>\n",
              "    </tr>\n",
              "  </tbody>\n",
              "</table>\n",
              "<p>5 rows × 80 columns</p>\n",
              "</div>\n",
              "      <button class=\"colab-df-convert\" onclick=\"convertToInteractive('df-31b893ee-e03c-4e00-9634-e85f7a8ddee7')\"\n",
              "              title=\"Convert this dataframe to an interactive table.\"\n",
              "              style=\"display:none;\">\n",
              "        \n",
              "  <svg xmlns=\"http://www.w3.org/2000/svg\" height=\"24px\"viewBox=\"0 0 24 24\"\n",
              "       width=\"24px\">\n",
              "    <path d=\"M0 0h24v24H0V0z\" fill=\"none\"/>\n",
              "    <path d=\"M18.56 5.44l.94 2.06.94-2.06 2.06-.94-2.06-.94-.94-2.06-.94 2.06-2.06.94zm-11 1L8.5 8.5l.94-2.06 2.06-.94-2.06-.94L8.5 2.5l-.94 2.06-2.06.94zm10 10l.94 2.06.94-2.06 2.06-.94-2.06-.94-.94-2.06-.94 2.06-2.06.94z\"/><path d=\"M17.41 7.96l-1.37-1.37c-.4-.4-.92-.59-1.43-.59-.52 0-1.04.2-1.43.59L10.3 9.45l-7.72 7.72c-.78.78-.78 2.05 0 2.83L4 21.41c.39.39.9.59 1.41.59.51 0 1.02-.2 1.41-.59l7.78-7.78 2.81-2.81c.8-.78.8-2.07 0-2.86zM5.41 20L4 18.59l7.72-7.72 1.47 1.35L5.41 20z\"/>\n",
              "  </svg>\n",
              "      </button>\n",
              "      \n",
              "  <style>\n",
              "    .colab-df-container {\n",
              "      display:flex;\n",
              "      flex-wrap:wrap;\n",
              "      gap: 12px;\n",
              "    }\n",
              "\n",
              "    .colab-df-convert {\n",
              "      background-color: #E8F0FE;\n",
              "      border: none;\n",
              "      border-radius: 50%;\n",
              "      cursor: pointer;\n",
              "      display: none;\n",
              "      fill: #1967D2;\n",
              "      height: 32px;\n",
              "      padding: 0 0 0 0;\n",
              "      width: 32px;\n",
              "    }\n",
              "\n",
              "    .colab-df-convert:hover {\n",
              "      background-color: #E2EBFA;\n",
              "      box-shadow: 0px 1px 2px rgba(60, 64, 67, 0.3), 0px 1px 3px 1px rgba(60, 64, 67, 0.15);\n",
              "      fill: #174EA6;\n",
              "    }\n",
              "\n",
              "    [theme=dark] .colab-df-convert {\n",
              "      background-color: #3B4455;\n",
              "      fill: #D2E3FC;\n",
              "    }\n",
              "\n",
              "    [theme=dark] .colab-df-convert:hover {\n",
              "      background-color: #434B5C;\n",
              "      box-shadow: 0px 1px 3px 1px rgba(0, 0, 0, 0.15);\n",
              "      filter: drop-shadow(0px 1px 2px rgba(0, 0, 0, 0.3));\n",
              "      fill: #FFFFFF;\n",
              "    }\n",
              "  </style>\n",
              "\n",
              "      <script>\n",
              "        const buttonEl =\n",
              "          document.querySelector('#df-31b893ee-e03c-4e00-9634-e85f7a8ddee7 button.colab-df-convert');\n",
              "        buttonEl.style.display =\n",
              "          google.colab.kernel.accessAllowed ? 'block' : 'none';\n",
              "\n",
              "        async function convertToInteractive(key) {\n",
              "          const element = document.querySelector('#df-31b893ee-e03c-4e00-9634-e85f7a8ddee7');\n",
              "          const dataTable =\n",
              "            await google.colab.kernel.invokeFunction('convertToInteractive',\n",
              "                                                     [key], {});\n",
              "          if (!dataTable) return;\n",
              "\n",
              "          const docLinkHtml = 'Like what you see? Visit the ' +\n",
              "            '<a target=\"_blank\" href=https://colab.research.google.com/notebooks/data_table.ipynb>data table notebook</a>'\n",
              "            + ' to learn more about interactive tables.';\n",
              "          element.innerHTML = '';\n",
              "          dataTable['output_type'] = 'display_data';\n",
              "          await google.colab.output.renderOutput(dataTable, element);\n",
              "          const docLink = document.createElement('div');\n",
              "          docLink.innerHTML = docLinkHtml;\n",
              "          element.appendChild(docLink);\n",
              "        }\n",
              "      </script>\n",
              "    </div>\n",
              "  </div>\n",
              "  "
            ]
          },
          "metadata": {},
          "execution_count": 11
        }
      ]
    },
    {
      "cell_type": "code",
      "metadata": {
        "id": "EoJD7366lE9q",
        "colab": {
          "base_uri": "https://localhost:8080/"
        },
        "outputId": "ab781e4e-bf14-4191-e458-c2dc1ce664a8"
      },
      "source": [
        "print(\"Does dataframe have inf values: {}\".format(np.any(np.isinf(df))))\n",
        "print(\"Does dataframe have nan values: {}\".format(np.any(np.isnan(df))))\n",
        "print(\"Dataframe shape before dropping na/inf: {}\".format(df.shape))\n",
        "df.replace(to_replace=[np.inf,-np.inf],value=np.nan,inplace=True)\n",
        "df.dropna(inplace=True)\n",
        "print(\"Dataframe shape after dropping na/inf: {}\".format(df.shape))\n",
        "print(\"Does dataframe still have inf values: {}\".format(np.any(np.isinf(df))))\n",
        "print(\"Does dataframe still have nan values: {}\".format(np.any(np.isnan(df))))"
      ],
      "execution_count": null,
      "outputs": [
        {
          "output_type": "stream",
          "name": "stdout",
          "text": [
            "Does dataframe have inf values: True\n",
            "Does dataframe have nan values: False\n",
            "Dataframe shape before dropping na/inf: (625783, 80)\n",
            "Dataframe shape after dropping na/inf: (625415, 80)\n",
            "Does dataframe still have inf values: False\n",
            "Does dataframe still have nan values: False\n"
          ]
        }
      ]
    },
    {
      "cell_type": "code",
      "metadata": {
        "id": "pY2o-wH1lIXR",
        "colab": {
          "base_uri": "https://localhost:8080/",
          "height": 300
        },
        "outputId": "abf9de14-621e-45d6-a69c-12456f135472"
      },
      "source": [
        "X = df.iloc[:,:-1]\n",
        "X.head()"
      ],
      "execution_count": null,
      "outputs": [
        {
          "output_type": "execute_result",
          "data": {
            "text/plain": [
              "   Src_Port  Dst_Port  Protocol  Flow_Duration  Tot_Fwd_Pkts  Tot_Bwd_Pkts  \\\n",
              "0     10000     10101        17             75             1             1   \n",
              "1      2179       554         6           5310             1             2   \n",
              "2     52727      9020         6            141             0             3   \n",
              "3     52964      9020         6            151             0             2   \n",
              "4     36763      1900        17            153             2             1   \n",
              "\n",
              "   TotLen_Fwd_Pkts  TotLen_Bwd_Pkts  Fwd_Pkt_Len_Max  Fwd_Pkt_Len_Min  ...  \\\n",
              "0            982.0           1430.0            982.0            982.0  ...   \n",
              "1              0.0              0.0              0.0              0.0  ...   \n",
              "2              0.0           2806.0              0.0              0.0  ...   \n",
              "3              0.0           2776.0              0.0              0.0  ...   \n",
              "4            886.0            420.0            452.0            434.0  ...   \n",
              "\n",
              "   Fwd_Act_Data_Pkts  Fwd_Seg_Size_Min  Active_Mean  Active_Std  Active_Max  \\\n",
              "0                  1                 0          0.0         0.0         0.0   \n",
              "1                  0                 0          0.0         0.0         0.0   \n",
              "2                  0                 0          0.0         0.0         0.0   \n",
              "3                  0                 0          0.0         0.0         0.0   \n",
              "4                  2                 0          0.0         0.0         0.0   \n",
              "\n",
              "   Active_Min  Idle_Mean     Idle_Std  Idle_Max  Idle_Min  \n",
              "0         0.0       75.0     0.000000      75.0      75.0  \n",
              "1         0.0     2655.0  2261.327486    4254.0    1056.0  \n",
              "2         0.0       70.5     0.707107      71.0      70.0  \n",
              "3         0.0      151.0     0.000000     151.0     151.0  \n",
              "4         0.0       76.5     0.707107      77.0      76.0  \n",
              "\n",
              "[5 rows x 79 columns]"
            ],
            "text/html": [
              "\n",
              "  <div id=\"df-d735f741-50c1-4e34-93cf-8f2d105e0393\">\n",
              "    <div class=\"colab-df-container\">\n",
              "      <div>\n",
              "<style scoped>\n",
              "    .dataframe tbody tr th:only-of-type {\n",
              "        vertical-align: middle;\n",
              "    }\n",
              "\n",
              "    .dataframe tbody tr th {\n",
              "        vertical-align: top;\n",
              "    }\n",
              "\n",
              "    .dataframe thead th {\n",
              "        text-align: right;\n",
              "    }\n",
              "</style>\n",
              "<table border=\"1\" class=\"dataframe\">\n",
              "  <thead>\n",
              "    <tr style=\"text-align: right;\">\n",
              "      <th></th>\n",
              "      <th>Src_Port</th>\n",
              "      <th>Dst_Port</th>\n",
              "      <th>Protocol</th>\n",
              "      <th>Flow_Duration</th>\n",
              "      <th>Tot_Fwd_Pkts</th>\n",
              "      <th>Tot_Bwd_Pkts</th>\n",
              "      <th>TotLen_Fwd_Pkts</th>\n",
              "      <th>TotLen_Bwd_Pkts</th>\n",
              "      <th>Fwd_Pkt_Len_Max</th>\n",
              "      <th>Fwd_Pkt_Len_Min</th>\n",
              "      <th>...</th>\n",
              "      <th>Fwd_Act_Data_Pkts</th>\n",
              "      <th>Fwd_Seg_Size_Min</th>\n",
              "      <th>Active_Mean</th>\n",
              "      <th>Active_Std</th>\n",
              "      <th>Active_Max</th>\n",
              "      <th>Active_Min</th>\n",
              "      <th>Idle_Mean</th>\n",
              "      <th>Idle_Std</th>\n",
              "      <th>Idle_Max</th>\n",
              "      <th>Idle_Min</th>\n",
              "    </tr>\n",
              "  </thead>\n",
              "  <tbody>\n",
              "    <tr>\n",
              "      <th>0</th>\n",
              "      <td>10000</td>\n",
              "      <td>10101</td>\n",
              "      <td>17</td>\n",
              "      <td>75</td>\n",
              "      <td>1</td>\n",
              "      <td>1</td>\n",
              "      <td>982.0</td>\n",
              "      <td>1430.0</td>\n",
              "      <td>982.0</td>\n",
              "      <td>982.0</td>\n",
              "      <td>...</td>\n",
              "      <td>1</td>\n",
              "      <td>0</td>\n",
              "      <td>0.0</td>\n",
              "      <td>0.0</td>\n",
              "      <td>0.0</td>\n",
              "      <td>0.0</td>\n",
              "      <td>75.0</td>\n",
              "      <td>0.000000</td>\n",
              "      <td>75.0</td>\n",
              "      <td>75.0</td>\n",
              "    </tr>\n",
              "    <tr>\n",
              "      <th>1</th>\n",
              "      <td>2179</td>\n",
              "      <td>554</td>\n",
              "      <td>6</td>\n",
              "      <td>5310</td>\n",
              "      <td>1</td>\n",
              "      <td>2</td>\n",
              "      <td>0.0</td>\n",
              "      <td>0.0</td>\n",
              "      <td>0.0</td>\n",
              "      <td>0.0</td>\n",
              "      <td>...</td>\n",
              "      <td>0</td>\n",
              "      <td>0</td>\n",
              "      <td>0.0</td>\n",
              "      <td>0.0</td>\n",
              "      <td>0.0</td>\n",
              "      <td>0.0</td>\n",
              "      <td>2655.0</td>\n",
              "      <td>2261.327486</td>\n",
              "      <td>4254.0</td>\n",
              "      <td>1056.0</td>\n",
              "    </tr>\n",
              "    <tr>\n",
              "      <th>2</th>\n",
              "      <td>52727</td>\n",
              "      <td>9020</td>\n",
              "      <td>6</td>\n",
              "      <td>141</td>\n",
              "      <td>0</td>\n",
              "      <td>3</td>\n",
              "      <td>0.0</td>\n",
              "      <td>2806.0</td>\n",
              "      <td>0.0</td>\n",
              "      <td>0.0</td>\n",
              "      <td>...</td>\n",
              "      <td>0</td>\n",
              "      <td>0</td>\n",
              "      <td>0.0</td>\n",
              "      <td>0.0</td>\n",
              "      <td>0.0</td>\n",
              "      <td>0.0</td>\n",
              "      <td>70.5</td>\n",
              "      <td>0.707107</td>\n",
              "      <td>71.0</td>\n",
              "      <td>70.0</td>\n",
              "    </tr>\n",
              "    <tr>\n",
              "      <th>3</th>\n",
              "      <td>52964</td>\n",
              "      <td>9020</td>\n",
              "      <td>6</td>\n",
              "      <td>151</td>\n",
              "      <td>0</td>\n",
              "      <td>2</td>\n",
              "      <td>0.0</td>\n",
              "      <td>2776.0</td>\n",
              "      <td>0.0</td>\n",
              "      <td>0.0</td>\n",
              "      <td>...</td>\n",
              "      <td>0</td>\n",
              "      <td>0</td>\n",
              "      <td>0.0</td>\n",
              "      <td>0.0</td>\n",
              "      <td>0.0</td>\n",
              "      <td>0.0</td>\n",
              "      <td>151.0</td>\n",
              "      <td>0.000000</td>\n",
              "      <td>151.0</td>\n",
              "      <td>151.0</td>\n",
              "    </tr>\n",
              "    <tr>\n",
              "      <th>4</th>\n",
              "      <td>36763</td>\n",
              "      <td>1900</td>\n",
              "      <td>17</td>\n",
              "      <td>153</td>\n",
              "      <td>2</td>\n",
              "      <td>1</td>\n",
              "      <td>886.0</td>\n",
              "      <td>420.0</td>\n",
              "      <td>452.0</td>\n",
              "      <td>434.0</td>\n",
              "      <td>...</td>\n",
              "      <td>2</td>\n",
              "      <td>0</td>\n",
              "      <td>0.0</td>\n",
              "      <td>0.0</td>\n",
              "      <td>0.0</td>\n",
              "      <td>0.0</td>\n",
              "      <td>76.5</td>\n",
              "      <td>0.707107</td>\n",
              "      <td>77.0</td>\n",
              "      <td>76.0</td>\n",
              "    </tr>\n",
              "  </tbody>\n",
              "</table>\n",
              "<p>5 rows × 79 columns</p>\n",
              "</div>\n",
              "      <button class=\"colab-df-convert\" onclick=\"convertToInteractive('df-d735f741-50c1-4e34-93cf-8f2d105e0393')\"\n",
              "              title=\"Convert this dataframe to an interactive table.\"\n",
              "              style=\"display:none;\">\n",
              "        \n",
              "  <svg xmlns=\"http://www.w3.org/2000/svg\" height=\"24px\"viewBox=\"0 0 24 24\"\n",
              "       width=\"24px\">\n",
              "    <path d=\"M0 0h24v24H0V0z\" fill=\"none\"/>\n",
              "    <path d=\"M18.56 5.44l.94 2.06.94-2.06 2.06-.94-2.06-.94-.94-2.06-.94 2.06-2.06.94zm-11 1L8.5 8.5l.94-2.06 2.06-.94-2.06-.94L8.5 2.5l-.94 2.06-2.06.94zm10 10l.94 2.06.94-2.06 2.06-.94-2.06-.94-.94-2.06-.94 2.06-2.06.94z\"/><path d=\"M17.41 7.96l-1.37-1.37c-.4-.4-.92-.59-1.43-.59-.52 0-1.04.2-1.43.59L10.3 9.45l-7.72 7.72c-.78.78-.78 2.05 0 2.83L4 21.41c.39.39.9.59 1.41.59.51 0 1.02-.2 1.41-.59l7.78-7.78 2.81-2.81c.8-.78.8-2.07 0-2.86zM5.41 20L4 18.59l7.72-7.72 1.47 1.35L5.41 20z\"/>\n",
              "  </svg>\n",
              "      </button>\n",
              "      \n",
              "  <style>\n",
              "    .colab-df-container {\n",
              "      display:flex;\n",
              "      flex-wrap:wrap;\n",
              "      gap: 12px;\n",
              "    }\n",
              "\n",
              "    .colab-df-convert {\n",
              "      background-color: #E8F0FE;\n",
              "      border: none;\n",
              "      border-radius: 50%;\n",
              "      cursor: pointer;\n",
              "      display: none;\n",
              "      fill: #1967D2;\n",
              "      height: 32px;\n",
              "      padding: 0 0 0 0;\n",
              "      width: 32px;\n",
              "    }\n",
              "\n",
              "    .colab-df-convert:hover {\n",
              "      background-color: #E2EBFA;\n",
              "      box-shadow: 0px 1px 2px rgba(60, 64, 67, 0.3), 0px 1px 3px 1px rgba(60, 64, 67, 0.15);\n",
              "      fill: #174EA6;\n",
              "    }\n",
              "\n",
              "    [theme=dark] .colab-df-convert {\n",
              "      background-color: #3B4455;\n",
              "      fill: #D2E3FC;\n",
              "    }\n",
              "\n",
              "    [theme=dark] .colab-df-convert:hover {\n",
              "      background-color: #434B5C;\n",
              "      box-shadow: 0px 1px 3px 1px rgba(0, 0, 0, 0.15);\n",
              "      filter: drop-shadow(0px 1px 2px rgba(0, 0, 0, 0.3));\n",
              "      fill: #FFFFFF;\n",
              "    }\n",
              "  </style>\n",
              "\n",
              "      <script>\n",
              "        const buttonEl =\n",
              "          document.querySelector('#df-d735f741-50c1-4e34-93cf-8f2d105e0393 button.colab-df-convert');\n",
              "        buttonEl.style.display =\n",
              "          google.colab.kernel.accessAllowed ? 'block' : 'none';\n",
              "\n",
              "        async function convertToInteractive(key) {\n",
              "          const element = document.querySelector('#df-d735f741-50c1-4e34-93cf-8f2d105e0393');\n",
              "          const dataTable =\n",
              "            await google.colab.kernel.invokeFunction('convertToInteractive',\n",
              "                                                     [key], {});\n",
              "          if (!dataTable) return;\n",
              "\n",
              "          const docLinkHtml = 'Like what you see? Visit the ' +\n",
              "            '<a target=\"_blank\" href=https://colab.research.google.com/notebooks/data_table.ipynb>data table notebook</a>'\n",
              "            + ' to learn more about interactive tables.';\n",
              "          element.innerHTML = '';\n",
              "          dataTable['output_type'] = 'display_data';\n",
              "          await google.colab.output.renderOutput(dataTable, element);\n",
              "          const docLink = document.createElement('div');\n",
              "          docLink.innerHTML = docLinkHtml;\n",
              "          element.appendChild(docLink);\n",
              "        }\n",
              "      </script>\n",
              "    </div>\n",
              "  </div>\n",
              "  "
            ]
          },
          "metadata": {},
          "execution_count": 13
        }
      ]
    },
    {
      "cell_type": "code",
      "metadata": {
        "id": "bzvoYQHslkqt",
        "colab": {
          "base_uri": "https://localhost:8080/"
        },
        "outputId": "50376154-d995-4d67-e821-95ade68fbe4c"
      },
      "source": [
        "Y = df.iloc[:,-1]\n",
        "Y.head()"
      ],
      "execution_count": null,
      "outputs": [
        {
          "output_type": "execute_result",
          "data": {
            "text/plain": [
              "0    0\n",
              "1    0\n",
              "2    0\n",
              "3    0\n",
              "4    0\n",
              "Name: Labels, dtype: int64"
            ]
          },
          "metadata": {},
          "execution_count": 14
        }
      ]
    },
    {
      "cell_type": "code",
      "metadata": {
        "id": "J70aoDghlmwz",
        "colab": {
          "base_uri": "https://localhost:8080/"
        },
        "outputId": "6fac32ae-5a68-48eb-c247-0678a8edf45c"
      },
      "source": [
        "X = normalize(X,axis=1)\n",
        "X"
      ],
      "execution_count": null,
      "outputs": [
        {
          "output_type": "execute_result",
          "data": {
            "text/plain": [
              "array([[3.10944406e-04, 3.14084945e-04, 5.28605490e-07, ...,\n",
              "        0.00000000e+00, 2.33208305e-06, 2.33208305e-06],\n",
              "       [1.06016438e-01, 2.69541564e-02, 2.91922271e-04, ...,\n",
              "        1.10021976e-01, 2.06972890e-01, 5.13783198e-02],\n",
              "       [2.64878015e-03, 4.53126424e-04, 3.01414473e-07, ...,\n",
              "        3.55220363e-08, 3.56673793e-06, 3.51650218e-06],\n",
              "       ...,\n",
              "       [7.50152989e-01, 1.28299360e-01, 8.53432552e-05, ...,\n",
              "        0.00000000e+00, 1.09523844e-03, 1.09523844e-03],\n",
              "       [5.19882265e-04, 2.86938123e-03, 3.45819688e-07, ...,\n",
              "        4.07552411e-07, 7.20457684e-06, 6.62821069e-06],\n",
              "       [4.61538164e-04, 4.66199699e-04, 7.84614878e-07, ...,\n",
              "        1.50124112e-06, 5.63076560e-06, 3.50769004e-06]])"
            ]
          },
          "metadata": {},
          "execution_count": 15
        }
      ]
    },
    {
      "cell_type": "markdown",
      "metadata": {
        "id": "bXaJbw4-2WQD"
      },
      "source": [
        "## Train and Test set split"
      ]
    },
    {
      "cell_type": "code",
      "metadata": {
        "id": "ajZSytJ9lyC0"
      },
      "source": [
        "X_train, X_test, Y_train, Y_test = train_test_split(X, Y, stratify=Y,random_state=1,test_size=0.3)\n",
        "# Y_train = Y_train.values.reshape(-1,1)\n",
        "# Y_test = Y_test.values.reshape(-1,1)"
      ],
      "execution_count": null,
      "outputs": []
    },
    {
      "cell_type": "code",
      "metadata": {
        "id": "-YLBIXCTl9rl",
        "colab": {
          "base_uri": "https://localhost:8080/"
        },
        "outputId": "b597aa45-aabd-454b-f0ba-ef76656a9b43"
      },
      "source": [
        "print(\"Train set X size: \",X_train.shape)\n",
        "print(\"Train set Y size: \",Y_train.shape)\n",
        "print(\"Test set X size: \",X_test.shape)\n",
        "print(\"Test set Y size: \",Y_test.shape)"
      ],
      "execution_count": null,
      "outputs": [
        {
          "output_type": "stream",
          "name": "stdout",
          "text": [
            "Train set X size:  (437790, 79)\n",
            "Train set Y size:  (437790,)\n",
            "Test set X size:  (187625, 79)\n",
            "Test set Y size:  (187625,)\n"
          ]
        }
      ]
    },
    {
      "cell_type": "markdown",
      "metadata": {
        "id": "F94S_bKi2b15"
      },
      "source": [
        "## Neural Network based Binary Classifier using Keras:\n",
        "---"
      ]
    },
    {
      "cell_type": "code",
      "metadata": {
        "id": "KJBMT1Vql_o7"
      },
      "source": [
        "model = Sequential()\n",
        "model.add(Dense(units=60,input_dim=79,activation='relu',kernel_initializer='glorot_uniform'))\n",
        "model.add(Dense(units=30,activation='relu',kernel_initializer='glorot_uniform'))\n",
        "model.add(Dense(units=15,activation='relu',kernel_initializer='glorot_uniform'))\n",
        "model.add(Dense(1,activation='sigmoid',kernel_initializer='glorot_uniform'))\n",
        "model.compile(optimizer='adam',loss='binary_crossentropy',metrics=['acc'])"
      ],
      "execution_count": null,
      "outputs": []
    },
    {
      "cell_type": "code",
      "metadata": {
        "id": "jEGOpVEIoAu8",
        "colab": {
          "base_uri": "https://localhost:8080/"
        },
        "outputId": "c897b3ae-59c0-48b4-8b15-68b0715509b7"
      },
      "source": [
        "history = model.fit(X_train,Y_train,batch_size=100,epochs=15)"
      ],
      "execution_count": null,
      "outputs": [
        {
          "output_type": "stream",
          "name": "stdout",
          "text": [
            "Epoch 1/15\n",
            "4378/4378 [==============================] - 15s 3ms/step - loss: 0.1536 - acc: 0.9520\n",
            "Epoch 2/15\n",
            "4378/4378 [==============================] - 12s 3ms/step - loss: 0.0942 - acc: 0.9710\n",
            "Epoch 3/15\n",
            "4378/4378 [==============================] - 12s 3ms/step - loss: 0.0838 - acc: 0.9746\n",
            "Epoch 4/15\n",
            "4378/4378 [==============================] - 12s 3ms/step - loss: 0.0782 - acc: 0.9766\n",
            "Epoch 5/15\n",
            "4378/4378 [==============================] - 13s 3ms/step - loss: 0.0747 - acc: 0.9780\n",
            "Epoch 6/15\n",
            "4378/4378 [==============================] - 12s 3ms/step - loss: 0.0717 - acc: 0.9790\n",
            "Epoch 7/15\n",
            "4378/4378 [==============================] - 12s 3ms/step - loss: 0.0694 - acc: 0.9800\n",
            "Epoch 8/15\n",
            "4378/4378 [==============================] - 12s 3ms/step - loss: 0.0674 - acc: 0.9808\n",
            "Epoch 9/15\n",
            "4378/4378 [==============================] - 13s 3ms/step - loss: 0.0652 - acc: 0.9814\n",
            "Epoch 10/15\n",
            "4378/4378 [==============================] - 12s 3ms/step - loss: 0.0624 - acc: 0.9827\n",
            "Epoch 11/15\n",
            "4378/4378 [==============================] - 12s 3ms/step - loss: 0.0600 - acc: 0.9834\n",
            "Epoch 12/15\n",
            "4378/4378 [==============================] - 12s 3ms/step - loss: 0.0556 - acc: 0.9848\n",
            "Epoch 13/15\n",
            "4378/4378 [==============================] - 12s 3ms/step - loss: 0.0533 - acc: 0.9855\n",
            "Epoch 14/15\n",
            "4378/4378 [==============================] - 12s 3ms/step - loss: 0.0515 - acc: 0.9862\n",
            "Epoch 15/15\n",
            "4378/4378 [==============================] - 12s 3ms/step - loss: 0.0508 - acc: 0.9864\n"
          ]
        }
      ]
    },
    {
      "cell_type": "markdown",
      "metadata": {
        "id": "EFhD79bOrlVH"
      },
      "source": [
        "#### Loss and Accuracy"
      ]
    },
    {
      "cell_type": "code",
      "metadata": {
        "id": "ztJ31H6JojzW",
        "colab": {
          "base_uri": "https://localhost:8080/"
        },
        "outputId": "9d88da1c-9f91-4ad2-91d7-646fb8e7ee04"
      },
      "source": [
        "loss,accuracy = model.evaluate(X_test,Y_test)\n",
        "print(\"Loss: {}, Accuracy: {}\".format(loss,accuracy))"
      ],
      "execution_count": null,
      "outputs": [
        {
          "output_type": "stream",
          "name": "stdout",
          "text": [
            "5864/5864 [==============================] - 12s 2ms/step - loss: 0.0469 - acc: 0.9883\n",
            "Loss: 0.04694807529449463, Accuracy: 0.9883224368095398\n"
          ]
        }
      ]
    },
    {
      "cell_type": "markdown",
      "metadata": {
        "id": "i59ekFqptWfH"
      },
      "source": [
        "#### Predictions"
      ]
    },
    {
      "cell_type": "code",
      "metadata": {
        "id": "Ab4qJEG8uAiO",
        "colab": {
          "base_uri": "https://localhost:8080/"
        },
        "outputId": "0ddc157c-ad30-467a-ba7d-232a172e76c2"
      },
      "source": [
        "predictions = model.predict(X_test)\n",
        "predictions = predictions>0.5\n",
        "predictions"
      ],
      "execution_count": null,
      "outputs": [
        {
          "output_type": "execute_result",
          "data": {
            "text/plain": [
              "array([[False],\n",
              "       [False],\n",
              "       [False],\n",
              "       ...,\n",
              "       [False],\n",
              "       [False],\n",
              "       [False]])"
            ]
          },
          "metadata": {},
          "execution_count": 21
        }
      ]
    },
    {
      "cell_type": "markdown",
      "metadata": {
        "id": "IZDBrQjVtcKJ"
      },
      "source": [
        "#### Loss and Accuracy Graph"
      ]
    },
    {
      "cell_type": "code",
      "metadata": {
        "id": "vFTPdyqctgm0",
        "colab": {
          "base_uri": "https://localhost:8080/",
          "height": 279
        },
        "outputId": "d0104960-459e-4c75-cded-36c9da19ab2a"
      },
      "source": [
        "plt.plot(history.history['acc'])\n",
        "plt.xlabel('Epochs')\n",
        "plt.ylabel('Accuracy')\n",
        "plt.show()"
      ],
      "execution_count": null,
      "outputs": [
        {
          "output_type": "display_data",
          "data": {
            "text/plain": [
              "<Figure size 432x288 with 1 Axes>"
            ],
            "image/png": "[encoded data removed]"
          },
          "metadata": {
            "needs_background": "light"
          }
        }
      ]
    },
    {
      "cell_type": "code",
      "metadata": {
        "id": "rqQ5RxUntyqT",
        "colab": {
          "base_uri": "https://localhost:8080/",
          "height": 279
        },
        "outputId": "0d6e56e4-455f-412c-c47d-fd63f35db545"
      },
      "source": [
        "plt.plot(history.history['loss'])\n",
        "plt.xlabel('Epochs')\n",
        "plt.ylabel('Loss')\n",
        "plt.show()"
      ],
      "execution_count": null,
      "outputs": [
        {
          "output_type": "display_data",
          "data": {
            "text/plain": [
              "<Figure size 432x288 with 1 Axes>"
            ],
            "image/png": "[encoded data removed]"
          },
          "metadata": {
            "needs_background": "light"
          }
        }
      ]
    },
    {
      "cell_type": "markdown",
      "metadata": {
        "id": "JlXEiqcg3d6H"
      },
      "source": [
        "#### F1 Score"
      ]
    },
    {
      "cell_type": "code",
      "metadata": {
        "id": "aEVFDSiA3yxb",
        "colab": {
          "base_uri": "https://localhost:8080/"
        },
        "outputId": "1d1ac4ec-ad4b-4fa5-b832-2ce16aac6da9"
      },
      "source": [
        "print(\"F1: %f\"% f1_score(Y_test, predictions))"
      ],
      "execution_count": null,
      "outputs": [
        {
          "output_type": "stream",
          "name": "stdout",
          "text": [
            "F1: 0.900963\n"
          ]
        }
      ]
    },
    {
      "cell_type": "markdown",
      "metadata": {
        "id": "8cRDg81s3iQu"
      },
      "source": [
        "#### Precision Score"
      ]
    },
    {
      "cell_type": "code",
      "metadata": {
        "id": "w3TGiCz23zXf",
        "colab": {
          "base_uri": "https://localhost:8080/"
        },
        "outputId": "146b2a88-f2b4-4c0e-f3ea-0d8c9a37ef4d"
      },
      "source": [
        "print(\"Precision: %f \"%precision_score(Y_test,predictions))"
      ],
      "execution_count": null,
      "outputs": [
        {
          "output_type": "stream",
          "name": "stdout",
          "text": [
            "Precision: 0.986635 \n"
          ]
        }
      ]
    },
    {
      "cell_type": "markdown",
      "metadata": {
        "id": "f-555UgI3lmn"
      },
      "source": [
        "#### Recall Score"
      ]
    },
    {
      "cell_type": "code",
      "metadata": {
        "id": "jpMIBSoi3zy3",
        "colab": {
          "base_uri": "https://localhost:8080/"
        },
        "outputId": "5db8f6de-6810-4c7e-e891-ae5866c6612c"
      },
      "source": [
        "print(\"Recall: %f \"%recall_score(Y_test,predictions))"
      ],
      "execution_count": null,
      "outputs": [
        {
          "output_type": "stream",
          "name": "stdout",
          "text": [
            "Recall: 0.828980 \n"
          ]
        }
      ]
    },
    {
      "cell_type": "code",
      "metadata": {
        "id": "MIngqVby-u_r"
      },
      "source": [
        "def plot_prec_recall_vs_tresh(precisions, recalls, thresholds):\n",
        "    plt.plot(thresholds, precisions[:-1], 'b--', label='precision')\n",
        "    plt.plot(thresholds, recalls[:-1], 'g--', label = 'recall')\n",
        "    plt.xlabel('Threshold')\n",
        "    plt.legend(loc='upper left')\n",
        "    plt.ylim([0,1])"
      ],
      "execution_count": null,
      "outputs": []
    },
    {
      "cell_type": "code",
      "metadata": {
        "id": "ZkFJ86lz-8Yl"
      },
      "source": [
        "prec, rec, tre = precision_recall_curve(Y_test, predictions)"
      ],
      "execution_count": null,
      "outputs": []
    },
    {
      "cell_type": "code",
      "metadata": {
        "id": "8qNMBu_F_CvB",
        "colab": {
          "base_uri": "https://localhost:8080/",
          "height": 283
        },
        "outputId": "be0f77e6-4531-455f-dd93-f4d09f45b8f2"
      },
      "source": [
        "plot_prec_recall_vs_tresh(prec, rec, tre)\n",
        "plt.show()"
      ],
      "execution_count": null,
      "outputs": [
        {
          "output_type": "display_data",
          "data": {
            "text/plain": [
              "<Figure size 432x288 with 1 Axes>"
            ],
            "image/png": "[encoded data removed]"
          },
          "metadata": {
            "needs_background": "light"
          }
        }
      ]
    },
    {
      "cell_type": "markdown",
      "metadata": {
        "id": "anwA4azuvhCf"
      },
      "source": [
        "#### Confusion Matrix"
      ]
    },
    {
      "cell_type": "code",
      "metadata": {
        "id": "yDSE56HWugkl",
        "colab": {
          "base_uri": "https://localhost:8080/"
        },
        "outputId": "ba590194-6b15-4332-fc39-b96c0e1af2fe"
      },
      "source": [
        "cm = confusion_matrix(Y_test,predictions)\n",
        "cm"
      ],
      "execution_count": null,
      "outputs": [
        {
          "output_type": "execute_result",
          "data": {
            "text/plain": [
              "array([[175468,    135],\n",
              "       [  2056,   9966]])"
            ]
          },
          "metadata": {},
          "execution_count": 30
        }
      ]
    },
    {
      "cell_type": "markdown",
      "metadata": {
        "id": "T-cZiL9SvkHI"
      },
      "source": [
        "#### Heat Map"
      ]
    },
    {
      "cell_type": "code",
      "metadata": {
        "id": "SsC2ItT9vA48",
        "colab": {
          "base_uri": "https://localhost:8080/",
          "height": 282
        },
        "outputId": "143abfeb-3ce6-4246-8b0f-640e421d45ca"
      },
      "source": [
        "sns.heatmap(cm,annot=True,fmt='g')"
      ],
      "execution_count": null,
      "outputs": [
        {
          "output_type": "execute_result",
          "data": {
            "text/plain": [
              "<matplotlib.axes._subplots.AxesSubplot at 0x7f32901f4110>"
            ]
          },
          "metadata": {},
          "execution_count": 31
        },
        {
          "output_type": "display_data",
          "data": {
            "text/plain": [
              "<Figure size 432x288 with 2 Axes>"
            ],
            "image/png": "[encoded data removed]"
          },
          "metadata": {
            "needs_background": "light"
          }
        }
      ]
    },
    {
      "cell_type": "markdown",
      "metadata": {
        "id": "TYPHOrKuGFiE"
      },
      "source": [
        "#### ROC CURVE"
      ]
    },
    {
      "cell_type": "code",
      "metadata": {
        "id": "WRRmhxUIGJ4l"
      },
      "source": [
        "ns_fpr, ns_tpr, _ = roc_curve(Y_test, predictions)"
      ],
      "execution_count": null,
      "outputs": []
    },
    {
      "cell_type": "code",
      "metadata": {
        "colab": {
          "base_uri": "https://localhost:8080/",
          "height": 279
        },
        "id": "u135GDnuGlaJ",
        "outputId": "9ae9f7ab-7915-4e11-eb6e-fc16cb7800b4"
      },
      "source": [
        "plt.plot(ns_fpr, ns_tpr, linestyle='--')\n",
        "# axis labels\n",
        "plt.xlabel('False Positive Rate')\n",
        "plt.ylabel('True Positive Rate')\n",
        "# show the plot\n",
        "plt.show()"
      ],
      "execution_count": null,
      "outputs": [
        {
          "output_type": "display_data",
          "data": {
            "text/plain": [
              "<Figure size 432x288 with 1 Axes>"
            ],
            "image/png": "[encoded data removed]"
          },
          "metadata": {
            "needs_background": "light"
          }
        }
      ]
    },
    {
      "cell_type": "code",
      "metadata": {
        "id": "4h0x3F4hEHAm",
        "colab": {
          "base_uri": "https://localhost:8080/"
        },
        "outputId": "3e5f5bf9-0192-487f-fe0c-d4cccf6616f7"
      },
      "source": [
        "df = pd.read_csv('/content/drive/My Drive/IoTID20.csv')\n",
        "labels = df.iloc[:,-1]\n",
        "df = df.select_dtypes(exclude=['object'])\n",
        "\n",
        "df.info()"
      ],
      "execution_count": null,
      "outputs": [
        {
          "output_type": "stream",
          "name": "stdout",
          "text": [
            "<class 'pandas.core.frame.DataFrame'>\n",
            "RangeIndex: 625783 entries, 0 to 625782\n",
            "Data columns (total 79 columns):\n",
            " #   Column             Non-Null Count   Dtype  \n",
            "---  ------             --------------   -----  \n",
            " 0   Src_Port           625783 non-null  int64  \n",
            " 1   Dst_Port           625783 non-null  int64  \n",
            " 2   Protocol           625783 non-null  int64  \n",
            " 3   Flow_Duration      625783 non-null  int64  \n",
            " 4   Tot_Fwd_Pkts       625783 non-null  int64  \n",
            " 5   Tot_Bwd_Pkts       625783 non-null  int64  \n",
            " 6   TotLen_Fwd_Pkts    625783 non-null  float64\n",
            " 7   TotLen_Bwd_Pkts    625783 non-null  float64\n",
            " 8   Fwd_Pkt_Len_Max    625783 non-null  float64\n",
            " 9   Fwd_Pkt_Len_Min    625783 non-null  float64\n",
            " 10  Fwd_Pkt_Len_Mean   625783 non-null  float64\n",
            " 11  Fwd_Pkt_Len_Std    625783 non-null  float64\n",
            " 12  Bwd_Pkt_Len_Max    625783 non-null  float64\n",
            " 13  Bwd_Pkt_Len_Min    625783 non-null  float64\n",
            " 14  Bwd_Pkt_Len_Mean   625783 non-null  float64\n",
            " 15  Bwd_Pkt_Len_Std    625783 non-null  float64\n",
            " 16  Flow_Byts/s        625783 non-null  float64\n",
            " 17  Flow_Pkts/s        625783 non-null  float64\n",
            " 18  Flow_IAT_Mean      625783 non-null  float64\n",
            " 19  Flow_IAT_Std       625783 non-null  float64\n",
            " 20  Flow_IAT_Max       625783 non-null  float64\n",
            " 21  Flow_IAT_Min       625783 non-null  float64\n",
            " 22  Fwd_IAT_Tot        625783 non-null  float64\n",
            " 23  Fwd_IAT_Mean       625783 non-null  float64\n",
            " 24  Bwd_IAT_Mean       625783 non-null  float64\n",
            " 25  Fwd_IAT_Max        625783 non-null  float64\n",
            " 26  Fwd_IAT_Min        625783 non-null  float64\n",
            " 27  Bwd_IAT_Tot        625783 non-null  float64\n",
            " 28  Bwd_IAT_Mean.1     625783 non-null  float64\n",
            " 29  Bwd_IAT_Std        625783 non-null  float64\n",
            " 30  Bwd_IAT_Max        625783 non-null  float64\n",
            " 31  Bwd_IAT_Min        625783 non-null  float64\n",
            " 32  Fwd_PSH_Flags      625783 non-null  int64  \n",
            " 33  Bwd_PSH_Flags      625783 non-null  int64  \n",
            " 34  Fwd_URG_Flags      625783 non-null  int64  \n",
            " 35  Bwd_URG_Flags      625783 non-null  int64  \n",
            " 36  Fwd_Header_Len     625783 non-null  int64  \n",
            " 37  Bwd_Header_Len     625783 non-null  int64  \n",
            " 38  Fwd_Pkts/s         625783 non-null  float64\n",
            " 39  Bwd_Pkts/s         625783 non-null  float64\n",
            " 40  Pkt_Len_Min        625783 non-null  float64\n",
            " 41  Pkt_Len_Max        625783 non-null  float64\n",
            " 42  Pkt_Len_Mean       625783 non-null  float64\n",
            " 43  Pkt_Len_Std        625783 non-null  float64\n",
            " 44  Pkt_Len_Var        625783 non-null  float64\n",
            " 45  FIN_Flag_Cnt       625783 non-null  int64  \n",
            " 46  SYN_Flag_Cnt       625783 non-null  int64  \n",
            " 47  RST_Flag_Cnt       625783 non-null  int64  \n",
            " 48  PSH_Flag_Cnt       625783 non-null  int64  \n",
            " 49  ACK_Flag_Cnt       625783 non-null  int64  \n",
            " 50  URG_Flag_Cnt       625783 non-null  int64  \n",
            " 51  CWE_Flag_Count     625783 non-null  int64  \n",
            " 52  ECE_Flag_Cnt       625783 non-null  int64  \n",
            " 53  Down/Up_Ratio      625783 non-null  float64\n",
            " 54  Pkt_Size_Avg       625783 non-null  float64\n",
            " 55  Fwd_Seg_Size_Avg   625783 non-null  float64\n",
            " 56  Bwd_Seg_Size_Avg   625783 non-null  float64\n",
            " 57  Fwd_Byts/b_Avg     625783 non-null  int64  \n",
            " 58  Fwd_Pkts/b_Avg     625783 non-null  int64  \n",
            " 59  Fwd_Blk_Rate_Avg   625783 non-null  int64  \n",
            " 60  Bwd_Byts/b_Avg     625783 non-null  int64  \n",
            " 61  Bwd_Pkts/b_Avg     625783 non-null  int64  \n",
            " 62  Bwd_Blk_Rate_Avg   625783 non-null  int64  \n",
            " 63  Subflow_Fwd_Pkts   625783 non-null  int64  \n",
            " 64  Subflow_Fwd_Byts   625783 non-null  int64  \n",
            " 65  Subflow_Bwd_Pkts   625783 non-null  int64  \n",
            " 66  Subflow_Bwd_Byts   625783 non-null  int64  \n",
            " 67  Init_Fwd_Win_Byts  625783 non-null  int64  \n",
            " 68  Init_Bwd_Win_Byts  625783 non-null  int64  \n",
            " 69  Fwd_Act_Data_Pkts  625783 non-null  int64  \n",
            " 70  Fwd_Seg_Size_Min   625783 non-null  int64  \n",
            " 71  Active_Mean        625783 non-null  float64\n",
            " 72  Active_Std         625783 non-null  float64\n",
            " 73  Active_Max         625783 non-null  float64\n",
            " 74  Active_Min         625783 non-null  float64\n",
            " 75  Idle_Mean          625783 non-null  float64\n",
            " 76  Idle_Std           625783 non-null  float64\n",
            " 77  Idle_Max           625783 non-null  float64\n",
            " 78  Idle_Min           625783 non-null  float64\n",
            "dtypes: float64(45), int64(34)\n",
            "memory usage: 377.2 MB\n"
          ]
        }
      ]
    },
    {
      "cell_type": "code",
      "metadata": {
        "id": "zzV8BMXY-fcm",
        "colab": {
          "base_uri": "https://localhost:8080/"
        },
        "outputId": "c997435f-81f3-4d29-c90d-f87b9d0984c7"
      },
      "source": [
        "le = LabelEncoder()\n",
        "en_labels = le.fit_transform(labels)\n",
        "print(le.classes_)\n",
        "print(\"Total Classes: \",len(le.classes_))"
      ],
      "execution_count": null,
      "outputs": [
        {
          "output_type": "stream",
          "name": "stdout",
          "text": [
            "['DoS-Synflooding' 'MITM ARP Spoofing' 'Mirai-Ackflooding'\n",
            " 'Mirai-HTTP Flooding' 'Mirai-Hostbruteforceg' 'Mirai-UDP Flooding'\n",
            " 'Normal' 'Scan Hostport' 'Scan Port OS']\n",
            "Total Classes:  9\n"
          ]
        }
      ]
    },
    {
      "cell_type": "code",
      "metadata": {
        "id": "DfSCI-1HDczQ",
        "colab": {
          "base_uri": "https://localhost:8080/",
          "height": 300
        },
        "outputId": "be8e9638-4307-474f-dcae-2482aae9e531"
      },
      "source": [
        "#Concatinating the labels with the dataset\n",
        "df['Labels'] = en_labels\n",
        "df.head()"
      ],
      "execution_count": null,
      "outputs": [
        {
          "output_type": "execute_result",
          "data": {
            "text/plain": [
              "   Src_Port  Dst_Port  Protocol  Flow_Duration  Tot_Fwd_Pkts  Tot_Bwd_Pkts  \\\n",
              "0     10000     10101        17             75             1             1   \n",
              "1      2179       554         6           5310             1             2   \n",
              "2     52727      9020         6            141             0             3   \n",
              "3     52964      9020         6            151             0             2   \n",
              "4     36763      1900        17            153             2             1   \n",
              "\n",
              "   TotLen_Fwd_Pkts  TotLen_Bwd_Pkts  Fwd_Pkt_Len_Max  Fwd_Pkt_Len_Min  ...  \\\n",
              "0            982.0           1430.0            982.0            982.0  ...   \n",
              "1              0.0              0.0              0.0              0.0  ...   \n",
              "2              0.0           2806.0              0.0              0.0  ...   \n",
              "3              0.0           2776.0              0.0              0.0  ...   \n",
              "4            886.0            420.0            452.0            434.0  ...   \n",
              "\n",
              "   Fwd_Seg_Size_Min  Active_Mean  Active_Std  Active_Max  Active_Min  \\\n",
              "0                 0          0.0         0.0         0.0         0.0   \n",
              "1                 0          0.0         0.0         0.0         0.0   \n",
              "2                 0          0.0         0.0         0.0         0.0   \n",
              "3                 0          0.0         0.0         0.0         0.0   \n",
              "4                 0          0.0         0.0         0.0         0.0   \n",
              "\n",
              "   Idle_Mean     Idle_Std  Idle_Max  Idle_Min  Labels  \n",
              "0       75.0     0.000000      75.0      75.0       2  \n",
              "1     2655.0  2261.327486    4254.0    1056.0       0  \n",
              "2       70.5     0.707107      71.0      70.0       8  \n",
              "3      151.0     0.000000     151.0     151.0       4  \n",
              "4       76.5     0.707107      77.0      76.0       4  \n",
              "\n",
              "[5 rows x 80 columns]"
            ],
            "text/html": [
              "\n",
              "  <div id=\"df-ce8f093c-1459-4a24-b3f2-f1af0a5f58b8\">\n",
              "    <div class=\"colab-df-container\">\n",
              "      <div>\n",
              "<style scoped>\n",
              "    .dataframe tbody tr th:only-of-type {\n",
              "        vertical-align: middle;\n",
              "    }\n",
              "\n",
              "    .dataframe tbody tr th {\n",
              "        vertical-align: top;\n",
              "    }\n",
              "\n",
              "    .dataframe thead th {\n",
              "        text-align: right;\n",
              "    }\n",
              "</style>\n",
              "<table border=\"1\" class=\"dataframe\">\n",
              "  <thead>\n",
              "    <tr style=\"text-align: right;\">\n",
              "      <th></th>\n",
              "      <th>Src_Port</th>\n",
              "      <th>Dst_Port</th>\n",
              "      <th>Protocol</th>\n",
              "      <th>Flow_Duration</th>\n",
              "      <th>Tot_Fwd_Pkts</th>\n",
              "      <th>Tot_Bwd_Pkts</th>\n",
              "      <th>TotLen_Fwd_Pkts</th>\n",
              "      <th>TotLen_Bwd_Pkts</th>\n",
              "      <th>Fwd_Pkt_Len_Max</th>\n",
              "      <th>Fwd_Pkt_Len_Min</th>\n",
              "      <th>...</th>\n",
              "      <th>Fwd_Seg_Size_Min</th>\n",
              "      <th>Active_Mean</th>\n",
              "      <th>Active_Std</th>\n",
              "      <th>Active_Max</th>\n",
              "      <th>Active_Min</th>\n",
              "      <th>Idle_Mean</th>\n",
              "      <th>Idle_Std</th>\n",
              "      <th>Idle_Max</th>\n",
              "      <th>Idle_Min</th>\n",
              "      <th>Labels</th>\n",
              "    </tr>\n",
              "  </thead>\n",
              "  <tbody>\n",
              "    <tr>\n",
              "      <th>0</th>\n",
              "      <td>10000</td>\n",
              "      <td>10101</td>\n",
              "      <td>17</td>\n",
              "      <td>75</td>\n",
              "      <td>1</td>\n",
              "      <td>1</td>\n",
              "      <td>982.0</td>\n",
              "      <td>1430.0</td>\n",
              "      <td>982.0</td>\n",
              "      <td>982.0</td>\n",
              "      <td>...</td>\n",
              "      <td>0</td>\n",
              "      <td>0.0</td>\n",
              "      <td>0.0</td>\n",
              "      <td>0.0</td>\n",
              "      <td>0.0</td>\n",
              "      <td>75.0</td>\n",
              "      <td>0.000000</td>\n",
              "      <td>75.0</td>\n",
              "      <td>75.0</td>\n",
              "      <td>2</td>\n",
              "    </tr>\n",
              "    <tr>\n",
              "      <th>1</th>\n",
              "      <td>2179</td>\n",
              "      <td>554</td>\n",
              "      <td>6</td>\n",
              "      <td>5310</td>\n",
              "      <td>1</td>\n",
              "      <td>2</td>\n",
              "      <td>0.0</td>\n",
              "      <td>0.0</td>\n",
              "      <td>0.0</td>\n",
              "      <td>0.0</td>\n",
              "      <td>...</td>\n",
              "      <td>0</td>\n",
              "      <td>0.0</td>\n",
              "      <td>0.0</td>\n",
              "      <td>0.0</td>\n",
              "      <td>0.0</td>\n",
              "      <td>2655.0</td>\n",
              "      <td>2261.327486</td>\n",
              "      <td>4254.0</td>\n",
              "      <td>1056.0</td>\n",
              "      <td>0</td>\n",
              "    </tr>\n",
              "    <tr>\n",
              "      <th>2</th>\n",
              "      <td>52727</td>\n",
              "      <td>9020</td>\n",
              "      <td>6</td>\n",
              "      <td>141</td>\n",
              "      <td>0</td>\n",
              "      <td>3</td>\n",
              "      <td>0.0</td>\n",
              "      <td>2806.0</td>\n",
              "      <td>0.0</td>\n",
              "      <td>0.0</td>\n",
              "      <td>...</td>\n",
              "      <td>0</td>\n",
              "      <td>0.0</td>\n",
              "      <td>0.0</td>\n",
              "      <td>0.0</td>\n",
              "      <td>0.0</td>\n",
              "      <td>70.5</td>\n",
              "      <td>0.707107</td>\n",
              "      <td>71.0</td>\n",
              "      <td>70.0</td>\n",
              "      <td>8</td>\n",
              "    </tr>\n",
              "    <tr>\n",
              "      <th>3</th>\n",
              "      <td>52964</td>\n",
              "      <td>9020</td>\n",
              "      <td>6</td>\n",
              "      <td>151</td>\n",
              "      <td>0</td>\n",
              "      <td>2</td>\n",
              "      <td>0.0</td>\n",
              "      <td>2776.0</td>\n",
              "      <td>0.0</td>\n",
              "      <td>0.0</td>\n",
              "      <td>...</td>\n",
              "      <td>0</td>\n",
              "      <td>0.0</td>\n",
              "      <td>0.0</td>\n",
              "      <td>0.0</td>\n",
              "      <td>0.0</td>\n",
              "      <td>151.0</td>\n",
              "      <td>0.000000</td>\n",
              "      <td>151.0</td>\n",
              "      <td>151.0</td>\n",
              "      <td>4</td>\n",
              "    </tr>\n",
              "    <tr>\n",
              "      <th>4</th>\n",
              "      <td>36763</td>\n",
              "      <td>1900</td>\n",
              "      <td>17</td>\n",
              "      <td>153</td>\n",
              "      <td>2</td>\n",
              "      <td>1</td>\n",
              "      <td>886.0</td>\n",
              "      <td>420.0</td>\n",
              "      <td>452.0</td>\n",
              "      <td>434.0</td>\n",
              "      <td>...</td>\n",
              "      <td>0</td>\n",
              "      <td>0.0</td>\n",
              "      <td>0.0</td>\n",
              "      <td>0.0</td>\n",
              "      <td>0.0</td>\n",
              "      <td>76.5</td>\n",
              "      <td>0.707107</td>\n",
              "      <td>77.0</td>\n",
              "      <td>76.0</td>\n",
              "      <td>4</td>\n",
              "    </tr>\n",
              "  </tbody>\n",
              "</table>\n",
              "<p>5 rows × 80 columns</p>\n",
              "</div>\n",
              "      <button class=\"colab-df-convert\" onclick=\"convertToInteractive('df-ce8f093c-1459-4a24-b3f2-f1af0a5f58b8')\"\n",
              "              title=\"Convert this dataframe to an interactive table.\"\n",
              "              style=\"display:none;\">\n",
              "        \n",
              "  <svg xmlns=\"http://www.w3.org/2000/svg\" height=\"24px\"viewBox=\"0 0 24 24\"\n",
              "       width=\"24px\">\n",
              "    <path d=\"M0 0h24v24H0V0z\" fill=\"none\"/>\n",
              "    <path d=\"M18.56 5.44l.94 2.06.94-2.06 2.06-.94-2.06-.94-.94-2.06-.94 2.06-2.06.94zm-11 1L8.5 8.5l.94-2.06 2.06-.94-2.06-.94L8.5 2.5l-.94 2.06-2.06.94zm10 10l.94 2.06.94-2.06 2.06-.94-2.06-.94-.94-2.06-.94 2.06-2.06.94z\"/><path d=\"M17.41 7.96l-1.37-1.37c-.4-.4-.92-.59-1.43-.59-.52 0-1.04.2-1.43.59L10.3 9.45l-7.72 7.72c-.78.78-.78 2.05 0 2.83L4 21.41c.39.39.9.59 1.41.59.51 0 1.02-.2 1.41-.59l7.78-7.78 2.81-2.81c.8-.78.8-2.07 0-2.86zM5.41 20L4 18.59l7.72-7.72 1.47 1.35L5.41 20z\"/>\n",
              "  </svg>\n",
              "      </button>\n",
              "      \n",
              "  <style>\n",
              "    .colab-df-container {\n",
              "      display:flex;\n",
              "      flex-wrap:wrap;\n",
              "      gap: 12px;\n",
              "    }\n",
              "\n",
              "    .colab-df-convert {\n",
              "      background-color: #E8F0FE;\n",
              "      border: none;\n",
              "      border-radius: 50%;\n",
              "      cursor: pointer;\n",
              "      display: none;\n",
              "      fill: #1967D2;\n",
              "      height: 32px;\n",
              "      padding: 0 0 0 0;\n",
              "      width: 32px;\n",
              "    }\n",
              "\n",
              "    .colab-df-convert:hover {\n",
              "      background-color: #E2EBFA;\n",
              "      box-shadow: 0px 1px 2px rgba(60, 64, 67, 0.3), 0px 1px 3px 1px rgba(60, 64, 67, 0.15);\n",
              "      fill: #174EA6;\n",
              "    }\n",
              "\n",
              "    [theme=dark] .colab-df-convert {\n",
              "      background-color: #3B4455;\n",
              "      fill: #D2E3FC;\n",
              "    }\n",
              "\n",
              "    [theme=dark] .colab-df-convert:hover {\n",
              "      background-color: #434B5C;\n",
              "      box-shadow: 0px 1px 3px 1px rgba(0, 0, 0, 0.15);\n",
              "      filter: drop-shadow(0px 1px 2px rgba(0, 0, 0, 0.3));\n",
              "      fill: #FFFFFF;\n",
              "    }\n",
              "  </style>\n",
              "\n",
              "      <script>\n",
              "        const buttonEl =\n",
              "          document.querySelector('#df-ce8f093c-1459-4a24-b3f2-f1af0a5f58b8 button.colab-df-convert');\n",
              "        buttonEl.style.display =\n",
              "          google.colab.kernel.accessAllowed ? 'block' : 'none';\n",
              "\n",
              "        async function convertToInteractive(key) {\n",
              "          const element = document.querySelector('#df-ce8f093c-1459-4a24-b3f2-f1af0a5f58b8');\n",
              "          const dataTable =\n",
              "            await google.colab.kernel.invokeFunction('convertToInteractive',\n",
              "                                                     [key], {});\n",
              "          if (!dataTable) return;\n",
              "\n",
              "          const docLinkHtml = 'Like what you see? Visit the ' +\n",
              "            '<a target=\"_blank\" href=https://colab.research.google.com/notebooks/data_table.ipynb>data table notebook</a>'\n",
              "            + ' to learn more about interactive tables.';\n",
              "          element.innerHTML = '';\n",
              "          dataTable['output_type'] = 'display_data';\n",
              "          await google.colab.output.renderOutput(dataTable, element);\n",
              "          const docLink = document.createElement('div');\n",
              "          docLink.innerHTML = docLinkHtml;\n",
              "          element.appendChild(docLink);\n",
              "        }\n",
              "      </script>\n",
              "    </div>\n",
              "  </div>\n",
              "  "
            ]
          },
          "metadata": {},
          "execution_count": 38
        }
      ]
    },
    {
      "cell_type": "code",
      "metadata": {
        "id": "ADXhVC1DD33K",
        "colab": {
          "base_uri": "https://localhost:8080/"
        },
        "outputId": "1fe06564-2f6f-4548-d193-6ced0f3e6c37"
      },
      "source": [
        "print(\"Does dataframe have inf values: {}\".format(np.any(np.isinf(df))))\n",
        "print(\"Does dataframe have nan values: {}\".format(np.any(np.isnan(df))))\n",
        "print(\"Dataframe shape before dropping na/inf: {}\".format(df.shape))\n",
        "df.replace(to_replace=[np.inf,-np.inf],value=np.nan,inplace=True)\n",
        "df.dropna(inplace=True)\n",
        "print(\"Dataframe shape after dropping na/inf: {}\".format(df.shape))\n",
        "print(\"Does dataframe still have inf values: {}\".format(np.any(np.isinf(df))))\n",
        "print(\"Does dataframe still have nan values: {}\".format(np.any(np.isnan(df))))"
      ],
      "execution_count": null,
      "outputs": [
        {
          "output_type": "stream",
          "name": "stdout",
          "text": [
            "Does dataframe have inf values: True\n",
            "Does dataframe have nan values: False\n",
            "Dataframe shape before dropping na/inf: (625783, 80)\n",
            "Dataframe shape after dropping na/inf: (625415, 80)\n",
            "Does dataframe still have inf values: False\n",
            "Does dataframe still have nan values: False\n"
          ]
        }
      ]
    },
    {
      "cell_type": "code",
      "metadata": {
        "id": "7vXoTaqx04QQ",
        "colab": {
          "base_uri": "https://localhost:8080/"
        },
        "outputId": "be7276e3-7d5b-4eeb-9696-2a59219af3f3"
      },
      "source": [
        "size = int(df.shape[0]/2)\n",
        "df = df.iloc[0:size,:]\n",
        "df.shape"
      ],
      "execution_count": null,
      "outputs": [
        {
          "output_type": "execute_result",
          "data": {
            "text/plain": [
              "(312707, 80)"
            ]
          },
          "metadata": {},
          "execution_count": 40
        }
      ]
    },
    {
      "cell_type": "code",
      "metadata": {
        "id": "quLJ1lmwEfYY",
        "colab": {
          "base_uri": "https://localhost:8080/",
          "height": 300
        },
        "outputId": "aa89fbf9-55fc-424e-f06d-7a2544faa6c6"
      },
      "source": [
        "X = df.iloc[:,:-1]\n",
        "X.head()"
      ],
      "execution_count": null,
      "outputs": [
        {
          "output_type": "execute_result",
          "data": {
            "text/plain": [
              "   Src_Port  Dst_Port  Protocol  Flow_Duration  Tot_Fwd_Pkts  Tot_Bwd_Pkts  \\\n",
              "0     10000     10101        17             75             1             1   \n",
              "1      2179       554         6           5310             1             2   \n",
              "2     52727      9020         6            141             0             3   \n",
              "3     52964      9020         6            151             0             2   \n",
              "4     36763      1900        17            153             2             1   \n",
              "\n",
              "   TotLen_Fwd_Pkts  TotLen_Bwd_Pkts  Fwd_Pkt_Len_Max  Fwd_Pkt_Len_Min  ...  \\\n",
              "0            982.0           1430.0            982.0            982.0  ...   \n",
              "1              0.0              0.0              0.0              0.0  ...   \n",
              "2              0.0           2806.0              0.0              0.0  ...   \n",
              "3              0.0           2776.0              0.0              0.0  ...   \n",
              "4            886.0            420.0            452.0            434.0  ...   \n",
              "\n",
              "   Fwd_Act_Data_Pkts  Fwd_Seg_Size_Min  Active_Mean  Active_Std  Active_Max  \\\n",
              "0                  1                 0          0.0         0.0         0.0   \n",
              "1                  0                 0          0.0         0.0         0.0   \n",
              "2                  0                 0          0.0         0.0         0.0   \n",
              "3                  0                 0          0.0         0.0         0.0   \n",
              "4                  2                 0          0.0         0.0         0.0   \n",
              "\n",
              "   Active_Min  Idle_Mean     Idle_Std  Idle_Max  Idle_Min  \n",
              "0         0.0       75.0     0.000000      75.0      75.0  \n",
              "1         0.0     2655.0  2261.327486    4254.0    1056.0  \n",
              "2         0.0       70.5     0.707107      71.0      70.0  \n",
              "3         0.0      151.0     0.000000     151.0     151.0  \n",
              "4         0.0       76.5     0.707107      77.0      76.0  \n",
              "\n",
              "[5 rows x 79 columns]"
            ],
            "text/html": [
              "\n",
              "  <div id=\"df-67fb6551-182d-4123-a6b9-048e5ca07688\">\n",
              "    <div class=\"colab-df-container\">\n",
              "      <div>\n",
              "<style scoped>\n",
              "    .dataframe tbody tr th:only-of-type {\n",
              "        vertical-align: middle;\n",
              "    }\n",
              "\n",
              "    .dataframe tbody tr th {\n",
              "        vertical-align: top;\n",
              "    }\n",
              "\n",
              "    .dataframe thead th {\n",
              "        text-align: right;\n",
              "    }\n",
              "</style>\n",
              "<table border=\"1\" class=\"dataframe\">\n",
              "  <thead>\n",
              "    <tr style=\"text-align: right;\">\n",
              "      <th></th>\n",
              "      <th>Src_Port</th>\n",
              "      <th>Dst_Port</th>\n",
              "      <th>Protocol</th>\n",
              "      <th>Flow_Duration</th>\n",
              "      <th>Tot_Fwd_Pkts</th>\n",
              "      <th>Tot_Bwd_Pkts</th>\n",
              "      <th>TotLen_Fwd_Pkts</th>\n",
              "      <th>TotLen_Bwd_Pkts</th>\n",
              "      <th>Fwd_Pkt_Len_Max</th>\n",
              "      <th>Fwd_Pkt_Len_Min</th>\n",
              "      <th>...</th>\n",
              "      <th>Fwd_Act_Data_Pkts</th>\n",
              "      <th>Fwd_Seg_Size_Min</th>\n",
              "      <th>Active_Mean</th>\n",
              "      <th>Active_Std</th>\n",
              "      <th>Active_Max</th>\n",
              "      <th>Active_Min</th>\n",
              "      <th>Idle_Mean</th>\n",
              "      <th>Idle_Std</th>\n",
              "      <th>Idle_Max</th>\n",
              "      <th>Idle_Min</th>\n",
              "    </tr>\n",
              "  </thead>\n",
              "  <tbody>\n",
              "    <tr>\n",
              "      <th>0</th>\n",
              "      <td>10000</td>\n",
              "      <td>10101</td>\n",
              "      <td>17</td>\n",
              "      <td>75</td>\n",
              "      <td>1</td>\n",
              "      <td>1</td>\n",
              "      <td>982.0</td>\n",
              "      <td>1430.0</td>\n",
              "      <td>982.0</td>\n",
              "      <td>982.0</td>\n",
              "      <td>...</td>\n",
              "      <td>1</td>\n",
              "      <td>0</td>\n",
              "      <td>0.0</td>\n",
              "      <td>0.0</td>\n",
              "      <td>0.0</td>\n",
              "      <td>0.0</td>\n",
              "      <td>75.0</td>\n",
              "      <td>0.000000</td>\n",
              "      <td>75.0</td>\n",
              "      <td>75.0</td>\n",
              "    </tr>\n",
              "    <tr>\n",
              "      <th>1</th>\n",
              "      <td>2179</td>\n",
              "      <td>554</td>\n",
              "      <td>6</td>\n",
              "      <td>5310</td>\n",
              "      <td>1</td>\n",
              "      <td>2</td>\n",
              "      <td>0.0</td>\n",
              "      <td>0.0</td>\n",
              "      <td>0.0</td>\n",
              "      <td>0.0</td>\n",
              "      <td>...</td>\n",
              "      <td>0</td>\n",
              "      <td>0</td>\n",
              "      <td>0.0</td>\n",
              "      <td>0.0</td>\n",
              "      <td>0.0</td>\n",
              "      <td>0.0</td>\n",
              "      <td>2655.0</td>\n",
              "      <td>2261.327486</td>\n",
              "      <td>4254.0</td>\n",
              "      <td>1056.0</td>\n",
              "    </tr>\n",
              "    <tr>\n",
              "      <th>2</th>\n",
              "      <td>52727</td>\n",
              "      <td>9020</td>\n",
              "      <td>6</td>\n",
              "      <td>141</td>\n",
              "      <td>0</td>\n",
              "      <td>3</td>\n",
              "      <td>0.0</td>\n",
              "      <td>2806.0</td>\n",
              "      <td>0.0</td>\n",
              "      <td>0.0</td>\n",
              "      <td>...</td>\n",
              "      <td>0</td>\n",
              "      <td>0</td>\n",
              "      <td>0.0</td>\n",
              "      <td>0.0</td>\n",
              "      <td>0.0</td>\n",
              "      <td>0.0</td>\n",
              "      <td>70.5</td>\n",
              "      <td>0.707107</td>\n",
              "      <td>71.0</td>\n",
              "      <td>70.0</td>\n",
              "    </tr>\n",
              "    <tr>\n",
              "      <th>3</th>\n",
              "      <td>52964</td>\n",
              "      <td>9020</td>\n",
              "      <td>6</td>\n",
              "      <td>151</td>\n",
              "      <td>0</td>\n",
              "      <td>2</td>\n",
              "      <td>0.0</td>\n",
              "      <td>2776.0</td>\n",
              "      <td>0.0</td>\n",
              "      <td>0.0</td>\n",
              "      <td>...</td>\n",
              "      <td>0</td>\n",
              "      <td>0</td>\n",
              "      <td>0.0</td>\n",
              "      <td>0.0</td>\n",
              "      <td>0.0</td>\n",
              "      <td>0.0</td>\n",
              "      <td>151.0</td>\n",
              "      <td>0.000000</td>\n",
              "      <td>151.0</td>\n",
              "      <td>151.0</td>\n",
              "    </tr>\n",
              "    <tr>\n",
              "      <th>4</th>\n",
              "      <td>36763</td>\n",
              "      <td>1900</td>\n",
              "      <td>17</td>\n",
              "      <td>153</td>\n",
              "      <td>2</td>\n",
              "      <td>1</td>\n",
              "      <td>886.0</td>\n",
              "      <td>420.0</td>\n",
              "      <td>452.0</td>\n",
              "      <td>434.0</td>\n",
              "      <td>...</td>\n",
              "      <td>2</td>\n",
              "      <td>0</td>\n",
              "      <td>0.0</td>\n",
              "      <td>0.0</td>\n",
              "      <td>0.0</td>\n",
              "      <td>0.0</td>\n",
              "      <td>76.5</td>\n",
              "      <td>0.707107</td>\n",
              "      <td>77.0</td>\n",
              "      <td>76.0</td>\n",
              "    </tr>\n",
              "  </tbody>\n",
              "</table>\n",
              "<p>5 rows × 79 columns</p>\n",
              "</div>\n",
              "      <button class=\"colab-df-convert\" onclick=\"convertToInteractive('df-67fb6551-182d-4123-a6b9-048e5ca07688')\"\n",
              "              title=\"Convert this dataframe to an interactive table.\"\n",
              "              style=\"display:none;\">\n",
              "        \n",
              "  <svg xmlns=\"http://www.w3.org/2000/svg\" height=\"24px\"viewBox=\"0 0 24 24\"\n",
              "       width=\"24px\">\n",
              "    <path d=\"M0 0h24v24H0V0z\" fill=\"none\"/>\n",
              "    <path d=\"M18.56 5.44l.94 2.06.94-2.06 2.06-.94-2.06-.94-.94-2.06-.94 2.06-2.06.94zm-11 1L8.5 8.5l.94-2.06 2.06-.94-2.06-.94L8.5 2.5l-.94 2.06-2.06.94zm10 10l.94 2.06.94-2.06 2.06-.94-2.06-.94-.94-2.06-.94 2.06-2.06.94z\"/><path d=\"M17.41 7.96l-1.37-1.37c-.4-.4-.92-.59-1.43-.59-.52 0-1.04.2-1.43.59L10.3 9.45l-7.72 7.72c-.78.78-.78 2.05 0 2.83L4 21.41c.39.39.9.59 1.41.59.51 0 1.02-.2 1.41-.59l7.78-7.78 2.81-2.81c.8-.78.8-2.07 0-2.86zM5.41 20L4 18.59l7.72-7.72 1.47 1.35L5.41 20z\"/>\n",
              "  </svg>\n",
              "      </button>\n",
              "      \n",
              "  <style>\n",
              "    .colab-df-container {\n",
              "      display:flex;\n",
              "      flex-wrap:wrap;\n",
              "      gap: 12px;\n",
              "    }\n",
              "\n",
              "    .colab-df-convert {\n",
              "      background-color: #E8F0FE;\n",
              "      border: none;\n",
              "      border-radius: 50%;\n",
              "      cursor: pointer;\n",
              "      display: none;\n",
              "      fill: #1967D2;\n",
              "      height: 32px;\n",
              "      padding: 0 0 0 0;\n",
              "      width: 32px;\n",
              "    }\n",
              "\n",
              "    .colab-df-convert:hover {\n",
              "      background-color: #E2EBFA;\n",
              "      box-shadow: 0px 1px 2px rgba(60, 64, 67, 0.3), 0px 1px 3px 1px rgba(60, 64, 67, 0.15);\n",
              "      fill: #174EA6;\n",
              "    }\n",
              "\n",
              "    [theme=dark] .colab-df-convert {\n",
              "      background-color: #3B4455;\n",
              "      fill: #D2E3FC;\n",
              "    }\n",
              "\n",
              "    [theme=dark] .colab-df-convert:hover {\n",
              "      background-color: #434B5C;\n",
              "      box-shadow: 0px 1px 3px 1px rgba(0, 0, 0, 0.15);\n",
              "      filter: drop-shadow(0px 1px 2px rgba(0, 0, 0, 0.3));\n",
              "      fill: #FFFFFF;\n",
              "    }\n",
              "  </style>\n",
              "\n",
              "      <script>\n",
              "        const buttonEl =\n",
              "          document.querySelector('#df-67fb6551-182d-4123-a6b9-048e5ca07688 button.colab-df-convert');\n",
              "        buttonEl.style.display =\n",
              "          google.colab.kernel.accessAllowed ? 'block' : 'none';\n",
              "\n",
              "        async function convertToInteractive(key) {\n",
              "          const element = document.querySelector('#df-67fb6551-182d-4123-a6b9-048e5ca07688');\n",
              "          const dataTable =\n",
              "            await google.colab.kernel.invokeFunction('convertToInteractive',\n",
              "                                                     [key], {});\n",
              "          if (!dataTable) return;\n",
              "\n",
              "          const docLinkHtml = 'Like what you see? Visit the ' +\n",
              "            '<a target=\"_blank\" href=https://colab.research.google.com/notebooks/data_table.ipynb>data table notebook</a>'\n",
              "            + ' to learn more about interactive tables.';\n",
              "          element.innerHTML = '';\n",
              "          dataTable['output_type'] = 'display_data';\n",
              "          await google.colab.output.renderOutput(dataTable, element);\n",
              "          const docLink = document.createElement('div');\n",
              "          docLink.innerHTML = docLinkHtml;\n",
              "          element.appendChild(docLink);\n",
              "        }\n",
              "      </script>\n",
              "    </div>\n",
              "  </div>\n",
              "  "
            ]
          },
          "metadata": {},
          "execution_count": 41
        }
      ]
    },
    {
      "cell_type": "code",
      "metadata": {
        "id": "xBxI9YnUElwE",
        "colab": {
          "base_uri": "https://localhost:8080/"
        },
        "outputId": "5797764d-068e-48eb-d17c-31ff02472282"
      },
      "source": [
        "Y = df.iloc[:,-1]\n",
        "Y.head()"
      ],
      "execution_count": null,
      "outputs": [
        {
          "output_type": "execute_result",
          "data": {
            "text/plain": [
              "0    2\n",
              "1    0\n",
              "2    8\n",
              "3    4\n",
              "4    4\n",
              "Name: Labels, dtype: int64"
            ]
          },
          "metadata": {},
          "execution_count": 42
        }
      ]
    },
    {
      "cell_type": "code",
      "metadata": {
        "id": "ripDyGI3ErkV",
        "colab": {
          "base_uri": "https://localhost:8080/"
        },
        "outputId": "a6195ec4-66e9-4adb-daf5-d0ce2b10d92b"
      },
      "source": [
        "scalar = MinMaxScaler(feature_range=(0,1))\n",
        "scalar.fit(X)"
      ],
      "execution_count": null,
      "outputs": [
        {
          "output_type": "execute_result",
          "data": {
            "text/plain": [
              "MinMaxScaler()"
            ]
          },
          "metadata": {},
          "execution_count": 43
        }
      ]
    },
    {
      "cell_type": "code",
      "metadata": {
        "id": "zfyMbrCKAQWC",
        "colab": {
          "base_uri": "https://localhost:8080/"
        },
        "outputId": "f3ff540a-79be-4506-a9af-baa9bb42ae1c"
      },
      "source": [
        "X = scalar.transform(X)\n",
        "X"
      ],
      "execution_count": null,
      "outputs": [
        {
          "output_type": "execute_result",
          "data": {
            "text/plain": [
              "array([[1.52788388e-01, 1.54518058e-01, 1.00000000e+00, ...,\n",
              "        0.00000000e+00, 7.68497741e-04, 7.68497741e-04],\n",
              "       [3.32925898e-02, 8.47470591e-03, 3.52941176e-01, ...,\n",
              "        3.39058524e-02, 4.35891918e-02, 1.08204482e-02],\n",
              "       [8.05607334e-01, 1.37981674e-01, 3.52941176e-01, ...,\n",
              "        1.06022053e-05, 7.27511194e-04, 7.17264558e-04],\n",
              "       ...,\n",
              "       [8.05454545e-01, 1.37981674e-01, 3.52941176e-01, ...,\n",
              "        0.00000000e+00, 1.48576230e-03, 1.48576230e-03],\n",
              "       [1.37815126e-01, 7.61560937e-01, 3.52941176e-01, ...,\n",
              "        2.49015687e-03, 3.78100888e-03, 7.78744377e-04],\n",
              "       [1.37815126e-01, 7.61560937e-01, 3.52941176e-01, ...,\n",
              "        2.51204407e-03, 3.79125552e-03, 7.58251104e-04]])"
            ]
          },
          "metadata": {},
          "execution_count": 44
        }
      ]
    },
    {
      "cell_type": "code",
      "metadata": {
        "id": "AE_LjbctExK_"
      },
      "source": [
        "X_train, X_test, Y_train, Y_test = train_test_split(X, Y, stratify=Y,random_state=1,test_size=0.3)"
      ],
      "execution_count": null,
      "outputs": []
    },
    {
      "cell_type": "code",
      "metadata": {
        "id": "gWYYLGJcE56N",
        "colab": {
          "base_uri": "https://localhost:8080/"
        },
        "outputId": "b3003d1f-3be9-47a4-f9e0-519c70682095"
      },
      "source": [
        "print(\"Train set X size: \",X_train.shape)\n",
        "print(\"Train set Y size: \",Y_train.shape)\n",
        "print(\"Test set X size: \",X_test.shape)\n",
        "print(\"Test set Y size: \",Y_test.shape)"
      ],
      "execution_count": null,
      "outputs": [
        {
          "output_type": "stream",
          "name": "stdout",
          "text": [
            "Train set X size:  (218894, 79)\n",
            "Train set Y size:  (218894,)\n",
            "Test set X size:  (93813, 79)\n",
            "Test set Y size:  (93813,)\n"
          ]
        }
      ]
    },
    {
      "cell_type": "markdown",
      "metadata": {
        "id": "Dre8Q4oLpDMe"
      },
      "source": [
        "## Training NN using Keras for Multi Classification."
      ]
    },
    {
      "cell_type": "code",
      "metadata": {
        "id": "OL-DQAbBYSqa"
      },
      "source": [
        "model = Sequential()\n",
        "model.add(Dense(units=512,input_shape=(X_train.shape[1],),activation='relu',kernel_initializer='glorot_uniform'))\n",
        "model.add(Dense(units=100,activation='relu',kernel_initializer='glorot_uniform'))\n",
        "model.add(Dense(units=30,activation='relu',kernel_initializer='glorot_uniform'))\n",
        "model.add(Dense(units=15,activation='relu',kernel_initializer='glorot_uniform'))\n",
        "model.add(Dense(9,activation='softmax',kernel_initializer='glorot_uniform'))\n",
        "model.compile(optimizer='adam',loss='categorical_crossentropy',metrics=['accuracy'])"
      ],
      "execution_count": null,
      "outputs": []
    },
    {
      "cell_type": "code",
      "metadata": {
        "id": "LutM6_e5pOlO"
      },
      "source": [
        "Y_train = to_categorical(Y_train,9)\n",
        "Y_test = to_categorical(Y_test,9)"
      ],
      "execution_count": null,
      "outputs": []
    },
    {
      "cell_type": "code",
      "metadata": {
        "id": "LvfPlnjTvAVb",
        "colab": {
          "base_uri": "https://localhost:8080/"
        },
        "outputId": "bd7191bc-ed16-47c7-c3ab-bfe7b3692af8"
      },
      "source": [
        "history = model.fit(X_train,Y_train,batch_size=256,epochs=200)"
      ],
      "execution_count": null,
      "outputs": [
        {
          "output_type": "stream",
          "name": "stdout",
          "text": [
            "Epoch 1/200\n",
            "856/856 [==============================] - 3s 3ms/step - loss: 1.0294 - accuracy: 0.5794\n",
            "Epoch 2/200\n",
            "856/856 [==============================] - 3s 3ms/step - loss: 0.8251 - accuracy: 0.6343\n",
            "Epoch 3/200\n",
            "856/856 [==============================] - 3s 3ms/step - loss: 0.7631 - accuracy: 0.6632\n",
            "Epoch 4/200\n",
            "856/856 [==============================] - 3s 3ms/step - loss: 0.7218 - accuracy: 0.6769\n",
            "Epoch 5/200\n",
            "856/856 [==============================] - 3s 3ms/step - loss: 0.6997 - accuracy: 0.6833\n",
            "Epoch 6/200\n",
            "856/856 [==============================] - 3s 3ms/step - loss: 0.6839 - accuracy: 0.6866\n",
            "Epoch 7/200\n",
            "856/856 [==============================] - 3s 3ms/step - loss: 0.6690 - accuracy: 0.6906\n",
            "Epoch 8/200\n",
            "856/856 [==============================] - 3s 3ms/step - loss: 0.6567 - accuracy: 0.6918\n",
            "Epoch 9/200\n",
            "856/856 [==============================] - 3s 3ms/step - loss: 0.6478 - accuracy: 0.6942\n",
            "Epoch 10/200\n",
            "856/856 [==============================] - 3s 3ms/step - loss: 0.6419 - accuracy: 0.6939\n",
            "Epoch 11/200\n",
            "856/856 [==============================] - 3s 3ms/step - loss: 0.6345 - accuracy: 0.6982\n",
            "Epoch 12/200\n",
            "856/856 [==============================] - 3s 3ms/step - loss: 0.6262 - accuracy: 0.6996\n",
            "Epoch 13/200\n",
            "856/856 [==============================] - 3s 3ms/step - loss: 0.6244 - accuracy: 0.7023\n",
            "Epoch 14/200\n",
            "856/856 [==============================] - 3s 3ms/step - loss: 0.6175 - accuracy: 0.7046\n",
            "Epoch 15/200\n",
            "856/856 [==============================] - 3s 3ms/step - loss: 0.6124 - accuracy: 0.7053\n",
            "Epoch 16/200\n",
            "856/856 [==============================] - 3s 3ms/step - loss: 0.6113 - accuracy: 0.7060\n",
            "Epoch 17/200\n",
            "856/856 [==============================] - 3s 3ms/step - loss: 0.6070 - accuracy: 0.7074\n",
            "Epoch 18/200\n",
            "856/856 [==============================] - 3s 3ms/step - loss: 0.6035 - accuracy: 0.7094\n",
            "Epoch 19/200\n",
            "856/856 [==============================] - 3s 3ms/step - loss: 0.6012 - accuracy: 0.7113\n",
            "Epoch 20/200\n",
            "856/856 [==============================] - 3s 3ms/step - loss: 0.5966 - accuracy: 0.7121\n",
            "Epoch 21/200\n",
            "856/856 [==============================] - 3s 3ms/step - loss: 0.5895 - accuracy: 0.7144\n",
            "Epoch 22/200\n",
            "856/856 [==============================] - 3s 3ms/step - loss: 0.5870 - accuracy: 0.7154\n",
            "Epoch 23/200\n",
            "856/856 [==============================] - 3s 3ms/step - loss: 0.5843 - accuracy: 0.7152\n",
            "Epoch 24/200\n",
            "856/856 [==============================] - 3s 3ms/step - loss: 0.5778 - accuracy: 0.7186\n",
            "Epoch 25/200\n",
            "856/856 [==============================] - 3s 3ms/step - loss: 0.5819 - accuracy: 0.7180\n",
            "Epoch 26/200\n",
            "856/856 [==============================] - 2s 3ms/step - loss: 0.5824 - accuracy: 0.7174\n",
            "Epoch 27/200\n",
            "856/856 [==============================] - 2s 3ms/step - loss: 0.5745 - accuracy: 0.7208\n",
            "Epoch 28/200\n",
            "856/856 [==============================] - 3s 3ms/step - loss: 0.5869 - accuracy: 0.7148\n",
            "Epoch 29/200\n",
            "856/856 [==============================] - 3s 3ms/step - loss: 0.5728 - accuracy: 0.7203\n",
            "Epoch 30/200\n",
            "856/856 [==============================] - 3s 3ms/step - loss: 0.5683 - accuracy: 0.7213\n",
            "Epoch 31/200\n",
            "856/856 [==============================] - 3s 3ms/step - loss: 0.5684 - accuracy: 0.7219\n",
            "Epoch 32/200\n",
            "856/856 [==============================] - 3s 3ms/step - loss: 0.5684 - accuracy: 0.7220\n",
            "Epoch 33/200\n",
            "856/856 [==============================] - 3s 3ms/step - loss: 0.5657 - accuracy: 0.7224\n",
            "Epoch 34/200\n",
            "856/856 [==============================] - 3s 3ms/step - loss: 0.5700 - accuracy: 0.7222\n",
            "Epoch 35/200\n",
            "856/856 [==============================] - 3s 3ms/step - loss: 0.5693 - accuracy: 0.7213\n",
            "Epoch 36/200\n",
            "856/856 [==============================] - 3s 3ms/step - loss: 0.5661 - accuracy: 0.7235\n",
            "Epoch 37/200\n",
            "856/856 [==============================] - 3s 3ms/step - loss: 0.5719 - accuracy: 0.7211\n",
            "Epoch 38/200\n",
            "856/856 [==============================] - 3s 3ms/step - loss: 0.5707 - accuracy: 0.7206\n",
            "Epoch 39/200\n",
            "856/856 [==============================] - 3s 3ms/step - loss: 0.5761 - accuracy: 0.7185\n",
            "Epoch 40/200\n",
            "856/856 [==============================] - 3s 3ms/step - loss: 0.5776 - accuracy: 0.7182\n",
            "Epoch 41/200\n",
            "856/856 [==============================] - 2s 3ms/step - loss: 0.5736 - accuracy: 0.7189\n",
            "Epoch 42/200\n",
            "856/856 [==============================] - 3s 3ms/step - loss: 0.5804 - accuracy: 0.7168\n",
            "Epoch 43/200\n",
            "856/856 [==============================] - 3s 3ms/step - loss: 0.5717 - accuracy: 0.7218\n",
            "Epoch 44/200\n",
            "856/856 [==============================] - 3s 3ms/step - loss: 0.5745 - accuracy: 0.7198\n",
            "Epoch 45/200\n",
            "856/856 [==============================] - 3s 3ms/step - loss: 0.5633 - accuracy: 0.7237\n",
            "Epoch 46/200\n",
            "856/856 [==============================] - 3s 3ms/step - loss: 0.5533 - accuracy: 0.7280\n",
            "Epoch 47/200\n",
            "856/856 [==============================] - 3s 3ms/step - loss: 0.5569 - accuracy: 0.7264\n",
            "Epoch 48/200\n",
            "856/856 [==============================] - 3s 3ms/step - loss: 0.5568 - accuracy: 0.7271\n",
            "Epoch 49/200\n",
            "856/856 [==============================] - 3s 3ms/step - loss: 0.5486 - accuracy: 0.7281\n",
            "Epoch 50/200\n",
            "856/856 [==============================] - 3s 3ms/step - loss: 0.5533 - accuracy: 0.7278\n",
            "Epoch 51/200\n",
            "856/856 [==============================] - 3s 3ms/step - loss: 0.5595 - accuracy: 0.7260\n",
            "Epoch 52/200\n",
            "856/856 [==============================] - 3s 3ms/step - loss: 0.5540 - accuracy: 0.7271\n",
            "Epoch 53/200\n",
            "856/856 [==============================] - 3s 3ms/step - loss: 0.5576 - accuracy: 0.7253\n",
            "Epoch 54/200\n",
            "856/856 [==============================] - 3s 3ms/step - loss: 0.5622 - accuracy: 0.7235\n",
            "Epoch 55/200\n",
            "856/856 [==============================] - 3s 3ms/step - loss: 0.5548 - accuracy: 0.7258\n",
            "Epoch 56/200\n",
            "856/856 [==============================] - 3s 3ms/step - loss: 0.5559 - accuracy: 0.7263\n",
            "Epoch 57/200\n",
            "856/856 [==============================] - 3s 3ms/step - loss: 0.5532 - accuracy: 0.7261\n",
            "Epoch 58/200\n",
            "856/856 [==============================] - 2s 3ms/step - loss: 0.5501 - accuracy: 0.7285\n",
            "Epoch 59/200\n",
            "856/856 [==============================] - 3s 3ms/step - loss: 0.5498 - accuracy: 0.7275\n",
            "Epoch 60/200\n",
            "856/856 [==============================] - 3s 3ms/step - loss: 0.5506 - accuracy: 0.7272\n",
            "Epoch 61/200\n",
            "856/856 [==============================] - 2s 3ms/step - loss: 0.5683 - accuracy: 0.7210\n",
            "Epoch 62/200\n",
            "856/856 [==============================] - 3s 3ms/step - loss: 0.5536 - accuracy: 0.7262\n",
            "Epoch 63/200\n",
            "856/856 [==============================] - 3s 3ms/step - loss: 0.5472 - accuracy: 0.7285\n",
            "Epoch 64/200\n",
            "856/856 [==============================] - 3s 3ms/step - loss: 0.5427 - accuracy: 0.7299\n",
            "Epoch 65/200\n",
            "856/856 [==============================] - 3s 3ms/step - loss: 0.5342 - accuracy: 0.7337\n",
            "Epoch 66/200\n",
            "856/856 [==============================] - 3s 3ms/step - loss: 0.5382 - accuracy: 0.7334\n",
            "Epoch 67/200\n",
            "856/856 [==============================] - 3s 3ms/step - loss: 0.5380 - accuracy: 0.7331\n",
            "Epoch 68/200\n",
            "856/856 [==============================] - 3s 3ms/step - loss: 0.5415 - accuracy: 0.7323\n",
            "Epoch 69/200\n",
            "856/856 [==============================] - 3s 3ms/step - loss: 0.5395 - accuracy: 0.7312\n",
            "Epoch 70/200\n",
            "856/856 [==============================] - 3s 3ms/step - loss: 0.5465 - accuracy: 0.7290\n",
            "Epoch 71/200\n",
            "856/856 [==============================] - 3s 3ms/step - loss: 0.5436 - accuracy: 0.7301\n",
            "Epoch 72/200\n",
            "856/856 [==============================] - 3s 3ms/step - loss: 0.5390 - accuracy: 0.7317\n",
            "Epoch 73/200\n",
            "856/856 [==============================] - 3s 3ms/step - loss: 0.5405 - accuracy: 0.7311\n",
            "Epoch 74/200\n",
            "856/856 [==============================] - 3s 3ms/step - loss: 0.5458 - accuracy: 0.7303\n",
            "Epoch 75/200\n",
            "856/856 [==============================] - 3s 3ms/step - loss: 0.5402 - accuracy: 0.7334\n",
            "Epoch 76/200\n",
            "856/856 [==============================] - 3s 3ms/step - loss: 0.5441 - accuracy: 0.7301\n",
            "Epoch 77/200\n",
            "856/856 [==============================] - 3s 3ms/step - loss: 0.5436 - accuracy: 0.7292\n",
            "Epoch 78/200\n",
            "856/856 [==============================] - 3s 3ms/step - loss: 0.5468 - accuracy: 0.7296\n",
            "Epoch 79/200\n",
            "856/856 [==============================] - 3s 3ms/step - loss: 0.5414 - accuracy: 0.7297\n",
            "Epoch 80/200\n",
            "856/856 [==============================] - 3s 3ms/step - loss: 0.5487 - accuracy: 0.7298\n",
            "Epoch 81/200\n",
            "856/856 [==============================] - 3s 3ms/step - loss: 0.5540 - accuracy: 0.7254\n",
            "Epoch 82/200\n",
            "856/856 [==============================] - 3s 3ms/step - loss: 0.5471 - accuracy: 0.7303\n",
            "Epoch 83/200\n",
            "856/856 [==============================] - 3s 3ms/step - loss: 0.5329 - accuracy: 0.7341\n",
            "Epoch 84/200\n",
            "856/856 [==============================] - 3s 3ms/step - loss: 0.5295 - accuracy: 0.7354\n",
            "Epoch 85/200\n",
            "856/856 [==============================] - 3s 3ms/step - loss: 0.5322 - accuracy: 0.7340\n",
            "Epoch 86/200\n",
            "856/856 [==============================] - 3s 3ms/step - loss: 0.5294 - accuracy: 0.7357\n",
            "Epoch 87/200\n",
            "856/856 [==============================] - 3s 3ms/step - loss: 0.5219 - accuracy: 0.7391\n",
            "Epoch 88/200\n",
            "856/856 [==============================] - 3s 3ms/step - loss: 0.5236 - accuracy: 0.7382\n",
            "Epoch 89/200\n",
            "856/856 [==============================] - 3s 3ms/step - loss: 0.5190 - accuracy: 0.7387\n",
            "Epoch 90/200\n",
            "856/856 [==============================] - 3s 3ms/step - loss: 0.5160 - accuracy: 0.7399\n",
            "Epoch 91/200\n",
            "856/856 [==============================] - 3s 3ms/step - loss: 0.5223 - accuracy: 0.7359\n",
            "Epoch 92/200\n",
            "856/856 [==============================] - 3s 3ms/step - loss: 0.5141 - accuracy: 0.7414\n",
            "Epoch 93/200\n",
            "856/856 [==============================] - 3s 3ms/step - loss: 0.5185 - accuracy: 0.7399\n",
            "Epoch 94/200\n",
            "856/856 [==============================] - 3s 3ms/step - loss: 0.5181 - accuracy: 0.7390\n",
            "Epoch 95/200\n",
            "856/856 [==============================] - 3s 3ms/step - loss: 0.5218 - accuracy: 0.7390\n",
            "Epoch 96/200\n",
            "856/856 [==============================] - 3s 3ms/step - loss: 0.5124 - accuracy: 0.7432\n",
            "Epoch 97/200\n",
            "856/856 [==============================] - 3s 3ms/step - loss: 0.5173 - accuracy: 0.7402\n",
            "Epoch 98/200\n",
            "856/856 [==============================] - 3s 3ms/step - loss: 0.5192 - accuracy: 0.7403\n",
            "Epoch 99/200\n",
            "856/856 [==============================] - 3s 3ms/step - loss: 0.5152 - accuracy: 0.7410\n",
            "Epoch 100/200\n",
            "856/856 [==============================] - 3s 3ms/step - loss: 0.5181 - accuracy: 0.7398\n",
            "Epoch 101/200\n",
            "856/856 [==============================] - 3s 3ms/step - loss: 0.5115 - accuracy: 0.7421\n",
            "Epoch 102/200\n",
            "856/856 [==============================] - 3s 3ms/step - loss: 0.5209 - accuracy: 0.7394\n",
            "Epoch 103/200\n",
            "856/856 [==============================] - 4s 4ms/step - loss: 0.5092 - accuracy: 0.7427\n",
            "Epoch 104/200\n",
            "856/856 [==============================] - 3s 3ms/step - loss: 0.5112 - accuracy: 0.7425\n",
            "Epoch 105/200\n",
            "856/856 [==============================] - 3s 3ms/step - loss: 0.5144 - accuracy: 0.7399\n",
            "Epoch 106/200\n",
            "856/856 [==============================] - 3s 3ms/step - loss: 0.5118 - accuracy: 0.7424\n",
            "Epoch 107/200\n",
            "856/856 [==============================] - 3s 3ms/step - loss: 0.5179 - accuracy: 0.7405\n",
            "Epoch 108/200\n",
            "856/856 [==============================] - 3s 3ms/step - loss: 0.5109 - accuracy: 0.7417\n",
            "Epoch 109/200\n",
            "856/856 [==============================] - 3s 3ms/step - loss: 0.5238 - accuracy: 0.7386\n",
            "Epoch 110/200\n",
            "856/856 [==============================] - 3s 3ms/step - loss: 0.5178 - accuracy: 0.7394\n",
            "Epoch 111/200\n",
            "856/856 [==============================] - 3s 3ms/step - loss: 0.5150 - accuracy: 0.7403\n",
            "Epoch 112/200\n",
            "856/856 [==============================] - 3s 3ms/step - loss: 0.5205 - accuracy: 0.7401\n",
            "Epoch 113/200\n",
            "856/856 [==============================] - 3s 3ms/step - loss: 0.5330 - accuracy: 0.7359\n",
            "Epoch 114/200\n",
            "856/856 [==============================] - 3s 3ms/step - loss: 0.5160 - accuracy: 0.7407\n",
            "Epoch 115/200\n",
            "856/856 [==============================] - 3s 3ms/step - loss: 0.5218 - accuracy: 0.7377\n",
            "Epoch 116/200\n",
            "856/856 [==============================] - 3s 3ms/step - loss: 0.5205 - accuracy: 0.7394\n",
            "Epoch 117/200\n",
            "856/856 [==============================] - 3s 3ms/step - loss: 0.5165 - accuracy: 0.7408\n",
            "Epoch 118/200\n",
            "856/856 [==============================] - 3s 3ms/step - loss: 0.5159 - accuracy: 0.7415\n",
            "Epoch 119/200\n",
            "856/856 [==============================] - 3s 3ms/step - loss: 0.5107 - accuracy: 0.7425\n",
            "Epoch 120/200\n",
            "856/856 [==============================] - 3s 3ms/step - loss: 0.5168 - accuracy: 0.7403\n",
            "Epoch 121/200\n",
            "856/856 [==============================] - 3s 3ms/step - loss: 0.5174 - accuracy: 0.7408\n",
            "Epoch 122/200\n",
            "856/856 [==============================] - 2s 3ms/step - loss: 0.5200 - accuracy: 0.7382\n",
            "Epoch 123/200\n",
            "856/856 [==============================] - 3s 3ms/step - loss: 0.5146 - accuracy: 0.7410\n",
            "Epoch 124/200\n",
            "856/856 [==============================] - 3s 3ms/step - loss: 0.5181 - accuracy: 0.7391\n",
            "Epoch 125/200\n",
            "856/856 [==============================] - 3s 3ms/step - loss: 0.5272 - accuracy: 0.7379\n",
            "Epoch 126/200\n",
            "856/856 [==============================] - 3s 3ms/step - loss: 0.5214 - accuracy: 0.7378\n",
            "Epoch 127/200\n",
            "856/856 [==============================] - 3s 3ms/step - loss: 0.5264 - accuracy: 0.7378\n",
            "Epoch 128/200\n",
            "856/856 [==============================] - 2s 3ms/step - loss: 0.5145 - accuracy: 0.7424\n",
            "Epoch 129/200\n",
            "856/856 [==============================] - 2s 3ms/step - loss: 0.5193 - accuracy: 0.7397\n",
            "Epoch 130/200\n",
            "856/856 [==============================] - 3s 3ms/step - loss: 0.5236 - accuracy: 0.7377\n",
            "Epoch 131/200\n",
            "856/856 [==============================] - 3s 3ms/step - loss: 0.5174 - accuracy: 0.7395\n",
            "Epoch 132/200\n",
            "856/856 [==============================] - 3s 3ms/step - loss: 0.5190 - accuracy: 0.7392\n",
            "Epoch 133/200\n",
            "856/856 [==============================] - 3s 3ms/step - loss: 0.5462 - accuracy: 0.7305\n",
            "Epoch 134/200\n",
            "856/856 [==============================] - 3s 3ms/step - loss: 0.5173 - accuracy: 0.7395\n",
            "Epoch 135/200\n",
            "856/856 [==============================] - 3s 3ms/step - loss: 0.5294 - accuracy: 0.7363\n",
            "Epoch 136/200\n",
            "856/856 [==============================] - 3s 3ms/step - loss: 0.5252 - accuracy: 0.7370\n",
            "Epoch 137/200\n",
            "856/856 [==============================] - 2s 3ms/step - loss: 0.5159 - accuracy: 0.7409\n",
            "Epoch 138/200\n",
            "856/856 [==============================] - 3s 3ms/step - loss: 0.5309 - accuracy: 0.7354\n",
            "Epoch 139/200\n",
            "856/856 [==============================] - 3s 3ms/step - loss: 0.5246 - accuracy: 0.7375\n",
            "Epoch 140/200\n",
            "856/856 [==============================] - 3s 3ms/step - loss: 0.5304 - accuracy: 0.7356\n",
            "Epoch 141/200\n",
            "856/856 [==============================] - 3s 3ms/step - loss: 0.5308 - accuracy: 0.7354\n",
            "Epoch 142/200\n",
            "856/856 [==============================] - 3s 3ms/step - loss: 0.5288 - accuracy: 0.7360\n",
            "Epoch 143/200\n",
            "856/856 [==============================] - 3s 3ms/step - loss: 0.5275 - accuracy: 0.7372\n",
            "Epoch 144/200\n",
            "856/856 [==============================] - 3s 3ms/step - loss: 0.5257 - accuracy: 0.7363\n",
            "Epoch 145/200\n",
            "856/856 [==============================] - 3s 3ms/step - loss: 0.5595 - accuracy: 0.7268\n",
            "Epoch 146/200\n",
            "856/856 [==============================] - 3s 3ms/step - loss: 0.5679 - accuracy: 0.7201\n",
            "Epoch 147/200\n",
            "856/856 [==============================] - 3s 3ms/step - loss: 0.5517 - accuracy: 0.7261\n",
            "Epoch 148/200\n",
            "856/856 [==============================] - 2s 3ms/step - loss: 0.5463 - accuracy: 0.7293\n",
            "Epoch 149/200\n",
            "856/856 [==============================] - 3s 3ms/step - loss: 0.5355 - accuracy: 0.7339\n",
            "Epoch 150/200\n",
            "856/856 [==============================] - 3s 3ms/step - loss: 0.5280 - accuracy: 0.7372\n",
            "Epoch 151/200\n",
            "856/856 [==============================] - 3s 3ms/step - loss: 0.5257 - accuracy: 0.7374\n",
            "Epoch 152/200\n",
            "856/856 [==============================] - 3s 3ms/step - loss: 0.5254 - accuracy: 0.7374\n",
            "Epoch 153/200\n",
            "856/856 [==============================] - 3s 3ms/step - loss: 0.5203 - accuracy: 0.7388\n",
            "Epoch 154/200\n",
            "856/856 [==============================] - 3s 3ms/step - loss: 0.5156 - accuracy: 0.7396\n",
            "Epoch 155/200\n",
            "856/856 [==============================] - 3s 3ms/step - loss: 0.5069 - accuracy: 0.7437\n",
            "Epoch 156/200\n",
            "856/856 [==============================] - 3s 3ms/step - loss: 0.5129 - accuracy: 0.7422\n",
            "Epoch 157/200\n",
            "856/856 [==============================] - 3s 3ms/step - loss: 0.5144 - accuracy: 0.7422\n",
            "Epoch 158/200\n",
            "856/856 [==============================] - 3s 3ms/step - loss: 0.5120 - accuracy: 0.7429\n",
            "Epoch 159/200\n",
            "856/856 [==============================] - 3s 3ms/step - loss: 0.5175 - accuracy: 0.7409\n",
            "Epoch 160/200\n",
            "856/856 [==============================] - 3s 3ms/step - loss: 0.5132 - accuracy: 0.7420\n",
            "Epoch 161/200\n",
            "856/856 [==============================] - 3s 3ms/step - loss: 0.5125 - accuracy: 0.7417\n",
            "Epoch 162/200\n",
            "856/856 [==============================] - 3s 3ms/step - loss: 0.5096 - accuracy: 0.7437\n",
            "Epoch 163/200\n",
            "856/856 [==============================] - 3s 3ms/step - loss: 0.5123 - accuracy: 0.7418\n",
            "Epoch 164/200\n",
            "856/856 [==============================] - 3s 3ms/step - loss: 0.5122 - accuracy: 0.7418\n",
            "Epoch 165/200\n",
            "856/856 [==============================] - 3s 3ms/step - loss: 0.5207 - accuracy: 0.7419\n",
            "Epoch 166/200\n",
            "856/856 [==============================] - 3s 3ms/step - loss: 0.5264 - accuracy: 0.7381\n",
            "Epoch 167/200\n",
            "856/856 [==============================] - 3s 3ms/step - loss: 0.5138 - accuracy: 0.7417\n",
            "Epoch 168/200\n",
            "856/856 [==============================] - 3s 3ms/step - loss: 0.5206 - accuracy: 0.7383\n",
            "Epoch 169/200\n",
            "856/856 [==============================] - 3s 3ms/step - loss: 0.5185 - accuracy: 0.7398\n",
            "Epoch 170/200\n",
            "856/856 [==============================] - 3s 3ms/step - loss: 0.5218 - accuracy: 0.7384\n",
            "Epoch 171/200\n",
            "856/856 [==============================] - 3s 3ms/step - loss: 0.5108 - accuracy: 0.7415\n",
            "Epoch 172/200\n",
            "856/856 [==============================] - 3s 3ms/step - loss: 0.5240 - accuracy: 0.7386\n",
            "Epoch 173/200\n",
            "856/856 [==============================] - 3s 3ms/step - loss: 0.5258 - accuracy: 0.7380\n",
            "Epoch 174/200\n",
            "856/856 [==============================] - 3s 3ms/step - loss: 0.5223 - accuracy: 0.7383\n",
            "Epoch 175/200\n",
            "856/856 [==============================] - 3s 3ms/step - loss: 0.5195 - accuracy: 0.7400\n",
            "Epoch 176/200\n",
            "856/856 [==============================] - 3s 3ms/step - loss: 0.5162 - accuracy: 0.7414\n",
            "Epoch 177/200\n",
            "856/856 [==============================] - 3s 3ms/step - loss: 0.5243 - accuracy: 0.7369\n",
            "Epoch 178/200\n",
            "856/856 [==============================] - 3s 3ms/step - loss: 0.5187 - accuracy: 0.7409\n",
            "Epoch 179/200\n",
            "856/856 [==============================] - 3s 3ms/step - loss: 0.5238 - accuracy: 0.7379\n",
            "Epoch 180/200\n",
            "856/856 [==============================] - 3s 3ms/step - loss: 0.5322 - accuracy: 0.7345\n",
            "Epoch 181/200\n",
            "856/856 [==============================] - 3s 3ms/step - loss: 0.5323 - accuracy: 0.7347\n",
            "Epoch 182/200\n",
            "856/856 [==============================] - 3s 3ms/step - loss: 0.5247 - accuracy: 0.7360\n",
            "Epoch 183/200\n",
            "856/856 [==============================] - 3s 3ms/step - loss: 0.5295 - accuracy: 0.7351\n",
            "Epoch 184/200\n",
            "856/856 [==============================] - 3s 3ms/step - loss: 0.5130 - accuracy: 0.7405\n",
            "Epoch 185/200\n",
            "856/856 [==============================] - 3s 3ms/step - loss: 0.5004 - accuracy: 0.7467\n",
            "Epoch 186/200\n",
            "856/856 [==============================] - 3s 3ms/step - loss: 0.5154 - accuracy: 0.7412\n",
            "Epoch 187/200\n",
            "856/856 [==============================] - 3s 3ms/step - loss: 0.5084 - accuracy: 0.7437\n",
            "Epoch 188/200\n",
            "856/856 [==============================] - 3s 3ms/step - loss: 0.5135 - accuracy: 0.7419\n",
            "Epoch 189/200\n",
            "856/856 [==============================] - 3s 3ms/step - loss: 0.5316 - accuracy: 0.7355\n",
            "Epoch 190/200\n",
            "856/856 [==============================] - 3s 3ms/step - loss: 0.5288 - accuracy: 0.7370\n",
            "Epoch 191/200\n",
            "856/856 [==============================] - 3s 3ms/step - loss: 0.5294 - accuracy: 0.7343\n",
            "Epoch 192/200\n",
            "856/856 [==============================] - 3s 3ms/step - loss: 0.5294 - accuracy: 0.7359\n",
            "Epoch 193/200\n",
            "856/856 [==============================] - 3s 3ms/step - loss: 0.5188 - accuracy: 0.7398\n",
            "Epoch 194/200\n",
            "856/856 [==============================] - 3s 3ms/step - loss: 0.5282 - accuracy: 0.7353\n",
            "Epoch 195/200\n",
            "856/856 [==============================] - 3s 3ms/step - loss: 0.5316 - accuracy: 0.7335\n",
            "Epoch 196/200\n",
            "856/856 [==============================] - 3s 3ms/step - loss: 0.5281 - accuracy: 0.7367\n",
            "Epoch 197/200\n",
            "856/856 [==============================] - 3s 3ms/step - loss: 0.5307 - accuracy: 0.7347\n",
            "Epoch 198/200\n",
            "856/856 [==============================] - 3s 3ms/step - loss: 0.5236 - accuracy: 0.7382\n",
            "Epoch 199/200\n",
            "856/856 [==============================] - 3s 3ms/step - loss: 0.5238 - accuracy: 0.7358\n",
            "Epoch 200/200\n",
            "856/856 [==============================] - 3s 3ms/step - loss: 0.5234 - accuracy: 0.7359\n"
          ]
        }
      ]
    },
    {
      "cell_type": "markdown",
      "metadata": {
        "id": "GkPYDvPtuRKO"
      },
      "source": [
        "#### Loss and Accuracy"
      ]
    },
    {
      "cell_type": "code",
      "metadata": {
        "id": "__f7n7Q5vISv",
        "colab": {
          "base_uri": "https://localhost:8080/"
        },
        "outputId": "ee085638-74bb-47a1-fca6-835f7632d219"
      },
      "source": [
        "loss,accuracy = model.evaluate(X_test,Y_test)\n",
        "print(\"Loss: {}, Accuracy: {}\".format(loss,accuracy))"
      ],
      "execution_count": null,
      "outputs": [
        {
          "output_type": "stream",
          "name": "stdout",
          "text": [
            "2932/2932 [==============================] - 7s 2ms/step - loss: 0.5613 - accuracy: 0.7246\n",
            "Loss: 0.5613341331481934, Accuracy: 0.7245690822601318\n"
          ]
        }
      ]
    },
    {
      "cell_type": "markdown",
      "metadata": {
        "id": "0IO4y-ZXuBnV"
      },
      "source": [
        "#### Predictions"
      ]
    },
    {
      "cell_type": "code",
      "metadata": {
        "id": "XMHST0bc3mvU",
        "colab": {
          "base_uri": "https://localhost:8080/"
        },
        "outputId": "b7776e44-6fa8-4d2c-8443-d765ed89f3e4"
      },
      "source": [
        "predictions = model.predict(X_test)\n",
        "predictions = np.argmax(predictions, axis=1)\n",
        "predictions"
      ],
      "execution_count": null,
      "outputs": [
        {
          "output_type": "execute_result",
          "data": {
            "text/plain": [
              "array([3, 5, 3, ..., 8, 2, 5])"
            ]
          },
          "metadata": {},
          "execution_count": 51
        }
      ]
    },
    {
      "cell_type": "markdown",
      "metadata": {
        "id": "JmycYhJJulfs"
      },
      "source": [
        "#### Loss and Accuracy Graph"
      ]
    },
    {
      "cell_type": "code",
      "metadata": {
        "colab": {
          "base_uri": "https://localhost:8080/",
          "height": 279
        },
        "id": "RqTWcr7KunI8",
        "outputId": "3c2b2269-505c-4e59-bd94-f4e51dcca2da"
      },
      "source": [
        "plt.plot(history.history['accuracy'])\n",
        "plt.xlabel('Epochs')\n",
        "plt.ylabel('Accuracy')\n",
        "plt.show()"
      ],
      "execution_count": null,
      "outputs": [
        {
          "output_type": "display_data",
          "data": {
            "text/plain": [
              "<Figure size 432x288 with 1 Axes>"
            ],
            "image/png": "[encoded data removed]"
          },
          "metadata": {
            "needs_background": "light"
          }
        }
      ]
    },
    {
      "cell_type": "code",
      "metadata": {
        "colab": {
          "base_uri": "https://localhost:8080/",
          "height": 279
        },
        "id": "xHAa2K9Buxei",
        "outputId": "21e518d3-b95f-44ff-8406-95aafc08bd23"
      },
      "source": [
        "plt.plot(history.history['loss'])\n",
        "plt.xlabel('Epochs')\n",
        "plt.ylabel('Loss')\n",
        "plt.show()"
      ],
      "execution_count": null,
      "outputs": [
        {
          "output_type": "display_data",
          "data": {
            "text/plain": [
              "<Figure size 432x288 with 1 Axes>"
            ],
            "image/png": "[encoded data removed]"
          },
          "metadata": {
            "needs_background": "light"
          }
        }
      ]
    },
    {
      "cell_type": "markdown",
      "metadata": {
        "id": "CxcZlKGdu2He"
      },
      "source": [
        "#### F1 Score"
      ]
    },
    {
      "cell_type": "code",
      "metadata": {
        "colab": {
          "base_uri": "https://localhost:8080/"
        },
        "id": "5g7jgP-cvBUs",
        "outputId": "392c9003-6598-48f3-8edb-edf3bc22c5cb"
      },
      "source": [
        "print(\"F1: %f\"% f1_score(np.argmax(Y_test,axis=1), predictions,average=\"micro\"))"
      ],
      "execution_count": null,
      "outputs": [
        {
          "output_type": "stream",
          "name": "stdout",
          "text": [
            "F1: 0.724569\n"
          ]
        }
      ]
    },
    {
      "cell_type": "markdown",
      "metadata": {
        "id": "Gqdjgh870fCc"
      },
      "source": [
        "#### Precision Score"
      ]
    },
    {
      "cell_type": "code",
      "metadata": {
        "colab": {
          "base_uri": "https://localhost:8080/"
        },
        "id": "mpwW_Ww10gCv",
        "outputId": "79a6c5a8-c12b-41d9-ddc1-f3e626ba0cf6"
      },
      "source": [
        "print(\"Precision: %f \"%precision_score(np.argmax(Y_test,axis=1),predictions,average=\"weighted\"))"
      ],
      "execution_count": null,
      "outputs": [
        {
          "output_type": "stream",
          "name": "stdout",
          "text": [
            "Precision: 0.763154 \n"
          ]
        }
      ]
    },
    {
      "cell_type": "markdown",
      "metadata": {
        "id": "3ToVYb6q1ViM"
      },
      "source": [
        "#### Recall Score"
      ]
    },
    {
      "cell_type": "code",
      "metadata": {
        "colab": {
          "base_uri": "https://localhost:8080/"
        },
        "id": "qGl81O9X1Wk5",
        "outputId": "a24139a4-ff39-41b2-c346-2f798fd1344b"
      },
      "source": [
        "print(\"Recall: %f \"%recall_score(np.argmax(Y_test,axis=1), predictions,average=\"macro\"))"
      ],
      "execution_count": null,
      "outputs": [
        {
          "output_type": "stream",
          "name": "stdout",
          "text": [
            "Recall: 0.671725 \n"
          ]
        }
      ]
    },
    {
      "cell_type": "markdown",
      "metadata": {
        "id": "pmlH_I3Hu3Ut"
      },
      "source": [
        "#### Confusion Matrix"
      ]
    },
    {
      "cell_type": "code",
      "metadata": {
        "id": "rM9DoRuV3zvj",
        "colab": {
          "base_uri": "https://localhost:8080/"
        },
        "outputId": "f7ed56c6-528d-4d82-8969-0588589a527d"
      },
      "source": [
        "cmNN = confusion_matrix(np.argmax(Y_test,axis=1),predictions)\n",
        "print(cmNN)"
      ],
      "execution_count": null,
      "outputs": [
        {
          "output_type": "stream",
          "name": "stdout",
          "text": [
            "[[ 8862     4     0     0     2     1     8     0     1]\n",
            " [    0  4329    27    36   829     3    11     3    52]\n",
            " [    0    30  1357  5714   584   567    12     1     5]\n",
            " [    0    36  1339  5790   614   581    14     1     5]\n",
            " [    1  1081   172   104 15885   106    14    23   755]\n",
            " [    0    34  1302  5748   665 19763    11     1     5]\n",
            " [    1    27     5    12    30     4  5928     0    12]\n",
            " [    0    69     3     6   694     2     3   199  2367]\n",
            " [    0    97     2    12  1963    12     2    14  5861]]\n"
          ]
        }
      ]
    },
    {
      "cell_type": "markdown",
      "metadata": {
        "id": "2Q9Ee4hH2PMZ"
      },
      "source": [
        "#### Heat Map"
      ]
    },
    {
      "cell_type": "code",
      "metadata": {
        "id": "sIW5NY4NT45Q",
        "colab": {
          "base_uri": "https://localhost:8080/",
          "height": 282
        },
        "outputId": "61f6ed14-87c4-4d88-d115-639772dc632d"
      },
      "source": [
        "sns.heatmap(cmNN,annot=True,fmt='g')"
      ],
      "execution_count": null,
      "outputs": [
        {
          "output_type": "execute_result",
          "data": {
            "text/plain": [
              "<matplotlib.axes._subplots.AxesSubplot at 0x7f32a59441d0>"
            ]
          },
          "metadata": {},
          "execution_count": 58
        },
        {
          "output_type": "display_data",
          "data": {
            "text/plain": [
              "<Figure size 432x288 with 2 Axes>"
            ],
            "image/png": "[encoded data removed]"
          },
          "metadata": {
            "needs_background": "light"
          }
        }
      ]
    },
    {
      "cell_type": "markdown",
      "metadata": {
        "id": "JZpwxo8T2YZd"
      },
      "source": [
        "#### ROC CURVE"
      ]
    },
    {
      "cell_type": "markdown",
      "metadata": {
        "id": "J3AsxZuH2aAG"
      },
      "source": [
        "ROC Curve not supported for multi class classification"
      ]
    },
    {
      "cell_type": "markdown",
      "metadata": {
        "id": "7V3n8UQI51Gq"
      },
      "source": [
        "#### Result"
      ]
    },
    {
      "cell_type": "code",
      "metadata": {
        "id": "MqFG_QTl4DgG",
        "colab": {
          "base_uri": "https://localhost:8080/"
        },
        "outputId": "cf1155b8-cbba-495d-a586-e9360eea9b68"
      },
      "source": [
        "print(\"The accuracy of NN for Multi classification is: {}\".format((cmNN.trace()/cmNN.sum()*100)))"
      ],
      "execution_count": null,
      "outputs": [
        {
          "output_type": "stream",
          "name": "stdout",
          "text": [
            "The accuracy of NN for Multi classification is: 72.45690895718077\n"
          ]
        }
      ]
    }
  ]
}
