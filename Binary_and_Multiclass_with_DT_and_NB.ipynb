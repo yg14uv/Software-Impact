{
  "cells": [
    {
      "cell_type": "markdown",
      "source": [
        "**Part A** is for Binary classification\n",
        "\n",
        "> Indented block\n",
        "\n",
        "\n",
        "**Part B** is for multiclassification"
      ],
      "metadata": {
        "id": "IqoGieYrkIC8"
      }
    },
    {
      "cell_type": "code",
      "source": [],
      "metadata": {
        "id": "R_P0UaoQkQ-_"
      },
      "execution_count": null,
      "outputs": []
    },
    {
      "cell_type": "markdown",
      "metadata": {
        "id": "FPGXRZdFVYjY"
      },
      "source": [
        "Importing Dataset from google drive\n"
      ]
    },
    {
      "cell_type": "markdown",
      "metadata": {
        "id": "pH0-eZThgzPI"
      },
      "source": []
    },
    {
      "cell_type": "code",
      "execution_count": null,
      "metadata": {
        "colab": {
          "base_uri": "https://localhost:8080/"
        },
        "id": "mGpsZrfAUOaI",
        "outputId": "df6429a3-938b-45ee-a2b6-67c13db268fb"
      },
      "outputs": [
        {
          "output_type": "stream",
          "name": "stdout",
          "text": [
            "Drive already mounted at /content/drive; to attempt to forcibly remount, call drive.mount(\"/content/drive\", force_remount=True).\n",
            "                                          Flow_ID           Src_IP  Src_Port  \\\n",
            "0        192.168.0.13-192.168.0.16-10000-10101-17     192.168.0.13     10000   \n",
            "1         192.168.0.13-222.160.179.132-554-2179-6  222.160.179.132      2179   \n",
            "2          192.168.0.13-192.168.0.16-9020-52727-6     192.168.0.16     52727   \n",
            "3          192.168.0.13-192.168.0.16-9020-52964-6     192.168.0.16     52964   \n",
            "4       192.168.0.1-239.255.255.250-36763-1900-17      192.168.0.1     36763   \n",
            "...                                           ...              ...       ...   \n",
            "625778   192.168.0.24-210.89.164.90-56112-8043-17     192.168.0.24     56112   \n",
            "625779    192.168.0.13-222.131.171.244-554-4570-6  222.131.171.244      4570   \n",
            "625780     192.168.0.13-192.168.0.16-9020-52739-6     192.168.0.16     52739   \n",
            "625781     192.168.0.13-192.168.0.16-9020-49784-6     192.168.0.13      9020   \n",
            "625782   192.168.0.13-192.168.0.16-10000-10101-17     192.168.0.13     10000   \n",
            "\n",
            "                 Dst_IP  Dst_Port  Protocol               Timestamp  \\\n",
            "0          192.168.0.16     10101        17  25/07/2019 03:25:53 AM   \n",
            "1          192.168.0.13       554         6  26/05/2019 10:11:06 PM   \n",
            "2          192.168.0.13      9020         6  11/07/2019 01:24:48 AM   \n",
            "3          192.168.0.13      9020         6  04/09/2019 03:58:17 AM   \n",
            "4       239.255.255.250      1900        17  10/09/2019 01:41:18 AM   \n",
            "...                 ...       ...       ...                     ...   \n",
            "625778    210.89.164.90      8043        17  25/07/2019 03:25:00 AM   \n",
            "625779     192.168.0.13       554         6  26/05/2019 10:06:51 PM   \n",
            "625780     192.168.0.13      9020         6  11/07/2019 01:29:09 AM   \n",
            "625781     192.168.0.16     49784         6  20/05/2019 05:00:29 AM   \n",
            "625782     192.168.0.16     10101        17  25/07/2019 03:25:10 AM   \n",
            "\n",
            "        Flow_Duration  Tot_Fwd_Pkts  Tot_Bwd_Pkts  ...  Active_Std  \\\n",
            "0                  75             1             1  ...         0.0   \n",
            "1                5310             1             2  ...         0.0   \n",
            "2                 141             0             3  ...         0.0   \n",
            "3                 151             0             2  ...         0.0   \n",
            "4                 153             2             1  ...         0.0   \n",
            "...               ...           ...           ...  ...         ...   \n",
            "625778            277             1             1  ...         0.0   \n",
            "625779           1658             0             2  ...         0.0   \n",
            "625780             77             1             1  ...         0.0   \n",
            "625781            240             2             1  ...         0.0   \n",
            "625782            198             2             1  ...         0.0   \n",
            "\n",
            "        Active_Max  Active_Min  Idle_Mean     Idle_Std  Idle_Max  Idle_Min  \\\n",
            "0              0.0         0.0       75.0     0.000000      75.0      75.0   \n",
            "1              0.0         0.0     2655.0  2261.327486    4254.0    1056.0   \n",
            "2              0.0         0.0       70.5     0.707107      71.0      70.0   \n",
            "3              0.0         0.0      151.0     0.000000     151.0     151.0   \n",
            "4              0.0         0.0       76.5     0.707107      77.0      76.0   \n",
            "...            ...         ...        ...          ...       ...       ...   \n",
            "625778         0.0         0.0      277.0     0.000000     277.0     277.0   \n",
            "625779         0.0         0.0     1658.0     0.000000    1658.0    1658.0   \n",
            "625780         0.0         0.0       77.0     0.000000      77.0      77.0   \n",
            "625781         0.0         0.0      120.0     7.071068     125.0     115.0   \n",
            "625782         0.0         0.0       99.0    32.526912     122.0      76.0   \n",
            "\n",
            "          Label     Cat                Sub_Cat  \n",
            "0       Anomaly   Mirai      Mirai-Ackflooding  \n",
            "1       Anomaly     DoS        DoS-Synflooding  \n",
            "2       Anomaly    Scan           Scan Port OS  \n",
            "3       Anomaly   Mirai  Mirai-Hostbruteforceg  \n",
            "4       Anomaly   Mirai  Mirai-Hostbruteforceg  \n",
            "...         ...     ...                    ...  \n",
            "625778  Anomaly   Mirai     Mirai-UDP Flooding  \n",
            "625779  Anomaly     DoS        DoS-Synflooding  \n",
            "625780  Anomaly    Scan           Scan Port OS  \n",
            "625781   Normal  Normal                 Normal  \n",
            "625782  Anomaly   Mirai     Mirai-UDP Flooding  \n",
            "\n",
            "[625783 rows x 86 columns]\n"
          ]
        }
      ],
      "source": [
        "import pandas as pd\n",
        "from google.colab import drive\n",
        "import numpy\n",
        "from sklearn import preprocessing\n",
        "from sklearn.naive_bayes import GaussianNB\n",
        "from sklearn import metrics\n",
        "import ipaddress\n",
        "from sklearn.model_selection import train_test_split\n",
        "from sklearn import tree\n",
        "from matplotlib import pyplot as plt\n",
        "drive.mount('/content/drive')\n",
        "#dataframe=pd.read_csv(\"/content/drive/MyDrive/IoTID20/IoT Intrusion Dataset 2020.csv\")\n",
        "dataframe = pd.read_csv('/content/drive/My Drive/IoTID20.csv')\n",
        "print(dataframe)\n"
      ]
    },
    {
      "cell_type": "markdown",
      "metadata": {
        "id": "7UzOmrMIXOjm"
      },
      "source": [
        "Visulizing Data Set:"
      ]
    },
    {
      "cell_type": "code",
      "execution_count": null,
      "metadata": {
        "colab": {
          "base_uri": "https://localhost:8080/",
          "height": 804
        },
        "id": "NDUs_ufNXTGW",
        "outputId": "89847137-98f9-4682-82a2-8d1ae8ece37a"
      },
      "outputs": [
        {
          "output_type": "execute_result",
          "data": {
            "text/plain": [
              "                                     Flow_ID           Src_IP  Src_Port  \\\n",
              "0   192.168.0.13-192.168.0.16-10000-10101-17     192.168.0.13     10000   \n",
              "1    192.168.0.13-222.160.179.132-554-2179-6  222.160.179.132      2179   \n",
              "2     192.168.0.13-192.168.0.16-9020-52727-6     192.168.0.16     52727   \n",
              "3     192.168.0.13-192.168.0.16-9020-52964-6     192.168.0.16     52964   \n",
              "4  192.168.0.1-239.255.255.250-36763-1900-17      192.168.0.1     36763   \n",
              "5    192.168.0.24-101.79.244.148-41980-443-6     192.168.0.24     41980   \n",
              "6   192.168.0.24-210.89.164.90-60175-8899-17     192.168.0.24     60175   \n",
              "7      192.168.0.24-58.225.75.83-41467-443-6     192.168.0.24     41467   \n",
              "8   192.168.0.13-210.89.164.90-60132-8899-17     192.168.0.13     60132   \n",
              "9    192.168.0.13-111.149.163.151-554-7953-6  111.149.163.151      7953   \n",
              "\n",
              "            Dst_IP  Dst_Port  Protocol               Timestamp  Flow_Duration  \\\n",
              "0     192.168.0.16     10101        17  25/07/2019 03:25:53 AM             75   \n",
              "1     192.168.0.13       554         6  26/05/2019 10:11:06 PM           5310   \n",
              "2     192.168.0.13      9020         6  11/07/2019 01:24:48 AM            141   \n",
              "3     192.168.0.13      9020         6  04/09/2019 03:58:17 AM            151   \n",
              "4  239.255.255.250      1900        17  10/09/2019 01:41:18 AM            153   \n",
              "5   101.79.244.148       443         6  10/09/2019 01:39:13 AM            157   \n",
              "6    210.89.164.90      8899        17  25/07/2019 03:21:01 AM            139   \n",
              "7     58.225.75.83       443         6  11/07/2019 01:52:37 AM            112   \n",
              "8    210.89.164.90      8899        17  25/07/2019 03:21:13 AM             86   \n",
              "9     192.168.0.13       554         6  26/05/2019 10:20:36 PM           6799   \n",
              "\n",
              "   Tot_Fwd_Pkts  Tot_Bwd_Pkts  ...  Active_Std  Active_Max  Active_Min  \\\n",
              "0             1             1  ...         0.0         0.0         0.0   \n",
              "1             1             2  ...         0.0         0.0         0.0   \n",
              "2             0             3  ...         0.0         0.0         0.0   \n",
              "3             0             2  ...         0.0         0.0         0.0   \n",
              "4             2             1  ...         0.0         0.0         0.0   \n",
              "5             2             1  ...         0.0         0.0         0.0   \n",
              "6            20             1  ...         0.0         0.0         0.0   \n",
              "7             0             2  ...         0.0         0.0         0.0   \n",
              "8             1             1  ...         0.0         0.0         0.0   \n",
              "9             0             2  ...         0.0         0.0         0.0   \n",
              "\n",
              "   Idle_Mean     Idle_Std  Idle_Max  Idle_Min    Label    Cat  \\\n",
              "0      75.00     0.000000      75.0      75.0  Anomaly  Mirai   \n",
              "1    2655.00  2261.327486    4254.0    1056.0  Anomaly    DoS   \n",
              "2      70.50     0.707107      71.0      70.0  Anomaly   Scan   \n",
              "3     151.00     0.000000     151.0     151.0  Anomaly  Mirai   \n",
              "4      76.50     0.707107      77.0      76.0  Anomaly  Mirai   \n",
              "5      78.50     6.363961      83.0      74.0  Anomaly  Mirai   \n",
              "6       6.95     1.669384      10.0       4.0  Anomaly  Mirai   \n",
              "7     112.00     0.000000     112.0     112.0  Anomaly   Scan   \n",
              "8      86.00     0.000000      86.0      86.0  Anomaly  Mirai   \n",
              "9    6799.00     0.000000    6799.0    6799.0  Anomaly    DoS   \n",
              "\n",
              "                 Sub_Cat  \n",
              "0      Mirai-Ackflooding  \n",
              "1        DoS-Synflooding  \n",
              "2           Scan Port OS  \n",
              "3  Mirai-Hostbruteforceg  \n",
              "4  Mirai-Hostbruteforceg  \n",
              "5  Mirai-Hostbruteforceg  \n",
              "6     Mirai-UDP Flooding  \n",
              "7           Scan Port OS  \n",
              "8     Mirai-UDP Flooding  \n",
              "9        DoS-Synflooding  \n",
              "\n",
              "[10 rows x 86 columns]"
            ],
            "text/html": [
              "\n",
              "  <div id=\"df-eb997672-410e-470d-9bc3-3f4b82cf0ae4\">\n",
              "    <div class=\"colab-df-container\">\n",
              "      <div>\n",
              "<style scoped>\n",
              "    .dataframe tbody tr th:only-of-type {\n",
              "        vertical-align: middle;\n",
              "    }\n",
              "\n",
              "    .dataframe tbody tr th {\n",
              "        vertical-align: top;\n",
              "    }\n",
              "\n",
              "    .dataframe thead th {\n",
              "        text-align: right;\n",
              "    }\n",
              "</style>\n",
              "<table border=\"1\" class=\"dataframe\">\n",
              "  <thead>\n",
              "    <tr style=\"text-align: right;\">\n",
              "      <th></th>\n",
              "      <th>Flow_ID</th>\n",
              "      <th>Src_IP</th>\n",
              "      <th>Src_Port</th>\n",
              "      <th>Dst_IP</th>\n",
              "      <th>Dst_Port</th>\n",
              "      <th>Protocol</th>\n",
              "      <th>Timestamp</th>\n",
              "      <th>Flow_Duration</th>\n",
              "      <th>Tot_Fwd_Pkts</th>\n",
              "      <th>Tot_Bwd_Pkts</th>\n",
              "      <th>...</th>\n",
              "      <th>Active_Std</th>\n",
              "      <th>Active_Max</th>\n",
              "      <th>Active_Min</th>\n",
              "      <th>Idle_Mean</th>\n",
              "      <th>Idle_Std</th>\n",
              "      <th>Idle_Max</th>\n",
              "      <th>Idle_Min</th>\n",
              "      <th>Label</th>\n",
              "      <th>Cat</th>\n",
              "      <th>Sub_Cat</th>\n",
              "    </tr>\n",
              "  </thead>\n",
              "  <tbody>\n",
              "    <tr>\n",
              "      <th>0</th>\n",
              "      <td>192.168.0.13-192.168.0.16-10000-10101-17</td>\n",
              "      <td>192.168.0.13</td>\n",
              "      <td>10000</td>\n",
              "      <td>192.168.0.16</td>\n",
              "      <td>10101</td>\n",
              "      <td>17</td>\n",
              "      <td>25/07/2019 03:25:53 AM</td>\n",
              "      <td>75</td>\n",
              "      <td>1</td>\n",
              "      <td>1</td>\n",
              "      <td>...</td>\n",
              "      <td>0.0</td>\n",
              "      <td>0.0</td>\n",
              "      <td>0.0</td>\n",
              "      <td>75.00</td>\n",
              "      <td>0.000000</td>\n",
              "      <td>75.0</td>\n",
              "      <td>75.0</td>\n",
              "      <td>Anomaly</td>\n",
              "      <td>Mirai</td>\n",
              "      <td>Mirai-Ackflooding</td>\n",
              "    </tr>\n",
              "    <tr>\n",
              "      <th>1</th>\n",
              "      <td>192.168.0.13-222.160.179.132-554-2179-6</td>\n",
              "      <td>222.160.179.132</td>\n",
              "      <td>2179</td>\n",
              "      <td>192.168.0.13</td>\n",
              "      <td>554</td>\n",
              "      <td>6</td>\n",
              "      <td>26/05/2019 10:11:06 PM</td>\n",
              "      <td>5310</td>\n",
              "      <td>1</td>\n",
              "      <td>2</td>\n",
              "      <td>...</td>\n",
              "      <td>0.0</td>\n",
              "      <td>0.0</td>\n",
              "      <td>0.0</td>\n",
              "      <td>2655.00</td>\n",
              "      <td>2261.327486</td>\n",
              "      <td>4254.0</td>\n",
              "      <td>1056.0</td>\n",
              "      <td>Anomaly</td>\n",
              "      <td>DoS</td>\n",
              "      <td>DoS-Synflooding</td>\n",
              "    </tr>\n",
              "    <tr>\n",
              "      <th>2</th>\n",
              "      <td>192.168.0.13-192.168.0.16-9020-52727-6</td>\n",
              "      <td>192.168.0.16</td>\n",
              "      <td>52727</td>\n",
              "      <td>192.168.0.13</td>\n",
              "      <td>9020</td>\n",
              "      <td>6</td>\n",
              "      <td>11/07/2019 01:24:48 AM</td>\n",
              "      <td>141</td>\n",
              "      <td>0</td>\n",
              "      <td>3</td>\n",
              "      <td>...</td>\n",
              "      <td>0.0</td>\n",
              "      <td>0.0</td>\n",
              "      <td>0.0</td>\n",
              "      <td>70.50</td>\n",
              "      <td>0.707107</td>\n",
              "      <td>71.0</td>\n",
              "      <td>70.0</td>\n",
              "      <td>Anomaly</td>\n",
              "      <td>Scan</td>\n",
              "      <td>Scan Port OS</td>\n",
              "    </tr>\n",
              "    <tr>\n",
              "      <th>3</th>\n",
              "      <td>192.168.0.13-192.168.0.16-9020-52964-6</td>\n",
              "      <td>192.168.0.16</td>\n",
              "      <td>52964</td>\n",
              "      <td>192.168.0.13</td>\n",
              "      <td>9020</td>\n",
              "      <td>6</td>\n",
              "      <td>04/09/2019 03:58:17 AM</td>\n",
              "      <td>151</td>\n",
              "      <td>0</td>\n",
              "      <td>2</td>\n",
              "      <td>...</td>\n",
              "      <td>0.0</td>\n",
              "      <td>0.0</td>\n",
              "      <td>0.0</td>\n",
              "      <td>151.00</td>\n",
              "      <td>0.000000</td>\n",
              "      <td>151.0</td>\n",
              "      <td>151.0</td>\n",
              "      <td>Anomaly</td>\n",
              "      <td>Mirai</td>\n",
              "      <td>Mirai-Hostbruteforceg</td>\n",
              "    </tr>\n",
              "    <tr>\n",
              "      <th>4</th>\n",
              "      <td>192.168.0.1-239.255.255.250-36763-1900-17</td>\n",
              "      <td>192.168.0.1</td>\n",
              "      <td>36763</td>\n",
              "      <td>239.255.255.250</td>\n",
              "      <td>1900</td>\n",
              "      <td>17</td>\n",
              "      <td>10/09/2019 01:41:18 AM</td>\n",
              "      <td>153</td>\n",
              "      <td>2</td>\n",
              "      <td>1</td>\n",
              "      <td>...</td>\n",
              "      <td>0.0</td>\n",
              "      <td>0.0</td>\n",
              "      <td>0.0</td>\n",
              "      <td>76.50</td>\n",
              "      <td>0.707107</td>\n",
              "      <td>77.0</td>\n",
              "      <td>76.0</td>\n",
              "      <td>Anomaly</td>\n",
              "      <td>Mirai</td>\n",
              "      <td>Mirai-Hostbruteforceg</td>\n",
              "    </tr>\n",
              "    <tr>\n",
              "      <th>5</th>\n",
              "      <td>192.168.0.24-101.79.244.148-41980-443-6</td>\n",
              "      <td>192.168.0.24</td>\n",
              "      <td>41980</td>\n",
              "      <td>101.79.244.148</td>\n",
              "      <td>443</td>\n",
              "      <td>6</td>\n",
              "      <td>10/09/2019 01:39:13 AM</td>\n",
              "      <td>157</td>\n",
              "      <td>2</td>\n",
              "      <td>1</td>\n",
              "      <td>...</td>\n",
              "      <td>0.0</td>\n",
              "      <td>0.0</td>\n",
              "      <td>0.0</td>\n",
              "      <td>78.50</td>\n",
              "      <td>6.363961</td>\n",
              "      <td>83.0</td>\n",
              "      <td>74.0</td>\n",
              "      <td>Anomaly</td>\n",
              "      <td>Mirai</td>\n",
              "      <td>Mirai-Hostbruteforceg</td>\n",
              "    </tr>\n",
              "    <tr>\n",
              "      <th>6</th>\n",
              "      <td>192.168.0.24-210.89.164.90-60175-8899-17</td>\n",
              "      <td>192.168.0.24</td>\n",
              "      <td>60175</td>\n",
              "      <td>210.89.164.90</td>\n",
              "      <td>8899</td>\n",
              "      <td>17</td>\n",
              "      <td>25/07/2019 03:21:01 AM</td>\n",
              "      <td>139</td>\n",
              "      <td>20</td>\n",
              "      <td>1</td>\n",
              "      <td>...</td>\n",
              "      <td>0.0</td>\n",
              "      <td>0.0</td>\n",
              "      <td>0.0</td>\n",
              "      <td>6.95</td>\n",
              "      <td>1.669384</td>\n",
              "      <td>10.0</td>\n",
              "      <td>4.0</td>\n",
              "      <td>Anomaly</td>\n",
              "      <td>Mirai</td>\n",
              "      <td>Mirai-UDP Flooding</td>\n",
              "    </tr>\n",
              "    <tr>\n",
              "      <th>7</th>\n",
              "      <td>192.168.0.24-58.225.75.83-41467-443-6</td>\n",
              "      <td>192.168.0.24</td>\n",
              "      <td>41467</td>\n",
              "      <td>58.225.75.83</td>\n",
              "      <td>443</td>\n",
              "      <td>6</td>\n",
              "      <td>11/07/2019 01:52:37 AM</td>\n",
              "      <td>112</td>\n",
              "      <td>0</td>\n",
              "      <td>2</td>\n",
              "      <td>...</td>\n",
              "      <td>0.0</td>\n",
              "      <td>0.0</td>\n",
              "      <td>0.0</td>\n",
              "      <td>112.00</td>\n",
              "      <td>0.000000</td>\n",
              "      <td>112.0</td>\n",
              "      <td>112.0</td>\n",
              "      <td>Anomaly</td>\n",
              "      <td>Scan</td>\n",
              "      <td>Scan Port OS</td>\n",
              "    </tr>\n",
              "    <tr>\n",
              "      <th>8</th>\n",
              "      <td>192.168.0.13-210.89.164.90-60132-8899-17</td>\n",
              "      <td>192.168.0.13</td>\n",
              "      <td>60132</td>\n",
              "      <td>210.89.164.90</td>\n",
              "      <td>8899</td>\n",
              "      <td>17</td>\n",
              "      <td>25/07/2019 03:21:13 AM</td>\n",
              "      <td>86</td>\n",
              "      <td>1</td>\n",
              "      <td>1</td>\n",
              "      <td>...</td>\n",
              "      <td>0.0</td>\n",
              "      <td>0.0</td>\n",
              "      <td>0.0</td>\n",
              "      <td>86.00</td>\n",
              "      <td>0.000000</td>\n",
              "      <td>86.0</td>\n",
              "      <td>86.0</td>\n",
              "      <td>Anomaly</td>\n",
              "      <td>Mirai</td>\n",
              "      <td>Mirai-UDP Flooding</td>\n",
              "    </tr>\n",
              "    <tr>\n",
              "      <th>9</th>\n",
              "      <td>192.168.0.13-111.149.163.151-554-7953-6</td>\n",
              "      <td>111.149.163.151</td>\n",
              "      <td>7953</td>\n",
              "      <td>192.168.0.13</td>\n",
              "      <td>554</td>\n",
              "      <td>6</td>\n",
              "      <td>26/05/2019 10:20:36 PM</td>\n",
              "      <td>6799</td>\n",
              "      <td>0</td>\n",
              "      <td>2</td>\n",
              "      <td>...</td>\n",
              "      <td>0.0</td>\n",
              "      <td>0.0</td>\n",
              "      <td>0.0</td>\n",
              "      <td>6799.00</td>\n",
              "      <td>0.000000</td>\n",
              "      <td>6799.0</td>\n",
              "      <td>6799.0</td>\n",
              "      <td>Anomaly</td>\n",
              "      <td>DoS</td>\n",
              "      <td>DoS-Synflooding</td>\n",
              "    </tr>\n",
              "  </tbody>\n",
              "</table>\n",
              "<p>10 rows × 86 columns</p>\n",
              "</div>\n",
              "      <button class=\"colab-df-convert\" onclick=\"convertToInteractive('df-eb997672-410e-470d-9bc3-3f4b82cf0ae4')\"\n",
              "              title=\"Convert this dataframe to an interactive table.\"\n",
              "              style=\"display:none;\">\n",
              "        \n",
              "  <svg xmlns=\"http://www.w3.org/2000/svg\" height=\"24px\"viewBox=\"0 0 24 24\"\n",
              "       width=\"24px\">\n",
              "    <path d=\"M0 0h24v24H0V0z\" fill=\"none\"/>\n",
              "    <path d=\"M18.56 5.44l.94 2.06.94-2.06 2.06-.94-2.06-.94-.94-2.06-.94 2.06-2.06.94zm-11 1L8.5 8.5l.94-2.06 2.06-.94-2.06-.94L8.5 2.5l-.94 2.06-2.06.94zm10 10l.94 2.06.94-2.06 2.06-.94-2.06-.94-.94-2.06-.94 2.06-2.06.94z\"/><path d=\"M17.41 7.96l-1.37-1.37c-.4-.4-.92-.59-1.43-.59-.52 0-1.04.2-1.43.59L10.3 9.45l-7.72 7.72c-.78.78-.78 2.05 0 2.83L4 21.41c.39.39.9.59 1.41.59.51 0 1.02-.2 1.41-.59l7.78-7.78 2.81-2.81c.8-.78.8-2.07 0-2.86zM5.41 20L4 18.59l7.72-7.72 1.47 1.35L5.41 20z\"/>\n",
              "  </svg>\n",
              "      </button>\n",
              "      \n",
              "  <style>\n",
              "    .colab-df-container {\n",
              "      display:flex;\n",
              "      flex-wrap:wrap;\n",
              "      gap: 12px;\n",
              "    }\n",
              "\n",
              "    .colab-df-convert {\n",
              "      background-color: #E8F0FE;\n",
              "      border: none;\n",
              "      border-radius: 50%;\n",
              "      cursor: pointer;\n",
              "      display: none;\n",
              "      fill: #1967D2;\n",
              "      height: 32px;\n",
              "      padding: 0 0 0 0;\n",
              "      width: 32px;\n",
              "    }\n",
              "\n",
              "    .colab-df-convert:hover {\n",
              "      background-color: #E2EBFA;\n",
              "      box-shadow: 0px 1px 2px rgba(60, 64, 67, 0.3), 0px 1px 3px 1px rgba(60, 64, 67, 0.15);\n",
              "      fill: #174EA6;\n",
              "    }\n",
              "\n",
              "    [theme=dark] .colab-df-convert {\n",
              "      background-color: #3B4455;\n",
              "      fill: #D2E3FC;\n",
              "    }\n",
              "\n",
              "    [theme=dark] .colab-df-convert:hover {\n",
              "      background-color: #434B5C;\n",
              "      box-shadow: 0px 1px 3px 1px rgba(0, 0, 0, 0.15);\n",
              "      filter: drop-shadow(0px 1px 2px rgba(0, 0, 0, 0.3));\n",
              "      fill: #FFFFFF;\n",
              "    }\n",
              "  </style>\n",
              "\n",
              "      <script>\n",
              "        const buttonEl =\n",
              "          document.querySelector('#df-eb997672-410e-470d-9bc3-3f4b82cf0ae4 button.colab-df-convert');\n",
              "        buttonEl.style.display =\n",
              "          google.colab.kernel.accessAllowed ? 'block' : 'none';\n",
              "\n",
              "        async function convertToInteractive(key) {\n",
              "          const element = document.querySelector('#df-eb997672-410e-470d-9bc3-3f4b82cf0ae4');\n",
              "          const dataTable =\n",
              "            await google.colab.kernel.invokeFunction('convertToInteractive',\n",
              "                                                     [key], {});\n",
              "          if (!dataTable) return;\n",
              "\n",
              "          const docLinkHtml = 'Like what you see? Visit the ' +\n",
              "            '<a target=\"_blank\" href=https://colab.research.google.com/notebooks/data_table.ipynb>data table notebook</a>'\n",
              "            + ' to learn more about interactive tables.';\n",
              "          element.innerHTML = '';\n",
              "          dataTable['output_type'] = 'display_data';\n",
              "          await google.colab.output.renderOutput(dataTable, element);\n",
              "          const docLink = document.createElement('div');\n",
              "          docLink.innerHTML = docLinkHtml;\n",
              "          element.appendChild(docLink);\n",
              "        }\n",
              "      </script>\n",
              "    </div>\n",
              "  </div>\n",
              "  "
            ]
          },
          "metadata": {},
          "execution_count": 3
        }
      ],
      "source": [
        "dataframe.head(10)\n"
      ]
    },
    {
      "cell_type": "markdown",
      "metadata": {
        "id": "lverDFK4an_A"
      },
      "source": [
        "Describing Dataset:"
      ]
    },
    {
      "cell_type": "code",
      "execution_count": null,
      "metadata": {
        "colab": {
          "base_uri": "https://localhost:8080/",
          "height": 394
        },
        "id": "SJSpdXGAasO5",
        "outputId": "85b6dcd6-6c88-491e-b2e8-b8da2810ed17"
      },
      "outputs": [
        {
          "output_type": "execute_result",
          "data": {
            "text/plain": [
              "            Src_Port       Dst_Port       Protocol  Flow_Duration  \\\n",
              "count  625783.000000  625783.000000  625783.000000  625783.000000   \n",
              "mean    35026.156190   16387.027479       9.971436     635.422865   \n",
              "std     24721.047752   17550.363037       5.379857    3496.740723   \n",
              "min         0.000000       0.000000       0.000000       0.000000   \n",
              "25%      9020.000000    8899.000000       6.000000      76.000000   \n",
              "50%     51991.000000    9020.000000       6.000000     132.000000   \n",
              "75%     56361.000000   10101.000000      17.000000     221.000000   \n",
              "max     65500.000000   65371.000000      17.000000   99984.000000   \n",
              "\n",
              "        Tot_Fwd_Pkts  Tot_Bwd_Pkts  TotLen_Fwd_Pkts  TotLen_Bwd_Pkts  \\\n",
              "count  625783.000000  625783.00000    625783.000000    625783.000000   \n",
              "mean        1.675566       1.46853       570.738980       929.280973   \n",
              "std         4.309970       1.21949      1161.873195      1731.760875   \n",
              "min         0.000000       1.00000         0.000000         0.000000   \n",
              "25%         0.000000       1.00000         0.000000        18.000000   \n",
              "50%         1.000000       1.00000        32.000000       104.000000   \n",
              "75%         2.000000       2.00000      1388.000000      1441.000000   \n",
              "max       186.000000     560.00000    109846.000000    773284.000000   \n",
              "\n",
              "       Fwd_Pkt_Len_Max  Fwd_Pkt_Len_Min  ...  Fwd_Act_Data_Pkts  \\\n",
              "count    625783.000000    625783.000000  ...      625783.000000   \n",
              "mean        392.489726       348.126571  ...           1.509913   \n",
              "std         619.575865       588.161845  ...           4.332737   \n",
              "min           0.000000         0.000000  ...           0.000000   \n",
              "25%           0.000000         0.000000  ...           0.000000   \n",
              "50%          30.000000        30.000000  ...           1.000000   \n",
              "75%        1388.000000       386.000000  ...           1.000000   \n",
              "max        1464.000000      1464.000000  ...         186.000000   \n",
              "\n",
              "       Fwd_Seg_Size_Min    Active_Mean     Active_Std     Active_Max  \\\n",
              "count          625783.0  625783.000000  625783.000000  625783.000000   \n",
              "mean                0.0       3.764405       0.353385       4.248735   \n",
              "std                 0.0      68.064508      20.723370      88.934148   \n",
              "min                 0.0       0.000000       0.000000       0.000000   \n",
              "25%                 0.0       0.000000       0.000000       0.000000   \n",
              "50%                 0.0       0.000000       0.000000       0.000000   \n",
              "75%                 0.0       0.000000       0.000000       0.000000   \n",
              "max                 0.0    9044.625000    8598.658250   26785.000000   \n",
              "\n",
              "          Active_Min      Idle_Mean       Idle_Std       Idle_Max  \\\n",
              "count  625783.000000  625783.000000  625783.000000  625783.000000   \n",
              "mean        3.462159     502.503832      52.403995     561.540512   \n",
              "std        64.111043    2112.957360    1153.184897    2866.497606   \n",
              "min         0.000000       0.000000       0.000000       0.000000   \n",
              "25%         0.000000      73.000000       0.000000      74.000000   \n",
              "50%         0.000000      93.500000       0.000000     114.000000   \n",
              "75%         0.000000     141.000000       1.527525     154.000000   \n",
              "max      6659.000000   99973.000000   67071.906623   99973.000000   \n",
              "\n",
              "            Idle_Min  \n",
              "count  625783.000000  \n",
              "mean      467.264459  \n",
              "std      1931.909971  \n",
              "min         0.000000  \n",
              "25%        71.000000  \n",
              "50%        78.000000  \n",
              "75%       130.000000  \n",
              "max     99973.000000  \n",
              "\n",
              "[8 rows x 79 columns]"
            ],
            "text/html": [
              "\n",
              "  <div id=\"df-a6a0d259-9841-4e34-8e23-eef4633be8d3\">\n",
              "    <div class=\"colab-df-container\">\n",
              "      <div>\n",
              "<style scoped>\n",
              "    .dataframe tbody tr th:only-of-type {\n",
              "        vertical-align: middle;\n",
              "    }\n",
              "\n",
              "    .dataframe tbody tr th {\n",
              "        vertical-align: top;\n",
              "    }\n",
              "\n",
              "    .dataframe thead th {\n",
              "        text-align: right;\n",
              "    }\n",
              "</style>\n",
              "<table border=\"1\" class=\"dataframe\">\n",
              "  <thead>\n",
              "    <tr style=\"text-align: right;\">\n",
              "      <th></th>\n",
              "      <th>Src_Port</th>\n",
              "      <th>Dst_Port</th>\n",
              "      <th>Protocol</th>\n",
              "      <th>Flow_Duration</th>\n",
              "      <th>Tot_Fwd_Pkts</th>\n",
              "      <th>Tot_Bwd_Pkts</th>\n",
              "      <th>TotLen_Fwd_Pkts</th>\n",
              "      <th>TotLen_Bwd_Pkts</th>\n",
              "      <th>Fwd_Pkt_Len_Max</th>\n",
              "      <th>Fwd_Pkt_Len_Min</th>\n",
              "      <th>...</th>\n",
              "      <th>Fwd_Act_Data_Pkts</th>\n",
              "      <th>Fwd_Seg_Size_Min</th>\n",
              "      <th>Active_Mean</th>\n",
              "      <th>Active_Std</th>\n",
              "      <th>Active_Max</th>\n",
              "      <th>Active_Min</th>\n",
              "      <th>Idle_Mean</th>\n",
              "      <th>Idle_Std</th>\n",
              "      <th>Idle_Max</th>\n",
              "      <th>Idle_Min</th>\n",
              "    </tr>\n",
              "  </thead>\n",
              "  <tbody>\n",
              "    <tr>\n",
              "      <th>count</th>\n",
              "      <td>625783.000000</td>\n",
              "      <td>625783.000000</td>\n",
              "      <td>625783.000000</td>\n",
              "      <td>625783.000000</td>\n",
              "      <td>625783.000000</td>\n",
              "      <td>625783.00000</td>\n",
              "      <td>625783.000000</td>\n",
              "      <td>625783.000000</td>\n",
              "      <td>625783.000000</td>\n",
              "      <td>625783.000000</td>\n",
              "      <td>...</td>\n",
              "      <td>625783.000000</td>\n",
              "      <td>625783.0</td>\n",
              "      <td>625783.000000</td>\n",
              "      <td>625783.000000</td>\n",
              "      <td>625783.000000</td>\n",
              "      <td>625783.000000</td>\n",
              "      <td>625783.000000</td>\n",
              "      <td>625783.000000</td>\n",
              "      <td>625783.000000</td>\n",
              "      <td>625783.000000</td>\n",
              "    </tr>\n",
              "    <tr>\n",
              "      <th>mean</th>\n",
              "      <td>35026.156190</td>\n",
              "      <td>16387.027479</td>\n",
              "      <td>9.971436</td>\n",
              "      <td>635.422865</td>\n",
              "      <td>1.675566</td>\n",
              "      <td>1.46853</td>\n",
              "      <td>570.738980</td>\n",
              "      <td>929.280973</td>\n",
              "      <td>392.489726</td>\n",
              "      <td>348.126571</td>\n",
              "      <td>...</td>\n",
              "      <td>1.509913</td>\n",
              "      <td>0.0</td>\n",
              "      <td>3.764405</td>\n",
              "      <td>0.353385</td>\n",
              "      <td>4.248735</td>\n",
              "      <td>3.462159</td>\n",
              "      <td>502.503832</td>\n",
              "      <td>52.403995</td>\n",
              "      <td>561.540512</td>\n",
              "      <td>467.264459</td>\n",
              "    </tr>\n",
              "    <tr>\n",
              "      <th>std</th>\n",
              "      <td>24721.047752</td>\n",
              "      <td>17550.363037</td>\n",
              "      <td>5.379857</td>\n",
              "      <td>3496.740723</td>\n",
              "      <td>4.309970</td>\n",
              "      <td>1.21949</td>\n",
              "      <td>1161.873195</td>\n",
              "      <td>1731.760875</td>\n",
              "      <td>619.575865</td>\n",
              "      <td>588.161845</td>\n",
              "      <td>...</td>\n",
              "      <td>4.332737</td>\n",
              "      <td>0.0</td>\n",
              "      <td>68.064508</td>\n",
              "      <td>20.723370</td>\n",
              "      <td>88.934148</td>\n",
              "      <td>64.111043</td>\n",
              "      <td>2112.957360</td>\n",
              "      <td>1153.184897</td>\n",
              "      <td>2866.497606</td>\n",
              "      <td>1931.909971</td>\n",
              "    </tr>\n",
              "    <tr>\n",
              "      <th>min</th>\n",
              "      <td>0.000000</td>\n",
              "      <td>0.000000</td>\n",
              "      <td>0.000000</td>\n",
              "      <td>0.000000</td>\n",
              "      <td>0.000000</td>\n",
              "      <td>1.00000</td>\n",
              "      <td>0.000000</td>\n",
              "      <td>0.000000</td>\n",
              "      <td>0.000000</td>\n",
              "      <td>0.000000</td>\n",
              "      <td>...</td>\n",
              "      <td>0.000000</td>\n",
              "      <td>0.0</td>\n",
              "      <td>0.000000</td>\n",
              "      <td>0.000000</td>\n",
              "      <td>0.000000</td>\n",
              "      <td>0.000000</td>\n",
              "      <td>0.000000</td>\n",
              "      <td>0.000000</td>\n",
              "      <td>0.000000</td>\n",
              "      <td>0.000000</td>\n",
              "    </tr>\n",
              "    <tr>\n",
              "      <th>25%</th>\n",
              "      <td>9020.000000</td>\n",
              "      <td>8899.000000</td>\n",
              "      <td>6.000000</td>\n",
              "      <td>76.000000</td>\n",
              "      <td>0.000000</td>\n",
              "      <td>1.00000</td>\n",
              "      <td>0.000000</td>\n",
              "      <td>18.000000</td>\n",
              "      <td>0.000000</td>\n",
              "      <td>0.000000</td>\n",
              "      <td>...</td>\n",
              "      <td>0.000000</td>\n",
              "      <td>0.0</td>\n",
              "      <td>0.000000</td>\n",
              "      <td>0.000000</td>\n",
              "      <td>0.000000</td>\n",
              "      <td>0.000000</td>\n",
              "      <td>73.000000</td>\n",
              "      <td>0.000000</td>\n",
              "      <td>74.000000</td>\n",
              "      <td>71.000000</td>\n",
              "    </tr>\n",
              "    <tr>\n",
              "      <th>50%</th>\n",
              "      <td>51991.000000</td>\n",
              "      <td>9020.000000</td>\n",
              "      <td>6.000000</td>\n",
              "      <td>132.000000</td>\n",
              "      <td>1.000000</td>\n",
              "      <td>1.00000</td>\n",
              "      <td>32.000000</td>\n",
              "      <td>104.000000</td>\n",
              "      <td>30.000000</td>\n",
              "      <td>30.000000</td>\n",
              "      <td>...</td>\n",
              "      <td>1.000000</td>\n",
              "      <td>0.0</td>\n",
              "      <td>0.000000</td>\n",
              "      <td>0.000000</td>\n",
              "      <td>0.000000</td>\n",
              "      <td>0.000000</td>\n",
              "      <td>93.500000</td>\n",
              "      <td>0.000000</td>\n",
              "      <td>114.000000</td>\n",
              "      <td>78.000000</td>\n",
              "    </tr>\n",
              "    <tr>\n",
              "      <th>75%</th>\n",
              "      <td>56361.000000</td>\n",
              "      <td>10101.000000</td>\n",
              "      <td>17.000000</td>\n",
              "      <td>221.000000</td>\n",
              "      <td>2.000000</td>\n",
              "      <td>2.00000</td>\n",
              "      <td>1388.000000</td>\n",
              "      <td>1441.000000</td>\n",
              "      <td>1388.000000</td>\n",
              "      <td>386.000000</td>\n",
              "      <td>...</td>\n",
              "      <td>1.000000</td>\n",
              "      <td>0.0</td>\n",
              "      <td>0.000000</td>\n",
              "      <td>0.000000</td>\n",
              "      <td>0.000000</td>\n",
              "      <td>0.000000</td>\n",
              "      <td>141.000000</td>\n",
              "      <td>1.527525</td>\n",
              "      <td>154.000000</td>\n",
              "      <td>130.000000</td>\n",
              "    </tr>\n",
              "    <tr>\n",
              "      <th>max</th>\n",
              "      <td>65500.000000</td>\n",
              "      <td>65371.000000</td>\n",
              "      <td>17.000000</td>\n",
              "      <td>99984.000000</td>\n",
              "      <td>186.000000</td>\n",
              "      <td>560.00000</td>\n",
              "      <td>109846.000000</td>\n",
              "      <td>773284.000000</td>\n",
              "      <td>1464.000000</td>\n",
              "      <td>1464.000000</td>\n",
              "      <td>...</td>\n",
              "      <td>186.000000</td>\n",
              "      <td>0.0</td>\n",
              "      <td>9044.625000</td>\n",
              "      <td>8598.658250</td>\n",
              "      <td>26785.000000</td>\n",
              "      <td>6659.000000</td>\n",
              "      <td>99973.000000</td>\n",
              "      <td>67071.906623</td>\n",
              "      <td>99973.000000</td>\n",
              "      <td>99973.000000</td>\n",
              "    </tr>\n",
              "  </tbody>\n",
              "</table>\n",
              "<p>8 rows × 79 columns</p>\n",
              "</div>\n",
              "      <button class=\"colab-df-convert\" onclick=\"convertToInteractive('df-a6a0d259-9841-4e34-8e23-eef4633be8d3')\"\n",
              "              title=\"Convert this dataframe to an interactive table.\"\n",
              "              style=\"display:none;\">\n",
              "        \n",
              "  <svg xmlns=\"http://www.w3.org/2000/svg\" height=\"24px\"viewBox=\"0 0 24 24\"\n",
              "       width=\"24px\">\n",
              "    <path d=\"M0 0h24v24H0V0z\" fill=\"none\"/>\n",
              "    <path d=\"M18.56 5.44l.94 2.06.94-2.06 2.06-.94-2.06-.94-.94-2.06-.94 2.06-2.06.94zm-11 1L8.5 8.5l.94-2.06 2.06-.94-2.06-.94L8.5 2.5l-.94 2.06-2.06.94zm10 10l.94 2.06.94-2.06 2.06-.94-2.06-.94-.94-2.06-.94 2.06-2.06.94z\"/><path d=\"M17.41 7.96l-1.37-1.37c-.4-.4-.92-.59-1.43-.59-.52 0-1.04.2-1.43.59L10.3 9.45l-7.72 7.72c-.78.78-.78 2.05 0 2.83L4 21.41c.39.39.9.59 1.41.59.51 0 1.02-.2 1.41-.59l7.78-7.78 2.81-2.81c.8-.78.8-2.07 0-2.86zM5.41 20L4 18.59l7.72-7.72 1.47 1.35L5.41 20z\"/>\n",
              "  </svg>\n",
              "      </button>\n",
              "      \n",
              "  <style>\n",
              "    .colab-df-container {\n",
              "      display:flex;\n",
              "      flex-wrap:wrap;\n",
              "      gap: 12px;\n",
              "    }\n",
              "\n",
              "    .colab-df-convert {\n",
              "      background-color: #E8F0FE;\n",
              "      border: none;\n",
              "      border-radius: 50%;\n",
              "      cursor: pointer;\n",
              "      display: none;\n",
              "      fill: #1967D2;\n",
              "      height: 32px;\n",
              "      padding: 0 0 0 0;\n",
              "      width: 32px;\n",
              "    }\n",
              "\n",
              "    .colab-df-convert:hover {\n",
              "      background-color: #E2EBFA;\n",
              "      box-shadow: 0px 1px 2px rgba(60, 64, 67, 0.3), 0px 1px 3px 1px rgba(60, 64, 67, 0.15);\n",
              "      fill: #174EA6;\n",
              "    }\n",
              "\n",
              "    [theme=dark] .colab-df-convert {\n",
              "      background-color: #3B4455;\n",
              "      fill: #D2E3FC;\n",
              "    }\n",
              "\n",
              "    [theme=dark] .colab-df-convert:hover {\n",
              "      background-color: #434B5C;\n",
              "      box-shadow: 0px 1px 3px 1px rgba(0, 0, 0, 0.15);\n",
              "      filter: drop-shadow(0px 1px 2px rgba(0, 0, 0, 0.3));\n",
              "      fill: #FFFFFF;\n",
              "    }\n",
              "  </style>\n",
              "\n",
              "      <script>\n",
              "        const buttonEl =\n",
              "          document.querySelector('#df-a6a0d259-9841-4e34-8e23-eef4633be8d3 button.colab-df-convert');\n",
              "        buttonEl.style.display =\n",
              "          google.colab.kernel.accessAllowed ? 'block' : 'none';\n",
              "\n",
              "        async function convertToInteractive(key) {\n",
              "          const element = document.querySelector('#df-a6a0d259-9841-4e34-8e23-eef4633be8d3');\n",
              "          const dataTable =\n",
              "            await google.colab.kernel.invokeFunction('convertToInteractive',\n",
              "                                                     [key], {});\n",
              "          if (!dataTable) return;\n",
              "\n",
              "          const docLinkHtml = 'Like what you see? Visit the ' +\n",
              "            '<a target=\"_blank\" href=https://colab.research.google.com/notebooks/data_table.ipynb>data table notebook</a>'\n",
              "            + ' to learn more about interactive tables.';\n",
              "          element.innerHTML = '';\n",
              "          dataTable['output_type'] = 'display_data';\n",
              "          await google.colab.output.renderOutput(dataTable, element);\n",
              "          const docLink = document.createElement('div');\n",
              "          docLink.innerHTML = docLinkHtml;\n",
              "          element.appendChild(docLink);\n",
              "        }\n",
              "      </script>\n",
              "    </div>\n",
              "  </div>\n",
              "  "
            ]
          },
          "metadata": {},
          "execution_count": 4
        }
      ],
      "source": [
        "dataframe.describe()"
      ]
    },
    {
      "cell_type": "markdown",
      "metadata": {
        "id": "r9jQA2YVa1jI"
      },
      "source": [
        "\n",
        "Defining input and target columns for Part A:\n",
        "\n"
      ]
    },
    {
      "cell_type": "code",
      "execution_count": null,
      "metadata": {
        "colab": {
          "base_uri": "https://localhost:8080/"
        },
        "id": "zre7fsmLa4Qc",
        "outputId": "7b57b940-f3c6-4eb5-8b79-62030d853476"
      },
      "outputs": [
        {
          "output_type": "stream",
          "name": "stdout",
          "text": [
            "                                     Flow_ID           Src_IP  Src_Port  \\\n",
            "0   192.168.0.13-192.168.0.16-10000-10101-17     192.168.0.13     10000   \n",
            "1    192.168.0.13-222.160.179.132-554-2179-6  222.160.179.132      2179   \n",
            "2     192.168.0.13-192.168.0.16-9020-52727-6     192.168.0.16     52727   \n",
            "3     192.168.0.13-192.168.0.16-9020-52964-6     192.168.0.16     52964   \n",
            "4  192.168.0.1-239.255.255.250-36763-1900-17      192.168.0.1     36763   \n",
            "\n",
            "            Dst_IP  Dst_Port  Protocol               Timestamp  Flow_Duration  \\\n",
            "0     192.168.0.16     10101        17  25/07/2019 03:25:53 AM             75   \n",
            "1     192.168.0.13       554         6  26/05/2019 10:11:06 PM           5310   \n",
            "2     192.168.0.13      9020         6  11/07/2019 01:24:48 AM            141   \n",
            "3     192.168.0.13      9020         6  04/09/2019 03:58:17 AM            151   \n",
            "4  239.255.255.250      1900        17  10/09/2019 01:41:18 AM            153   \n",
            "\n",
            "   Tot_Fwd_Pkts  Tot_Bwd_Pkts  ...  Active_Mean  Active_Std  Active_Max  \\\n",
            "0             1             1  ...          0.0         0.0         0.0   \n",
            "1             1             2  ...          0.0         0.0         0.0   \n",
            "2             0             3  ...          0.0         0.0         0.0   \n",
            "3             0             2  ...          0.0         0.0         0.0   \n",
            "4             2             1  ...          0.0         0.0         0.0   \n",
            "\n",
            "   Active_Min  Idle_Mean     Idle_Std  Idle_Max  Idle_Min    Cat  \\\n",
            "0         0.0       75.0     0.000000      75.0      75.0  Mirai   \n",
            "1         0.0     2655.0  2261.327486    4254.0    1056.0    DoS   \n",
            "2         0.0       70.5     0.707107      71.0      70.0   Scan   \n",
            "3         0.0      151.0     0.000000     151.0     151.0  Mirai   \n",
            "4         0.0       76.5     0.707107      77.0      76.0  Mirai   \n",
            "\n",
            "                 Sub_Cat  \n",
            "0      Mirai-Ackflooding  \n",
            "1        DoS-Synflooding  \n",
            "2           Scan Port OS  \n",
            "3  Mirai-Hostbruteforceg  \n",
            "4  Mirai-Hostbruteforceg  \n",
            "\n",
            "[5 rows x 85 columns]\n",
            "0    Anomaly\n",
            "1    Anomaly\n",
            "2    Anomaly\n",
            "3    Anomaly\n",
            "4    Anomaly\n",
            "Name: Label, dtype: object\n"
          ]
        }
      ],
      "source": [
        "\n",
        "inputA = dataframe.drop('Label', axis = 'columns')\n",
        "print(inputA.head())\n",
        "target_ColA = dataframe['Label']\n",
        "print(target_ColA.head())"
      ]
    },
    {
      "cell_type": "markdown",
      "metadata": {
        "id": "l-XlHJUhYFBD"
      },
      "source": [
        "Defining input and target columns for PartB:\n"
      ]
    },
    {
      "cell_type": "code",
      "execution_count": null,
      "metadata": {
        "colab": {
          "base_uri": "https://localhost:8080/"
        },
        "id": "1YaRTNGWvWdM",
        "outputId": "5bc864d8-e130-459b-be56-f6c8762521bb"
      },
      "outputs": [
        {
          "output_type": "stream",
          "name": "stdout",
          "text": [
            "                                     Flow_ID           Src_IP  Src_Port  \\\n",
            "0   192.168.0.13-192.168.0.16-10000-10101-17     192.168.0.13     10000   \n",
            "1    192.168.0.13-222.160.179.132-554-2179-6  222.160.179.132      2179   \n",
            "2     192.168.0.13-192.168.0.16-9020-52727-6     192.168.0.16     52727   \n",
            "3     192.168.0.13-192.168.0.16-9020-52964-6     192.168.0.16     52964   \n",
            "4  192.168.0.1-239.255.255.250-36763-1900-17      192.168.0.1     36763   \n",
            "\n",
            "            Dst_IP  Dst_Port  Protocol               Timestamp  Flow_Duration  \\\n",
            "0     192.168.0.16     10101        17  25/07/2019 03:25:53 AM             75   \n",
            "1     192.168.0.13       554         6  26/05/2019 10:11:06 PM           5310   \n",
            "2     192.168.0.13      9020         6  11/07/2019 01:24:48 AM            141   \n",
            "3     192.168.0.13      9020         6  04/09/2019 03:58:17 AM            151   \n",
            "4  239.255.255.250      1900        17  10/09/2019 01:41:18 AM            153   \n",
            "\n",
            "   Tot_Fwd_Pkts  Tot_Bwd_Pkts  ...  Active_Mean  Active_Std  Active_Max  \\\n",
            "0             1             1  ...          0.0         0.0         0.0   \n",
            "1             1             2  ...          0.0         0.0         0.0   \n",
            "2             0             3  ...          0.0         0.0         0.0   \n",
            "3             0             2  ...          0.0         0.0         0.0   \n",
            "4             2             1  ...          0.0         0.0         0.0   \n",
            "\n",
            "   Active_Min  Idle_Mean     Idle_Std  Idle_Max  Idle_Min    Label    Cat  \n",
            "0         0.0       75.0     0.000000      75.0      75.0  Anomaly  Mirai  \n",
            "1         0.0     2655.0  2261.327486    4254.0    1056.0  Anomaly    DoS  \n",
            "2         0.0       70.5     0.707107      71.0      70.0  Anomaly   Scan  \n",
            "3         0.0      151.0     0.000000     151.0     151.0  Anomaly  Mirai  \n",
            "4         0.0       76.5     0.707107      77.0      76.0  Anomaly  Mirai  \n",
            "\n",
            "[5 rows x 85 columns]\n",
            "0        Mirai-Ackflooding\n",
            "1          DoS-Synflooding\n",
            "2             Scan Port OS\n",
            "3    Mirai-Hostbruteforceg\n",
            "4    Mirai-Hostbruteforceg\n",
            "Name: Sub_Cat, dtype: object\n"
          ]
        }
      ],
      "source": [
        "inputB = dataframe.drop('Sub_Cat', axis = 'columns')\n",
        "print(inputB.head())\n",
        "target_ColB = dataframe['Sub_Cat']\n",
        "print(target_ColB.head())"
      ]
    },
    {
      "cell_type": "markdown",
      "metadata": {
        "id": "z3flcUmKwJ_Q"
      },
      "source": [
        "DataPreporcessing Part A:"
      ]
    },
    {
      "cell_type": "code",
      "execution_count": null,
      "metadata": {
        "colab": {
          "base_uri": "https://localhost:8080/"
        },
        "id": "UgAQLxbZwNKA",
        "outputId": "36873d95-0949-455a-e1eb-f454813116a0"
      },
      "outputs": [
        {
          "output_type": "stream",
          "name": "stdout",
          "text": [
            "   Flow_ID  Src_IP  Src_Port  Dst_IP  Dst_Port  Protocol  Timestamp  \\\n",
            "0    12446   25883      8006     203        76         2       3496   \n",
            "1    22760   34617      1186     200        10         1       3664   \n",
            "2    12691   25886      9854     200        70         1       2082   \n",
            "3    12704   25886      9916     200        70         1        791   \n",
            "4      611   25881      8443     317        13         2       1040   \n",
            "\n",
            "   Flow_Duration  Tot_Fwd_Pkts  Tot_Bwd_Pkts  ...  Active_Mean  Active_Std  \\\n",
            "0             75             1             0  ...            0           0   \n",
            "1           5297             1             1  ...            0           0   \n",
            "2            141             0             2  ...            0           0   \n",
            "3            151             0             1  ...            0           0   \n",
            "4            153             2             0  ...            0           0   \n",
            "\n",
            "   Active_Max  Active_Min  Idle_Mean  Idle_Std  Idle_Max  Idle_Min  Cat  \\\n",
            "0           0           0       4557         0        74        74    2   \n",
            "1           0           0       7806     22631      3803       605    0   \n",
            "2           0           0       4462       252        70        69    4   \n",
            "3           0           0       5217         0       150       150    2   \n",
            "4           0           0       4585       252        76        75    2   \n",
            "\n",
            "   Sub_Cat  \n",
            "0        2  \n",
            "1        0  \n",
            "2        8  \n",
            "3        4  \n",
            "4        4  \n",
            "\n",
            "[5 rows x 85 columns]\n"
          ]
        }
      ],
      "source": [
        "from sklearn.preprocessing import LabelEncoder\n",
        "label_inputA = LabelEncoder()\n",
        "inputA = inputA.apply(label_inputA.fit_transform)\n",
        "print(inputA.head())"
      ]
    },
    {
      "cell_type": "markdown",
      "metadata": {
        "id": "b2F87_jLYNv2"
      },
      "source": [
        "DataPreporcessing PartB:"
      ]
    },
    {
      "cell_type": "code",
      "execution_count": null,
      "metadata": {
        "colab": {
          "base_uri": "https://localhost:8080/"
        },
        "id": "7yA9M34NyHhG",
        "outputId": "45b3ddd6-810c-4fec-cf63-0065c548f1b0"
      },
      "outputs": [
        {
          "output_type": "stream",
          "name": "stdout",
          "text": [
            "   Flow_ID  Src_IP  Src_Port  Dst_IP  Dst_Port  Protocol  Timestamp  \\\n",
            "0    12446   25883      8006     203        76         2       3496   \n",
            "1    22760   34617      1186     200        10         1       3664   \n",
            "2    12691   25886      9854     200        70         1       2082   \n",
            "3    12704   25886      9916     200        70         1        791   \n",
            "4      611   25881      8443     317        13         2       1040   \n",
            "\n",
            "   Flow_Duration  Tot_Fwd_Pkts  Tot_Bwd_Pkts  ...  Active_Mean  Active_Std  \\\n",
            "0             75             1             0  ...            0           0   \n",
            "1           5297             1             1  ...            0           0   \n",
            "2            141             0             2  ...            0           0   \n",
            "3            151             0             1  ...            0           0   \n",
            "4            153             2             0  ...            0           0   \n",
            "\n",
            "   Active_Max  Active_Min  Idle_Mean  Idle_Std  Idle_Max  Idle_Min  Label  Cat  \n",
            "0           0           0       4557         0        74        74      0    2  \n",
            "1           0           0       7806     22631      3803       605      0    0  \n",
            "2           0           0       4462       252        70        69      0    4  \n",
            "3           0           0       5217         0       150       150      0    2  \n",
            "4           0           0       4585       252        76        75      0    2  \n",
            "\n",
            "[5 rows x 85 columns]\n"
          ]
        }
      ],
      "source": [
        "label_inputPartB = LabelEncoder()\n",
        "inputB = inputB.apply(label_inputPartB.fit_transform)\n",
        "print(inputB.head())"
      ]
    },
    {
      "cell_type": "markdown",
      "metadata": {
        "id": "1KFRHhOPyWBH"
      },
      "source": [
        "Splitting the dataset into test and train columns Part A:"
      ]
    },
    {
      "cell_type": "code",
      "execution_count": null,
      "metadata": {
        "id": "joWaEDUWyhB6"
      },
      "outputs": [],
      "source": [
        "from sklearn.model_selection import train_test_split\n",
        "\n",
        "X_trainA, X_testA, y_trainA, y_testA = train_test_split(inputA, target_ColA, test_size=0.2)"
      ]
    },
    {
      "cell_type": "markdown",
      "metadata": {
        "id": "bc9W0O6byw01"
      },
      "source": [
        "Aplying Decision Tree Classification Part A:"
      ]
    },
    {
      "cell_type": "code",
      "execution_count": null,
      "metadata": {
        "colab": {
          "base_uri": "https://localhost:8080/"
        },
        "id": "UxkrVtZRy8KR",
        "outputId": "b7781d9d-a942-4ab9-c479-11597c897904"
      },
      "outputs": [
        {
          "output_type": "execute_result",
          "data": {
            "text/plain": [
              "DecisionTreeClassifier()"
            ]
          },
          "metadata": {},
          "execution_count": 10
        }
      ],
      "source": [
        "from sklearn.tree import DecisionTreeClassifier\n",
        "modelPartA = DecisionTreeClassifier()\n",
        "modelPartA.fit(X_trainA, y_trainA)"
      ]
    },
    {
      "cell_type": "markdown",
      "metadata": {
        "id": "6UkVZrgqzEFU"
      },
      "source": [
        "Accuracy of the model Part A:"
      ]
    },
    {
      "cell_type": "code",
      "execution_count": null,
      "metadata": {
        "colab": {
          "base_uri": "https://localhost:8080/"
        },
        "id": "egl4BsBtzNf4",
        "outputId": "2c6e8f3c-157f-470a-ca81-c8116e201644"
      },
      "outputs": [
        {
          "output_type": "stream",
          "name": "stdout",
          "text": [
            "Accuracy of Part A model =  100.0 %\n"
          ]
        }
      ],
      "source": [
        "\n",
        "from sklearn.metrics import accuracy_score\n",
        "accuracyPartA = modelPartA.score(X_testA, y_testA)*100\n",
        "print(\"Accuracy of Part A model = \", accuracyPartA, \"%\")"
      ]
    },
    {
      "cell_type": "markdown",
      "metadata": {
        "id": "TfQMlFKVzd5w"
      },
      "source": [
        "spliting test and train data PartB:"
      ]
    },
    {
      "cell_type": "code",
      "execution_count": null,
      "metadata": {
        "id": "boBq-uIcznW2"
      },
      "outputs": [],
      "source": [
        "X_trainB, X_testB, y_trainB, y_testB = train_test_split(inputB, target_ColB, test_size=0.3)"
      ]
    },
    {
      "cell_type": "markdown",
      "metadata": {
        "id": "J3XAqpSV0OWg"
      },
      "source": [
        "Aplying Decision tree classification Part B:"
      ]
    },
    {
      "cell_type": "code",
      "execution_count": null,
      "metadata": {
        "colab": {
          "base_uri": "https://localhost:8080/"
        },
        "id": "fI7QOki00WY5",
        "outputId": "1213ed5b-d583-4078-f81a-c2d0b45b9d81"
      },
      "outputs": [
        {
          "output_type": "execute_result",
          "data": {
            "text/plain": [
              "DecisionTreeClassifier()"
            ]
          },
          "metadata": {},
          "execution_count": 13
        }
      ],
      "source": [
        "modelPartB = DecisionTreeClassifier()\n",
        "modelPartB.fit(X_trainB, y_trainB)"
      ]
    },
    {
      "cell_type": "markdown",
      "metadata": {
        "id": "Ik0K7K5q0bGJ"
      },
      "source": [
        "Accuracy of model PartB:"
      ]
    },
    {
      "cell_type": "code",
      "execution_count": null,
      "metadata": {
        "colab": {
          "base_uri": "https://localhost:8080/"
        },
        "id": "NRCiqGmY0evD",
        "outputId": "e1af8f54-a12a-4115-b8af-ac80cc869483"
      },
      "outputs": [
        {
          "output_type": "stream",
          "name": "stdout",
          "text": [
            "Accuracy of Part B model =  77.90555836684689 %\n"
          ]
        }
      ],
      "source": [
        "accuracyPartB = modelPartB.score(X_testB, y_testB)*100\n",
        "print(\"Accuracy of Part B model = \", accuracyPartB, \"%\")"
      ]
    },
    {
      "cell_type": "markdown",
      "metadata": {
        "id": "7zhYkIv_3Uhc"
      },
      "source": [
        "Applying Naive bayes classification Part A:"
      ]
    },
    {
      "cell_type": "code",
      "execution_count": null,
      "metadata": {
        "id": "FWER6W1b3aCJ"
      },
      "outputs": [],
      "source": [
        "from sklearn.naive_bayes import GaussianNB\n",
        "modelA_NB = GaussianNB()\n",
        "modelA_NB.fit(X_trainA, y_trainA);"
      ]
    },
    {
      "cell_type": "markdown",
      "metadata": {
        "id": "CGbJ9pY_6Cyi"
      },
      "source": [
        "Accuray of Naive baye Part A:"
      ]
    },
    {
      "cell_type": "code",
      "execution_count": null,
      "metadata": {
        "colab": {
          "base_uri": "https://localhost:8080/"
        },
        "id": "6NsYdiGd6HFR",
        "outputId": "b72060f0-b072-4b02-d384-d7214703236a"
      },
      "outputs": [
        {
          "output_type": "stream",
          "name": "stdout",
          "text": [
            "Accuracy of Part A model =  80.36146599870563 %\n"
          ]
        }
      ],
      "source": [
        "accuracyPartA_NB = modelA_NB.score(X_testA, y_testA)*100\n",
        "print(\"Accuracy of Part A model = \", accuracyPartA_NB, \"%\")"
      ]
    },
    {
      "cell_type": "markdown",
      "metadata": {
        "id": "Hn2JNCSZ6Xdb"
      },
      "source": [
        "Applying naive_bayes classification on Part B:"
      ]
    },
    {
      "cell_type": "code",
      "execution_count": null,
      "metadata": {
        "id": "D4-eSWzD6dr-"
      },
      "outputs": [],
      "source": [
        "modelB_NB = GaussianNB()\n",
        "modelB_NB.fit(X_trainB, y_trainB);"
      ]
    },
    {
      "cell_type": "markdown",
      "metadata": {
        "id": "5UgXMj4G6h3g"
      },
      "source": [
        "Accuracy of Naive Bayes model Part B:"
      ]
    },
    {
      "cell_type": "code",
      "execution_count": null,
      "metadata": {
        "colab": {
          "base_uri": "https://localhost:8080/"
        },
        "id": "TefVP50q6nLz",
        "outputId": "21858e14-0e2e-4f4d-ce5f-868ab8bdb72f"
      },
      "outputs": [
        {
          "output_type": "stream",
          "name": "stdout",
          "text": [
            "Accuracy of Part B model =  59.69052121341253 %\n"
          ]
        }
      ],
      "source": [
        "accuracyPartB_NB = modelB_NB.score(X_testB, y_testB)*100\n",
        "print(\"Accuracy of Part B model = \", accuracyPartB_NB, \"%\")"
      ]
    },
    {
      "cell_type": "markdown",
      "metadata": {
        "id": "DL0tUtHxtvKo"
      },
      "source": [
        "Single class classification:\n",
        "Part A:"
      ]
    },
    {
      "cell_type": "markdown",
      "metadata": {
        "id": "24f1jnrlSyD1"
      },
      "source": [
        "1-Accuracy"
      ]
    },
    {
      "cell_type": "code",
      "execution_count": null,
      "metadata": {
        "colab": {
          "base_uri": "https://localhost:8080/"
        },
        "id": "NCPAiEDoS042",
        "outputId": "4be0484a-16c8-47f7-da55-635619c6f05f"
      },
      "outputs": [
        {
          "output_type": "stream",
          "name": "stdout",
          "text": [
            "Accuracy of Part A model after aplying decision tree:    100.0 %\n",
            "Accuracy of Part B model after aplying decision tree:    77.90555836684689 %\n",
            "Accuracy of Part A model after aplying Naive bayes :    80.36146599870563 %\n",
            "Accuracy of Part B model after aplying Naive bayes :    59.69052121341253 %\n"
          ]
        }
      ],
      "source": [
        "Y_predA=modelPartA.predict(X_testA)\n",
        "print(\"Accuracy of Part A model after aplying decision tree:   \",metrics.accuracy_score(y_testA, Y_predA)*100 ,\"%\")\n",
        "Y_predB=modelPartB.predict(X_testB)\n",
        "print(\"Accuracy of Part B model after aplying decision tree:   \",metrics.accuracy_score(y_testB, Y_predB)*100 ,\"%\")\n",
        "y_predA_nb=modelA_NB.predict(X_testA)\n",
        "print(\"Accuracy of Part A model after aplying Naive bayes :   \",metrics.accuracy_score(y_testA, y_predA_nb)*100 ,\"%\")\n",
        "y_predB_nb=modelB_NB.predict(X_testB)\n",
        "print(\"Accuracy of Part B model after aplying Naive bayes :   \",metrics.accuracy_score(y_testB, y_predB_nb)*100 ,\"%\")\n"
      ]
    },
    {
      "cell_type": "markdown",
      "metadata": {
        "id": "uUCWrtyeZdFW"
      },
      "source": [
        "2-Precision"
      ]
    },
    {
      "cell_type": "code",
      "execution_count": null,
      "metadata": {
        "colab": {
          "base_uri": "https://localhost:8080/"
        },
        "id": "jPzKDf6gZjdB",
        "outputId": "575b34d4-d493-4309-db90-c6bca0cb621b"
      },
      "outputs": [
        {
          "output_type": "stream",
          "name": "stdout",
          "text": [
            "Precision for part A model after applying decision tree: 1.0\n",
            "Precision for part B model after applying decision tree: 0.7790555836684688\n",
            "Precision for Part A model after aplying Naive bayes:    0.8036146599870563\n",
            "Precision for Part B model after aplying Naive bayes:    0.5969052121341253\n"
          ]
        }
      ],
      "source": [
        "prec_A = metrics.precision_score(y_testA, Y_predA,average='micro')\n",
        "print(\"Precision for part A model after applying decision tree:\",prec_A)\n",
        "prec_B = metrics.precision_score(y_testB, Y_predB,average='micro')\n",
        "print(\"Precision for part B model after applying decision tree:\",prec_B)\n",
        "prec_PartA_nb=metrics.precision_score(y_testA, y_predA_nb,average='micro')\n",
        "print(\"Precision for Part A model after aplying Naive bayes:   \" ,prec_PartA_nb)\n",
        "prec_PartB_nb=metrics.precision_score(y_testB, y_predB_nb,average='micro')\n",
        "print(\"Precision for Part B model after aplying Naive bayes:   \" ,prec_PartB_nb)"
      ]
    },
    {
      "cell_type": "markdown",
      "metadata": {
        "id": "aGZEblVmfSmA"
      },
      "source": [
        "3-Recall"
      ]
    },
    {
      "cell_type": "code",
      "execution_count": null,
      "metadata": {
        "colab": {
          "base_uri": "https://localhost:8080/"
        },
        "id": "qCG4LkDjfUQI",
        "outputId": "97101f72-200f-4936-fe59-c550e703298d"
      },
      "outputs": [
        {
          "output_type": "stream",
          "name": "stdout",
          "text": [
            "Recall score for model Part A after applying decison tree: 1.0\n",
            "Recall score  model Part B after applying decison tree: 0.7790555836684688\n",
            " Recall score Part A model after aplying Naive bayes:    0.8036146599870563\n",
            " Recall score for Part B model after aplying Naive bayes:    0.5969052121341253\n"
          ]
        }
      ],
      "source": [
        "recall_partA = metrics.recall_score(y_testA, Y_predA,average='micro')\n",
        "print(\"Recall score for model Part A after applying decison tree:\",recall_partA)\n",
        "recall_partB = metrics.recall_score(y_testB, Y_predB,average='micro')\n",
        "print(\"Recall score  model Part B after applying decison tree:\",recall_partB)\n",
        "recall_PartA_nb=metrics.recall_score(y_testA, y_predA_nb,average='micro')\n",
        "print(\" Recall score Part A model after aplying Naive bayes:   \" ,recall_PartA_nb)\n",
        "recall_PartB_nb=metrics.recall_score(y_testB, y_predB_nb,average='micro')\n",
        "print(\" Recall score for Part B model after aplying Naive bayes:   \" ,recall_PartB_nb)"
      ]
    },
    {
      "cell_type": "markdown",
      "metadata": {
        "id": "AiV1D2MDfnZ6"
      },
      "source": [
        "F1 Score(F Measure)\n",
        "The F measure can be claculated using the formula F-Measure = (2 * Precision * Recall) / (Precision + Recall)"
      ]
    },
    {
      "cell_type": "code",
      "execution_count": null,
      "metadata": {
        "colab": {
          "base_uri": "https://localhost:8080/"
        },
        "id": "arbkUcaMfxuO",
        "outputId": "c0539e2c-bd39-4165-a992-7a26f7e51a74"
      },
      "outputs": [
        {
          "output_type": "stream",
          "name": "stdout",
          "text": [
            "The F measure for model part A after applying decision tree:   1.0\n",
            "The F measure for model part B after applying decision tree:   0.7790555836684688\n",
            "The F measure for model part A after applying Naive bayes:   0.8036146599870562\n",
            "The F measure for model part B after applying Naive bayes:   0.5969052121341253\n"
          ]
        }
      ],
      "source": [
        "Fmeasure_PartA=(2*prec_A*recall_partA)/(prec_A+recall_partA)\n",
        "print(\"The F measure for model part A after applying decision tree:  \",Fmeasure_PartA)\n",
        "Fmeasure_PartB=(2*prec_B*recall_partB)/(prec_B+recall_partB)\n",
        "print(\"The F measure for model part B after applying decision tree:  \",Fmeasure_PartB)\n",
        "Fmeasure_PartA_nb=(2*prec_PartA_nb*recall_PartA_nb)/(prec_PartA_nb+recall_PartA_nb)\n",
        "print(\"The F measure for model part A after applying Naive bayes:  \",Fmeasure_PartA_nb)\n",
        "Fmeasure_PartB_nb=(2*prec_PartB_nb*recall_PartB_nb)/(prec_PartB_nb+recall_PartB_nb)\n",
        "print(\"The F measure for model part B after applying Naive bayes:  \",Fmeasure_PartB_nb)"
      ]
    },
    {
      "cell_type": "markdown",
      "metadata": {
        "id": "eBfgH6uurYMo"
      },
      "source": [
        "Part A model:"
      ]
    },
    {
      "cell_type": "markdown",
      "metadata": {
        "id": "bLYueJ1FhL3e"
      },
      "source": [
        "Confusion Matrix\n"
      ]
    },
    {
      "cell_type": "markdown",
      "metadata": {
        "id": "3MXDaagupRzK"
      },
      "source": [
        "Confusion Matrix for descison tree"
      ]
    },
    {
      "cell_type": "code",
      "execution_count": null,
      "metadata": {
        "colab": {
          "base_uri": "https://localhost:8080/",
          "height": 268
        },
        "id": "LfXw6OAShOvW",
        "outputId": "bd2ed948-6cac-4c2a-a805-4cbbca2ab00a"
      },
      "outputs": [
        {
          "output_type": "display_data",
          "data": {
            "text/plain": [
              "<Figure size 432x288 with 2 Axes>"
            ],
            "image/png": "[encoded data removed]"
          },
          "metadata": {}
        }
      ],
      "source": [
        "import seaborn as sn\n",
        "df_cm = pd.DataFrame(metrics.confusion_matrix(y_testA, Y_predA), range(2), range(2))\n",
        "sn.set(font_scale=1)\n",
        "sn.heatmap(df_cm, annot=True, annot_kws={\"size\": 10}) # font size\n",
        "plt.show()"
      ]
    },
    {
      "cell_type": "markdown",
      "metadata": {
        "id": "-0Utl_6xpb17"
      },
      "source": [
        "Confusion Matrix for  Naive bayes classification"
      ]
    },
    {
      "cell_type": "code",
      "execution_count": null,
      "metadata": {
        "colab": {
          "base_uri": "https://localhost:8080/",
          "height": 268
        },
        "id": "nfpIoGqDp7cZ",
        "outputId": "a4e7dad3-64e4-464c-8bef-ea3b52f9b2bf"
      },
      "outputs": [
        {
          "output_type": "display_data",
          "data": {
            "text/plain": [
              "<Figure size 432x288 with 2 Axes>"
            ],
            "image/png": "[encoded data removed]"
          },
          "metadata": {}
        }
      ],
      "source": [
        "import seaborn as sn\n",
        "df_cm = pd.DataFrame(metrics.confusion_matrix(y_testA, y_predA_nb), range(2), range(2))\n",
        "sn.set(font_scale=1)\n",
        "sn.heatmap(df_cm, annot=True, annot_kws={\"size\": 10}) # font size\n",
        "plt.show()"
      ]
    },
    {
      "cell_type": "markdown",
      "metadata": {
        "id": "Gyn_9Mw5qA0m"
      },
      "source": [
        "True Positive Rate (Sensitivity)\n",
        "\n",
        "True Positive rate can be calculated as Rate = TP/TP+FN Where TP = Total true positives FN = Total False Negatives\n",
        "\n",
        "---\n",
        "\n"
      ]
    },
    {
      "cell_type": "markdown",
      "metadata": {
        "id": "6pTVaMHuqJPU"
      },
      "source": [
        "For Decision Tree:"
      ]
    },
    {
      "cell_type": "code",
      "execution_count": null,
      "metadata": {
        "colab": {
          "base_uri": "https://localhost:8080/"
        },
        "id": "zJU8ySMdqVUu",
        "outputId": "0096f2ac-f64b-4130-81df-677699648e77"
      },
      "outputs": [
        {
          "output_type": "stream",
          "name": "stdout",
          "text": [
            "True Positive rate for Decision trees is:  1.0\n"
          ]
        }
      ],
      "source": [
        "tn_dt,fp_dt,fn_dt,tp_dt = metrics.confusion_matrix(y_testA, Y_predA).ravel()\n",
        "print(\"True Positive rate for Decision trees is: \", tp_dt/(tp_dt+fn_dt))"
      ]
    },
    {
      "cell_type": "markdown",
      "metadata": {
        "id": "K3Q9OV6LqMzA"
      },
      "source": [
        "For Naive bayes:"
      ]
    },
    {
      "cell_type": "code",
      "execution_count": null,
      "metadata": {
        "colab": {
          "base_uri": "https://localhost:8080/"
        },
        "id": "X87Ekz-gq0xr",
        "outputId": "22d6ff1e-c8a7-4e7b-9d97-918aee24c97b"
      },
      "outputs": [
        {
          "output_type": "stream",
          "name": "stdout",
          "text": [
            "True Positive rate for naive bayes is:  0.9908635794743429\n"
          ]
        }
      ],
      "source": [
        "tn_nb,fp_nb,fn_nb,tp_nb = metrics.confusion_matrix(y_testA, y_predA_nb).ravel()\n",
        "print(\"True Positive rate for naive bayes is: \", tp_nb/(tp_nb+fn_nb))"
      ]
    },
    {
      "cell_type": "markdown",
      "metadata": {
        "id": "S835NTebq8jX"
      },
      "source": [
        "False Positive Rate (Specificity)\n",
        "\n",
        "\n",
        "---\n",
        "\n",
        "\n",
        "\n",
        "\n",
        "\n",
        "\n",
        "\n",
        "False Positive rate can be calculated as False Positive Rate = FP/FP+TN Where FP = Total False positives TN = Total True Negatives"
      ]
    },
    {
      "cell_type": "markdown",
      "metadata": {
        "id": "g-B6VNr2q9Sx"
      },
      "source": [
        "For Decision tree:"
      ]
    },
    {
      "cell_type": "code",
      "execution_count": null,
      "metadata": {
        "colab": {
          "base_uri": "https://localhost:8080/"
        },
        "id": "6hp_esO0rE5z",
        "outputId": "bd9574b8-9105-4f36-d648-efe2e727aaec"
      },
      "outputs": [
        {
          "output_type": "stream",
          "name": "stdout",
          "text": [
            "False Positive rate for Decision trees is:  0.0\n"
          ]
        }
      ],
      "source": [
        "tn_dt,fp_dt,fn_dt,tp_dt = metrics.confusion_matrix(y_testA, Y_predA).ravel()\n",
        "print(\"False Positive rate for Decision trees is: \", fp_dt/(fp_dt+tn_dt))"
      ]
    },
    {
      "cell_type": "markdown",
      "metadata": {
        "id": "YC78YmfMrA1j"
      },
      "source": [
        "For Naive bayes:"
      ]
    },
    {
      "cell_type": "code",
      "execution_count": null,
      "metadata": {
        "colab": {
          "base_uri": "https://localhost:8080/"
        },
        "id": "ikQ9FTaVrPsX",
        "outputId": "4cb2edd8-ccbb-4d9f-ec26-5ae5cf8c1cb2"
      },
      "outputs": [
        {
          "output_type": "stream",
          "name": "stdout",
          "text": [
            "False Positive rate for naive bayes is:  0.20915445475261807\n"
          ]
        }
      ],
      "source": [
        "tn_nb,fp_nb,fn_nb,tp_nb = metrics.confusion_matrix(y_testA, y_predA_nb).ravel()\n",
        "print(\"False Positive rate for naive bayes is: \", fp_nb/(fp_nb+tn_nb))"
      ]
    },
    {
      "cell_type": "markdown",
      "metadata": {
        "id": "MNqeXwAUrltN"
      },
      "source": [
        "Classification Report:"
      ]
    },
    {
      "cell_type": "markdown",
      "metadata": {
        "id": "SdHzehqGrqqq"
      },
      "source": [
        "For Decision Tree:"
      ]
    },
    {
      "cell_type": "code",
      "execution_count": null,
      "metadata": {
        "colab": {
          "base_uri": "https://localhost:8080/"
        },
        "id": "DOomYWqvrvwg",
        "outputId": "6ec8ff99-3e0e-463b-8833-eee8cd109df7"
      },
      "outputs": [
        {
          "output_type": "stream",
          "name": "stdout",
          "text": [
            "              precision    recall  f1-score   support\n",
            "\n",
            "      Normal       1.00      1.00      1.00      7990\n",
            "     Anomaly       1.00      1.00      1.00    117167\n",
            "\n",
            "    accuracy                           1.00    125157\n",
            "   macro avg       1.00      1.00      1.00    125157\n",
            "weighted avg       1.00      1.00      1.00    125157\n",
            "\n"
          ]
        }
      ],
      "source": [
        "print(metrics.classification_report(y_testA, Y_predA, labels=['Normal','Anomaly']))"
      ]
    },
    {
      "cell_type": "markdown",
      "metadata": {
        "id": "ImBfYRbortoq"
      },
      "source": [
        "For Naive Bayes:"
      ]
    },
    {
      "cell_type": "code",
      "execution_count": null,
      "metadata": {
        "colab": {
          "base_uri": "https://localhost:8080/"
        },
        "id": "FRCbcVwpr6uM",
        "outputId": "1a3a73f5-720d-4821-ab16-74fbbc84d948"
      },
      "outputs": [
        {
          "output_type": "stream",
          "name": "stdout",
          "text": [
            "              precision    recall  f1-score   support\n",
            "\n",
            "      Normal       0.24      0.99      0.39      7990\n",
            "     Anomaly       1.00      0.79      0.88    117167\n",
            "\n",
            "    accuracy                           0.80    125157\n",
            "   macro avg       0.62      0.89      0.64    125157\n",
            "weighted avg       0.95      0.80      0.85    125157\n",
            "\n"
          ]
        }
      ],
      "source": [
        "print(metrics.classification_report(y_testA, y_predA_nb, labels=['Normal','Anomaly']))"
      ]
    },
    {
      "cell_type": "markdown",
      "metadata": {
        "id": "yp-Dp2hFt5_S"
      },
      "source": [
        "Multi class classification:\n",
        "\n",
        "---\n",
        "Part B:\n",
        "\n"
      ]
    },
    {
      "cell_type": "markdown",
      "metadata": {
        "id": "Zr9OfRvNuD1F"
      },
      "source": [
        "Confusion matrix:\n",
        "\n",
        "---\n",
        "\n"
      ]
    },
    {
      "cell_type": "markdown",
      "metadata": {
        "id": "ARoMAhYZuGGn"
      },
      "source": [
        "For Decision Tree:"
      ]
    },
    {
      "cell_type": "code",
      "execution_count": null,
      "metadata": {
        "colab": {
          "base_uri": "https://localhost:8080/",
          "height": 273
        },
        "id": "592eNuQNuNRc",
        "outputId": "531a76ad-0513-4c52-c855-47f754d10822"
      },
      "outputs": [
        {
          "output_type": "display_data",
          "data": {
            "text/plain": [
              "<Figure size 432x288 with 2 Axes>"
            ],
            "image/png": "[encoded data removed]"
          },
          "metadata": {}
        }
      ],
      "source": [
        "import seaborn as sn\n",
        "df_cm = pd.DataFrame(metrics.confusion_matrix(y_testB, Y_predB), range(9), range(9))\n",
        "sn.set(font_scale=1.4)\n",
        "sn.heatmap(df_cm, annot=True, annot_kws={\"size\": 7}) # font size\n",
        "plt.show()"
      ]
    },
    {
      "cell_type": "markdown",
      "metadata": {
        "id": "XHk-RvsIuLWR"
      },
      "source": [
        "For Naive bayes:"
      ]
    },
    {
      "cell_type": "code",
      "execution_count": null,
      "metadata": {
        "colab": {
          "base_uri": "https://localhost:8080/",
          "height": 273
        },
        "id": "5qB8PbcTubUP",
        "outputId": "d52fd360-d1de-485d-f616-52dba060ec8c"
      },
      "outputs": [
        {
          "output_type": "display_data",
          "data": {
            "text/plain": [
              "<Figure size 432x288 with 2 Axes>"
            ],
            "image/png": "[encoded data removed]"
          },
          "metadata": {}
        }
      ],
      "source": [
        "import seaborn as sn\n",
        "df_cm = pd.DataFrame(metrics.confusion_matrix(y_testB, y_predB_nb), range(9), range(9))\n",
        "sn.set(font_scale=1.4)\n",
        "sn.heatmap(df_cm, annot=True, annot_kws={\"size\": 7}) # font size\n",
        "plt.show()"
      ]
    },
    {
      "cell_type": "markdown",
      "metadata": {
        "id": "ROb4XyXmuw9v"
      },
      "source": [
        "True Positive Rate (Sensitivity)\n",
        "\n",
        "True Positive rate can be calculated as Rate = TP/TP+FN Where TP = Total true positives FN = Total False Negatives"
      ]
    },
    {
      "cell_type": "markdown",
      "metadata": {
        "id": "Vuv5Nt2Cuz5c"
      },
      "source": [
        "For Decision Tree:"
      ]
    },
    {
      "cell_type": "code",
      "execution_count": null,
      "metadata": {
        "colab": {
          "base_uri": "https://localhost:8080/"
        },
        "id": "KNCVHxDpu6WL",
        "outputId": "573f477d-d31d-4a7b-c029-6f6c5b019cef"
      },
      "outputs": [
        {
          "output_type": "stream",
          "name": "stdout",
          "text": [
            "True Positive rate for naive bayes is:  0.7853280172240142\n"
          ]
        }
      ],
      "source": [
        "cnf_matrix = metrics.confusion_matrix(y_testB, Y_predB)\n",
        "\n",
        "fp_dt = cnf_matrix.sum(axis=0) - numpy.diag(cnf_matrix)\n",
        "fn_dt = cnf_matrix.sum(axis=1) - numpy.diag(cnf_matrix)\n",
        "tp_dt = numpy.diag(cnf_matrix)\n",
        "tn_dt = cnf_matrix.sum() - (fp_dt + fp_dt + fp_dt)\n",
        "\n",
        "fp_dt = fp_dt.astype(float)\n",
        "fn_dt = fn_dt.astype(float)\n",
        "tp_dt = tp_dt.astype(float)\n",
        "tn_dt = tn_dt.astype(float)\n",
        "\n",
        "TPR_dt = tp_dt/(tp_dt+fn_dt)\n",
        "tpr_dt =0\n",
        "for i in TPR_dt:\n",
        "  tpr_dt +=i\n",
        "tpr_dt = tpr_dt/len(TPR_dt)\n",
        "print(\"True Positive rate for naive bayes is: \", tpr_dt)"
      ]
    },
    {
      "cell_type": "markdown",
      "metadata": {
        "id": "vgM5aEXlu34f"
      },
      "source": [
        "For Naive bayes:"
      ]
    },
    {
      "cell_type": "code",
      "execution_count": null,
      "metadata": {
        "colab": {
          "base_uri": "https://localhost:8080/"
        },
        "id": "ISn56HJXvARt",
        "outputId": "f46f8c87-3dc4-4740-df30-9a0231a14450"
      },
      "outputs": [
        {
          "output_type": "stream",
          "name": "stdout",
          "text": [
            "True Positive rate for naive bayes is:  0.5958910278851758\n"
          ]
        }
      ],
      "source": [
        "cnf_matrix = metrics.confusion_matrix(y_testB, y_predB_nb)\n",
        "\n",
        "fp_nb = cnf_matrix.sum(axis=0) - numpy.diag(cnf_matrix)\n",
        "fn_nb = cnf_matrix.sum(axis=1) - numpy.diag(cnf_matrix)\n",
        "tp_nb = numpy.diag(cnf_matrix)\n",
        "tn_nb = cnf_matrix.sum() - (fp_nb + fp_nb + fp_nb)\n",
        "\n",
        "fp_nb = fp_nb.astype(float)\n",
        "fn_nb = fn_nb.astype(float)\n",
        "tp_nb = tp_nb.astype(float)\n",
        "tn_nb = tn_nb.astype(float)\n",
        "\n",
        "TPR_nb = tp_nb/(tp_nb+fn_nb)\n",
        "tpr_nb =0\n",
        "for i in TPR_nb:\n",
        "  tpr_nb +=i\n",
        "tpr_nb = tpr_nb/len(TPR_nb)\n",
        "print(\"True Positive rate for naive bayes is: \", tpr_nb)"
      ]
    },
    {
      "cell_type": "markdown",
      "metadata": {
        "id": "XzFIx9OIvFQb"
      },
      "source": [
        "False Positive Rate (Specificity)\n",
        "\n",
        "False Positive rate can be calculated as False Positive Rate = FP/FP+TN Where FP = Total False positives TN = Total True Negatives"
      ]
    },
    {
      "cell_type": "markdown",
      "metadata": {
        "id": "dh69e4tvvI_J"
      },
      "source": [
        "For Decision Tree:"
      ]
    },
    {
      "cell_type": "code",
      "execution_count": null,
      "metadata": {
        "colab": {
          "base_uri": "https://localhost:8080/"
        },
        "id": "YaVGJVaPvNdt",
        "outputId": "b75aa60c-c5da-452e-f1b9-c02b1d770d49"
      },
      "outputs": [
        {
          "output_type": "stream",
          "name": "stdout",
          "text": [
            "False Positive rate for naive bayes is:  0.02984820033142855\n"
          ]
        }
      ],
      "source": [
        "FPR_dt = fp_dt/(fp_dt+tn_dt)\n",
        "fpr_dt =0\n",
        "for i in FPR_dt:\n",
        "  fpr_dt +=i\n",
        "fpr_dt = fpr_dt/len(FPR_dt)\n",
        "print(\"False Positive rate for naive bayes is: \", fpr_dt)"
      ]
    },
    {
      "cell_type": "markdown",
      "metadata": {
        "id": "jlEgrTrYvLHq"
      },
      "source": [
        "For Naive bayes:"
      ]
    },
    {
      "cell_type": "code",
      "execution_count": null,
      "metadata": {
        "colab": {
          "base_uri": "https://localhost:8080/"
        },
        "id": "nefJKFVlvRO3",
        "outputId": "0af47f92-c954-460b-e16e-5a0e7e932810"
      },
      "outputs": [
        {
          "output_type": "stream",
          "name": "stdout",
          "text": [
            "False Positive rate for naive bayes is:  0.06022673966963083\n"
          ]
        }
      ],
      "source": [
        "FPR_nb = fp_nb/(fp_nb+tn_nb)\n",
        "fpr_nb =0\n",
        "for i in FPR_nb:\n",
        "  fpr_nb +=i\n",
        "fpr_nb = fpr_nb/len(FPR_nb)\n",
        "print(\"False Positive rate for naive bayes is: \", fpr_nb)"
      ]
    },
    {
      "cell_type": "markdown",
      "metadata": {
        "id": "2toKPX0xvTKc"
      },
      "source": [
        "ROC Curves:"
      ]
    },
    {
      "cell_type": "markdown",
      "metadata": {
        "id": "9RrjcW90vVUP"
      },
      "source": [
        "For Decision Tree:"
      ]
    },
    {
      "cell_type": "code",
      "execution_count": null,
      "metadata": {
        "colab": {
          "base_uri": "https://localhost:8080/",
          "height": 315
        },
        "id": "sNwWZD8LvbcG",
        "outputId": "998d6076-1492-4a2d-eb85-c42d8930f0a3"
      },
      "outputs": [
        {
          "output_type": "display_data",
          "data": {
            "text/plain": [
              "<Figure size 432x288 with 1 Axes>"
            ],
            "image/png": "[encoded data removed]"
          },
          "metadata": {}
        }
      ],
      "source": [
        "plt.plot(FPR_dt,TPR_dt, color='orange', label='ROC')\n",
        "plt.plot([0, 1], [0, 1], color='darkblue', linestyle='--')\n",
        "plt.xlabel('False Positive Rate')\n",
        "plt.ylabel('True Positive Rate')\n",
        "plt.title('ROC Curve for Decision Trees')\n",
        "plt.legend()\n",
        "plt.show()"
      ]
    },
    {
      "cell_type": "markdown",
      "metadata": {
        "id": "vs3nJ8lgvXLc"
      },
      "source": [
        "For Naive Bayes:"
      ]
    },
    {
      "cell_type": "code",
      "execution_count": null,
      "metadata": {
        "colab": {
          "base_uri": "https://localhost:8080/",
          "height": 315
        },
        "id": "eiLYUatnvhEF",
        "outputId": "314ebe65-4c3a-4376-ae4c-bd813c22ed39"
      },
      "outputs": [
        {
          "output_type": "display_data",
          "data": {
            "text/plain": [
              "<Figure size 432x288 with 1 Axes>"
            ],
            "image/png": "[encoded data removed]"
          },
          "metadata": {}
        }
      ],
      "source": [
        "plt.plot(FPR_nb,TPR_nb, color='orange', label='ROC')\n",
        "plt.plot([0, 1], [0, 1], color='darkblue', linestyle='--')\n",
        "plt.xlabel('False Positive Rate')\n",
        "plt.ylabel('True Positive Rate')\n",
        "plt.title('ROC Curve for Naive Bayes')\n",
        "plt.legend()\n",
        "plt.show()"
      ]
    },
    {
      "cell_type": "markdown",
      "metadata": {
        "id": "NTo8FHOrvlpG"
      },
      "source": [
        "Classification Report:"
      ]
    },
    {
      "cell_type": "markdown",
      "metadata": {
        "id": "yHmG6PXKvoST"
      },
      "source": [
        "For decision Tree:"
      ]
    },
    {
      "cell_type": "code",
      "execution_count": null,
      "metadata": {
        "colab": {
          "base_uri": "https://localhost:8080/"
        },
        "id": "mqRe1_tbvu3H",
        "outputId": "350ff778-b6d6-486f-c9d1-55f09ce923ab"
      },
      "outputs": [
        {
          "output_type": "stream",
          "name": "stdout",
          "text": [
            "                       precision    recall  f1-score   support\n",
            "\n",
            "    Mirai-Ackflooding       0.15      0.23      0.18     16582\n",
            "      DoS-Synflooding       1.00      1.00      1.00     17786\n",
            "         Scan Port OS       1.00      1.00      1.00     15896\n",
            "Mirai-Hostbruteforceg       1.00      1.00      1.00     36403\n",
            "   Mirai-UDP Flooding       0.86      0.76      0.80     55007\n",
            "  Mirai-HTTP Flooding       0.09      0.08      0.09     16678\n",
            "               Normal       1.00      1.00      1.00     12088\n",
            "        Scan Hostport       1.00      1.00      1.00      6645\n",
            "    MITM ARP Spoofing       1.00      1.00      1.00     10650\n",
            "\n",
            "             accuracy                           0.78    187735\n",
            "            macro avg       0.79      0.79      0.79    187735\n",
            "         weighted avg       0.80      0.78      0.79    187735\n",
            "\n"
          ]
        }
      ],
      "source": [
        "print(metrics.classification_report(y_testB, Y_predB, labels=['Mirai-Ackflooding','DoS-Synflooding','Scan Port OS','Mirai-Hostbruteforceg','Mirai-UDP Flooding','Mirai-HTTP Flooding','Normal','Scan Hostport','MITM ARP Spoofing']))"
      ]
    },
    {
      "cell_type": "markdown",
      "metadata": {
        "id": "V9EnfPfrvqBQ"
      },
      "source": [
        "For Naive bayes:"
      ]
    },
    {
      "cell_type": "code",
      "execution_count": null,
      "metadata": {
        "colab": {
          "base_uri": "https://localhost:8080/"
        },
        "id": "aTxi7LGdv08b",
        "outputId": "a9dddf28-66ea-4ef6-979d-66115781d77a"
      },
      "outputs": [
        {
          "output_type": "stream",
          "name": "stdout",
          "text": [
            "                       precision    recall  f1-score   support\n",
            "\n",
            "    Mirai-Ackflooding       0.32      0.50      0.40     16582\n",
            "      DoS-Synflooding       0.99      1.00      0.99     17786\n",
            "         Scan Port OS       0.64      0.89      0.74     15896\n",
            "Mirai-Hostbruteforceg       0.59      0.33      0.42     36403\n",
            "   Mirai-UDP Flooding       0.97      0.67      0.80     55007\n",
            "  Mirai-HTTP Flooding       0.32      0.14      0.19     16678\n",
            "               Normal       0.95      0.83      0.89     12088\n",
            "        Scan Hostport       0.27      0.05      0.08      6645\n",
            "    MITM ARP Spoofing       0.23      0.96      0.37     10650\n",
            "\n",
            "             accuracy                           0.60    187735\n",
            "            macro avg       0.59      0.60      0.54    187735\n",
            "         weighted avg       0.69      0.60      0.60    187735\n",
            "\n"
          ]
        }
      ],
      "source": [
        "print(metrics.classification_report(y_testB, y_predB_nb, labels=['Mirai-Ackflooding','DoS-Synflooding','Scan Port OS','Mirai-Hostbruteforceg','Mirai-UDP Flooding','Mirai-HTTP Flooding','Normal','Scan Hostport','MITM ARP Spoofing']))"
      ]
    }
  ],
  "metadata": {
    "colab": {
      "provenance": []
    },
    "kernelspec": {
      "display_name": "Python 3",
      "name": "python3"
    }
  },
  "nbformat": 4,
  "nbformat_minor": 0
}